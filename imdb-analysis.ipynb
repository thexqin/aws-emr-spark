{
 "cells": [
  {
   "cell_type": "markdown",
   "metadata": {
    "id": "9Ee5w944K83f"
   },
   "source": [
    "# Analysis of IMDB Data on AWS EMR with Spark"
   ]
  },
  {
   "cell_type": "code",
   "execution_count": 1,
   "metadata": {
    "id": "nwqXLJElLLUO"
   },
   "outputs": [],
   "source": [
    "# Analyze a subset of IMDB's actors, genres, movie actors, and movie ratings data\n",
    "# This dataset comes to us from Kaggle (https://www.kaggle.com/datasets/ashirwadsangwan/imdb-dataset)"
   ]
  },
  {
   "cell_type": "markdown",
   "metadata": {
    "id": "TYVzpUkwiI7H"
   },
   "source": [
    "# Part I – Installation and Initial Setup"
   ]
  },
  {
   "cell_type": "code",
   "execution_count": null,
   "metadata": {
    "id": "mmV8WmjcTBFD",
    "scrolled": true,
    "tags": []
   },
   "outputs": [],
   "source": [
    "%%info"
   ]
  },
  {
   "cell_type": "code",
   "execution_count": null,
   "metadata": {
    "id": "HkUKs_IAgxXd",
    "scrolled": true,
    "tags": []
   },
   "outputs": [],
   "source": [
    "sc.install_pypi_package(\"pandas==1.0.5\")\n",
    "sc.install_pypi_package(\"matplotlib==3.2.1\")"
   ]
  },
  {
   "cell_type": "code",
   "execution_count": 9,
   "metadata": {
    "execution": {
     "iopub.execute_input": "2024-12-03T16:18:38.838557Z",
     "iopub.status.busy": "2024-12-03T16:18:38.838239Z",
     "iopub.status.idle": "2024-12-03T16:18:39.602320Z",
     "shell.execute_reply": "2024-12-03T16:18:39.601443Z",
     "shell.execute_reply.started": "2024-12-03T16:18:38.838529Z"
    },
    "id": "6t-rZIEM883C",
    "tags": []
   },
   "outputs": [
    {
     "data": {
      "application/vnd.jupyter.widget-view+json": {
       "model_id": "8f41bd437ccb400c93ea8ade107e59ac",
       "version_major": 2,
       "version_minor": 0
      },
      "text/plain": [
       "VBox()"
      ]
     },
     "metadata": {},
     "output_type": "display_data"
    },
    {
     "data": {
      "application/vnd.jupyter.widget-view+json": {
       "model_id": "",
       "version_major": 2,
       "version_minor": 0
      },
      "text/plain": [
       "FloatProgress(value=0.0, bar_style='info', description='Progress:', layout=Layout(height='25px', width='50%'),…"
      ]
     },
     "metadata": {},
     "output_type": "display_data"
    },
    {
     "name": "stdout",
     "output_type": "stream",
     "text": [
      "Package                    Version\n",
      "-------------------------- -----------\n",
      "aws-cfn-bootstrap          2.0\n",
      "beautifulsoup4             4.9.3\n",
      "boto                       2.49.0\n",
      "click                      8.1.7\n",
      "cycler                     0.11.0\n",
      "docutils                   0.14\n",
      "jmespath                   1.0.1\n",
      "joblib                     1.3.2\n",
      "kiwisolver                 1.4.5\n",
      "lockfile                   0.11.0\n",
      "lxml                       4.9.3\n",
      "matplotlib                 3.2.1\n",
      "mysqlclient                1.4.2\n",
      "nltk                       3.8.1\n",
      "nose                       1.3.4\n",
      "numpy                      1.20.0\n",
      "pandas                     1.0.5\n",
      "pip                        20.2.2\n",
      "py-dateutil                2.2\n",
      "pyparsing                  3.1.4\n",
      "pystache                   0.5.4\n",
      "python-daemon              2.2.3\n",
      "python-dateutil            2.9.0.post0\n",
      "python37-sagemaker-pyspark 1.4.2\n",
      "pytz                       2023.3\n",
      "PyYAML                     5.4.1\n",
      "regex                      2021.11.10\n",
      "setuptools                 28.8.0\n",
      "simplejson                 3.2.0\n",
      "six                        1.13.0\n",
      "tqdm                       4.66.1\n",
      "typing-extensions          4.7.1\n",
      "wheel                      0.29.0\n",
      "windmill                   1.6\n",
      "\n",
      "WARNING: The directory '/home/.cache/pip' or its parent directory is not owned or is not writable by the current user. The cache has been disabled. Check the permissions and owner of that directory. If executing pip with sudo, you may want sudo's -H flag."
     ]
    }
   ],
   "source": [
    "# verify\n",
    "\n",
    "sc.list_packages()"
   ]
  },
  {
   "cell_type": "code",
   "execution_count": 10,
   "metadata": {
    "execution": {
     "iopub.execute_input": "2024-12-03T16:18:41.949156Z",
     "iopub.status.busy": "2024-12-03T16:18:41.948797Z",
     "iopub.status.idle": "2024-12-03T16:18:44.233167Z",
     "shell.execute_reply": "2024-12-03T16:18:44.232098Z",
     "shell.execute_reply.started": "2024-12-03T16:18:41.949124Z"
    },
    "id": "9NmnEm3h85bq"
   },
   "outputs": [
    {
     "data": {
      "application/vnd.jupyter.widget-view+json": {
       "model_id": "18257e53cb384523858064332b3b1668",
       "version_major": 2,
       "version_minor": 0
      },
      "text/plain": [
       "VBox()"
      ]
     },
     "metadata": {},
     "output_type": "display_data"
    },
    {
     "data": {
      "application/vnd.jupyter.widget-view+json": {
       "model_id": "",
       "version_major": 2,
       "version_minor": 0
      },
      "text/plain": [
       "FloatProgress(value=0.0, bar_style='info', description='Progress:', layout=Layout(height='25px', width='50%'),…"
      ]
     },
     "metadata": {},
     "output_type": "display_data"
    }
   ],
   "source": [
    "# import\n",
    "\n",
    "import pandas as pd\n",
    "import matplotlib.pyplot as plt"
   ]
  },
  {
   "cell_type": "markdown",
   "metadata": {
    "id": "5iTt4HB8jPnP"
   },
   "source": [
    "## Loading Data"
   ]
  },
  {
   "cell_type": "code",
   "execution_count": 11,
   "metadata": {
    "execution": {
     "iopub.execute_input": "2024-12-03T16:18:47.100670Z",
     "iopub.status.busy": "2024-12-03T16:18:47.100348Z",
     "iopub.status.idle": "2024-12-03T16:20:02.693402Z",
     "shell.execute_reply": "2024-12-03T16:20:02.692404Z",
     "shell.execute_reply.started": "2024-12-03T16:18:47.100643Z"
    },
    "id": "ckZpqe83Ugmg"
   },
   "outputs": [
    {
     "data": {
      "application/vnd.jupyter.widget-view+json": {
       "model_id": "2280f83e15c2499ab28a144aaa63b2dd",
       "version_major": 2,
       "version_minor": 0
      },
      "text/plain": [
       "VBox()"
      ]
     },
     "metadata": {},
     "output_type": "display_data"
    },
    {
     "data": {
      "application/vnd.jupyter.widget-view+json": {
       "model_id": "",
       "version_major": 2,
       "version_minor": 0
      },
      "text/plain": [
       "FloatProgress(value=0.0, bar_style='info', description='Progress:', layout=Layout(height='25px', width='50%'),…"
      ]
     },
     "metadata": {},
     "output_type": "display_data"
    }
   ],
   "source": [
    "# load all data from S3 into spark dataframes\n",
    "\n",
    "name = spark.read.csv('name.basics.new.tsv', sep='\\t', header=True, inferSchema=True)\n",
    "title = spark.read.csv('title.basic.new.tsv', sep='\\t', header=True, inferSchema=True)\n",
    "principle = spark.read.csv('title.principles.new.tsv', sep='\\t', header=True, inferSchema=True)\n",
    "rating = spark.read.csv('title.ratings.new.tsv', sep='\\t', header=True, inferSchema=True)"
   ]
  },
  {
   "cell_type": "code",
   "execution_count": 12,
   "metadata": {
    "execution": {
     "iopub.execute_input": "2024-12-03T16:20:05.239899Z",
     "iopub.status.busy": "2024-12-03T16:20:05.239548Z",
     "iopub.status.idle": "2024-12-03T16:20:05.329089Z",
     "shell.execute_reply": "2024-12-03T16:20:05.327759Z",
     "shell.execute_reply.started": "2024-12-03T16:20:05.239869Z"
    },
    "id": "mfalPh8rw0OM"
   },
   "outputs": [
    {
     "data": {
      "application/vnd.jupyter.widget-view+json": {
       "model_id": "8a2473a040f64429b110b03be08ace9e",
       "version_major": 2,
       "version_minor": 0
      },
      "text/plain": [
       "VBox()"
      ]
     },
     "metadata": {},
     "output_type": "display_data"
    },
    {
     "data": {
      "application/vnd.jupyter.widget-view+json": {
       "model_id": "",
       "version_major": 2,
       "version_minor": 0
      },
      "text/plain": [
       "FloatProgress(value=0.0, bar_style='info', description='Progress:', layout=Layout(height='25px', width='50%'),…"
      ]
     },
     "metadata": {},
     "output_type": "display_data"
    }
   ],
   "source": [
    "# these are essential functions, might as well bring them in all at once in the beginning\n",
    "\n",
    "from pyspark.sql.functions import collect_set, col, split, explode, countDistinct, avg, max, min, first, last, count, round"
   ]
  },
  {
   "cell_type": "markdown",
   "metadata": {
    "id": "1TQI9h5ejWMe"
   },
   "source": [
    "## Name Basics"
   ]
  },
  {
   "cell_type": "code",
   "execution_count": 13,
   "metadata": {
    "colab": {
     "base_uri": "https://localhost:8080/"
    },
    "execution": {
     "iopub.execute_input": "2024-12-03T16:20:07.405711Z",
     "iopub.status.busy": "2024-12-03T16:20:07.405367Z",
     "iopub.status.idle": "2024-12-03T16:20:14.734302Z",
     "shell.execute_reply": "2024-12-03T16:20:14.733345Z",
     "shell.execute_reply.started": "2024-12-03T16:20:07.405684Z"
    },
    "id": "EyYe__1PVC0f",
    "outputId": "1a6c75ea-bd4d-4cc0-a231-d8c70b987ae3"
   },
   "outputs": [
    {
     "data": {
      "application/vnd.jupyter.widget-view+json": {
       "model_id": "455ee84a402a42248f0bfdde5e94dd94",
       "version_major": 2,
       "version_minor": 0
      },
      "text/plain": [
       "VBox()"
      ]
     },
     "metadata": {},
     "output_type": "display_data"
    },
    {
     "data": {
      "application/vnd.jupyter.widget-view+json": {
       "model_id": "",
       "version_major": 2,
       "version_minor": 0
      },
      "text/plain": [
       "FloatProgress(value=0.0, bar_style='info', description='Progress:', layout=Layout(height='25px', width='50%'),…"
      ]
     },
     "metadata": {},
     "output_type": "display_data"
    },
    {
     "name": "stdout",
     "output_type": "stream",
     "text": [
      "root\n",
      " |-- nconst: string (nullable = true)\n",
      " |-- primaryName: string (nullable = true)\n",
      " |-- birthYear: string (nullable = true)\n",
      " |-- deathYear: string (nullable = true)\n",
      " |-- primaryProfession: string (nullable = true)\n",
      " |-- knownForTitles: string (nullable = true)\n",
      "\n",
      "+---------+---------------+---------+---------+-----------------------------------+---------------------------------------+\n",
      "|nconst   |primaryName    |birthYear|deathYear|primaryProfession                  |knownForTitles                         |\n",
      "+---------+---------------+---------+---------+-----------------------------------+---------------------------------------+\n",
      "|nm0000001|Fred Astaire   |1899     |1987     |soundtrack,actor,miscellaneous     |tt0027125,tt0050419,tt0053137,tt0072308|\n",
      "|nm0000002|Lauren Bacall  |1924     |2014     |actress,soundtrack                 |tt0075213,tt0117057,tt0038355,tt0037382|\n",
      "|nm0000003|Brigitte Bardot|1934     |\\N       |actress,soundtrack,music_department|tt0049189,tt0054452,tt0056404,tt0057345|\n",
      "+---------+---------------+---------+---------+-----------------------------------+---------------------------------------+\n",
      "only showing top 3 rows\n",
      "\n",
      "13329316"
     ]
    }
   ],
   "source": [
    "# Display the schema below\n",
    "\n",
    "name.printSchema()\n",
    "name.show(3, truncate=False)\n",
    "name.count()"
   ]
  },
  {
   "cell_type": "code",
   "execution_count": 14,
   "metadata": {
    "colab": {
     "base_uri": "https://localhost:8080/"
    },
    "execution": {
     "iopub.execute_input": "2024-12-03T16:20:34.231413Z",
     "iopub.status.busy": "2024-12-03T16:20:34.231085Z",
     "iopub.status.idle": "2024-12-03T16:20:35.017883Z",
     "shell.execute_reply": "2024-12-03T16:20:35.016956Z",
     "shell.execute_reply.started": "2024-12-03T16:20:34.231386Z"
    },
    "id": "u92QErUghjp0",
    "outputId": "b2d2743e-a0f5-4c05-97c4-12a39b7b4059"
   },
   "outputs": [
    {
     "data": {
      "application/vnd.jupyter.widget-view+json": {
       "model_id": "c6c0bf3ec78b4acc862eee94c4c45d91",
       "version_major": 2,
       "version_minor": 0
      },
      "text/plain": [
       "VBox()"
      ]
     },
     "metadata": {},
     "output_type": "display_data"
    },
    {
     "data": {
      "application/vnd.jupyter.widget-view+json": {
       "model_id": "",
       "version_major": 2,
       "version_minor": 0
      },
      "text/plain": [
       "FloatProgress(value=0.0, bar_style='info', description='Progress:', layout=Layout(height='25px', width='50%'),…"
      ]
     },
     "metadata": {},
     "output_type": "display_data"
    },
    {
     "name": "stdout",
     "output_type": "stream",
     "text": [
      "+---------+-------------------+-------------------------------------+---------+\n",
      "|nconst   |primaryName        |primaryProfession                    |birthYear|\n",
      "+---------+-------------------+-------------------------------------+---------+\n",
      "|nm0000001|Fred Astaire       |soundtrack,actor,miscellaneous       |1899     |\n",
      "|nm0000002|Lauren Bacall      |actress,soundtrack                   |1924     |\n",
      "|nm0000003|Brigitte Bardot    |actress,soundtrack,music_department  |1934     |\n",
      "|nm0000004|John Belushi       |actor,soundtrack,writer              |1949     |\n",
      "|nm0000005|Ingmar Bergman     |writer,director,actor                |1918     |\n",
      "|nm0000006|Ingrid Bergman     |actress,soundtrack,producer          |1915     |\n",
      "|nm0000007|Humphrey Bogart    |actor,soundtrack,producer            |1899     |\n",
      "|nm0000008|Marlon Brando      |actor,soundtrack,director            |1924     |\n",
      "|nm0000009|Richard Burton     |actor,soundtrack,producer            |1925     |\n",
      "|nm0000010|James Cagney       |actor,soundtrack,director            |1899     |\n",
      "|nm0000011|Gary Cooper        |actor,soundtrack,stunts              |1901     |\n",
      "|nm0000012|Bette Davis        |actress,soundtrack,make_up_department|1908     |\n",
      "|nm0000013|Doris Day          |soundtrack,actress,producer          |1922     |\n",
      "|nm0000014|Olivia de Havilland|actress,soundtrack                   |1916     |\n",
      "|nm0000015|James Dean         |actor,miscellaneous                  |1931     |\n",
      "+---------+-------------------+-------------------------------------+---------+\n",
      "only showing top 15 rows"
     ]
    }
   ],
   "source": [
    "# Display the first 15 rows with the following columns:\n",
    "\n",
    "# nconst\n",
    "# primaryName\n",
    "# primaryProfession\n",
    "# birthYear\n",
    "\n",
    "name.select('nconst', 'primaryName', 'primaryProfession', 'birthYear').show(15, truncate=False)"
   ]
  },
  {
   "cell_type": "markdown",
   "metadata": {
    "id": "vx9pBDW9jzdI"
   },
   "source": [
    "## Title Basics"
   ]
  },
  {
   "cell_type": "code",
   "execution_count": 15,
   "metadata": {
    "colab": {
     "base_uri": "https://localhost:8080/"
    },
    "execution": {
     "iopub.execute_input": "2024-12-03T16:20:44.301298Z",
     "iopub.status.busy": "2024-12-03T16:20:44.300937Z",
     "iopub.status.idle": "2024-12-03T16:20:49.598508Z",
     "shell.execute_reply": "2024-12-03T16:20:49.597765Z",
     "shell.execute_reply.started": "2024-12-03T16:20:44.301267Z"
    },
    "id": "FyeTLQrDgeAn",
    "outputId": "b1485c9a-2d95-401a-a550-c42306125fdc"
   },
   "outputs": [
    {
     "data": {
      "application/vnd.jupyter.widget-view+json": {
       "model_id": "6c20f2aa430f4672ab2e0927397609cf",
       "version_major": 2,
       "version_minor": 0
      },
      "text/plain": [
       "VBox()"
      ]
     },
     "metadata": {},
     "output_type": "display_data"
    },
    {
     "data": {
      "application/vnd.jupyter.widget-view+json": {
       "model_id": "",
       "version_major": 2,
       "version_minor": 0
      },
      "text/plain": [
       "FloatProgress(value=0.0, bar_style='info', description='Progress:', layout=Layout(height='25px', width='50%'),…"
      ]
     },
     "metadata": {},
     "output_type": "display_data"
    },
    {
     "name": "stdout",
     "output_type": "stream",
     "text": [
      "root\n",
      " |-- tconst: string (nullable = true)\n",
      " |-- titleType: string (nullable = true)\n",
      " |-- primaryTitle: string (nullable = true)\n",
      " |-- originalTitle: string (nullable = true)\n",
      " |-- isAdult: string (nullable = true)\n",
      " |-- startYear: string (nullable = true)\n",
      " |-- endYear: string (nullable = true)\n",
      " |-- runtimeMinutes: string (nullable = true)\n",
      " |-- genres: string (nullable = true)\n",
      "\n",
      "+---------+---------+----------------------+----------------------+-------+---------+-------+--------------+------------------------+\n",
      "|tconst   |titleType|primaryTitle          |originalTitle         |isAdult|startYear|endYear|runtimeMinutes|genres                  |\n",
      "+---------+---------+----------------------+----------------------+-------+---------+-------+--------------+------------------------+\n",
      "|tt0000001|short    |Carmencita            |Carmencita            |0      |1894     |\\N     |1             |Documentary,Short       |\n",
      "|tt0000002|short    |Le clown et ses chiens|Le clown et ses chiens|0      |1892     |\\N     |5             |Animation,Short         |\n",
      "|tt0000003|short    |Pauvre Pierrot        |Pauvre Pierrot        |0      |1892     |\\N     |4             |Animation,Comedy,Romance|\n",
      "+---------+---------+----------------------+----------------------+-------+---------+-------+--------------+------------------------+\n",
      "only showing top 3 rows\n",
      "\n",
      "10613322"
     ]
    }
   ],
   "source": [
    "# Display the schema below\n",
    "\n",
    "title.printSchema()\n",
    "title.show(3, truncate=False)\n",
    "title.count()"
   ]
  },
  {
   "cell_type": "code",
   "execution_count": 16,
   "metadata": {
    "colab": {
     "base_uri": "https://localhost:8080/"
    },
    "execution": {
     "iopub.execute_input": "2024-12-03T16:20:54.571617Z",
     "iopub.status.busy": "2024-12-03T16:20:54.571273Z",
     "iopub.status.idle": "2024-12-03T16:20:54.834332Z",
     "shell.execute_reply": "2024-12-03T16:20:54.833468Z",
     "shell.execute_reply.started": "2024-12-03T16:20:54.571587Z"
    },
    "id": "bSX1Plm8j3UH",
    "outputId": "8ceb681e-ef6b-4398-ca7d-0f054c4a2099"
   },
   "outputs": [
    {
     "data": {
      "application/vnd.jupyter.widget-view+json": {
       "model_id": "8627dded98c344d4aedc9c2ef462b89f",
       "version_major": 2,
       "version_minor": 0
      },
      "text/plain": [
       "VBox()"
      ]
     },
     "metadata": {},
     "output_type": "display_data"
    },
    {
     "data": {
      "application/vnd.jupyter.widget-view+json": {
       "model_id": "",
       "version_major": 2,
       "version_minor": 0
      },
      "text/plain": [
       "FloatProgress(value=0.0, bar_style='info', description='Progress:', layout=Layout(height='25px', width='50%'),…"
      ]
     },
     "metadata": {},
     "output_type": "display_data"
    },
    {
     "name": "stdout",
     "output_type": "stream",
     "text": [
      "+---------+---------+----------------------+------------------------+\n",
      "|tconst   |titleType|primaryTitle          |genres                  |\n",
      "+---------+---------+----------------------+------------------------+\n",
      "|tt0000001|short    |Carmencita            |Documentary,Short       |\n",
      "|tt0000002|short    |Le clown et ses chiens|Animation,Short         |\n",
      "|tt0000003|short    |Pauvre Pierrot        |Animation,Comedy,Romance|\n",
      "|tt0000004|short    |Un bon bock           |Animation,Short         |\n",
      "|tt0000005|short    |Blacksmith Scene      |Comedy,Short            |\n",
      "+---------+---------+----------------------+------------------------+\n",
      "only showing top 5 rows"
     ]
    }
   ],
   "source": [
    "# Display the first 5 rows with the following columns:\n",
    "\n",
    "# tconst\n",
    "# titleType\n",
    "# primaryTitle\n",
    "# genres\n",
    "\n",
    "title.select('tconst', 'titleType', 'primaryTitle', 'genres').show(5, truncate=False)"
   ]
  },
  {
   "cell_type": "code",
   "execution_count": 17,
   "metadata": {
    "colab": {
     "base_uri": "https://localhost:8080/"
    },
    "execution": {
     "iopub.execute_input": "2024-12-03T16:21:07.406768Z",
     "iopub.status.busy": "2024-12-03T16:21:07.406423Z",
     "iopub.status.idle": "2024-12-03T16:21:20.747087Z",
     "shell.execute_reply": "2024-12-03T16:21:20.746210Z",
     "shell.execute_reply.started": "2024-12-03T16:21:07.406738Z"
    },
    "id": "DWR_IBOKkhkg",
    "outputId": "77aca2bf-1e75-4992-d66d-09434c2248b6"
   },
   "outputs": [
    {
     "data": {
      "application/vnd.jupyter.widget-view+json": {
       "model_id": "7ccd35a476024d0fb5c0b98f61eaedfc",
       "version_major": 2,
       "version_minor": 0
      },
      "text/plain": [
       "VBox()"
      ]
     },
     "metadata": {},
     "output_type": "display_data"
    },
    {
     "data": {
      "application/vnd.jupyter.widget-view+json": {
       "model_id": "",
       "version_major": 2,
       "version_minor": 0
      },
      "text/plain": [
       "FloatProgress(value=0.0, bar_style='info', description='Progress:', layout=Layout(height='25px', width='50%'),…"
      ]
     },
     "metadata": {},
     "output_type": "display_data"
    },
    {
     "name": "stdout",
     "output_type": "stream",
     "text": [
      "+------------+\n",
      "|   titleType|\n",
      "+------------+\n",
      "|    tvSeries|\n",
      "|tvMiniSeries|\n",
      "|       movie|\n",
      "|   videoGame|\n",
      "|   tvSpecial|\n",
      "|       video|\n",
      "|     tvMovie|\n",
      "|   tvEpisode|\n",
      "|     tvShort|\n",
      "|       short|\n",
      "|     tvPilot|\n",
      "+------------+"
     ]
    }
   ],
   "source": [
    "# Display the unique title types below\n",
    "\n",
    "# title.select(collect_set('titleType').alias(\"titleType\")).show()\n",
    "\n",
    "title.select('titleType').distinct().show()"
   ]
  },
  {
   "cell_type": "code",
   "execution_count": 18,
   "metadata": {
    "colab": {
     "base_uri": "https://localhost:8080/"
    },
    "execution": {
     "iopub.execute_input": "2024-12-03T16:21:30.974762Z",
     "iopub.status.busy": "2024-12-03T16:21:30.974452Z",
     "iopub.status.idle": "2024-12-03T16:21:31.035347Z",
     "shell.execute_reply": "2024-12-03T16:21:31.034571Z",
     "shell.execute_reply.started": "2024-12-03T16:21:30.974734Z"
    },
    "id": "IZn0XsizlW5J",
    "outputId": "c110eb84-3d17-4652-c1cb-7ef139d87f18"
   },
   "outputs": [
    {
     "data": {
      "application/vnd.jupyter.widget-view+json": {
       "model_id": "cd7b43d690ad4da88a1101bdcfcccbae",
       "version_major": 2,
       "version_minor": 0
      },
      "text/plain": [
       "VBox()"
      ]
     },
     "metadata": {},
     "output_type": "display_data"
    },
    {
     "data": {
      "application/vnd.jupyter.widget-view+json": {
       "model_id": "",
       "version_major": 2,
       "version_minor": 0
      },
      "text/plain": [
       "FloatProgress(value=0.0, bar_style='info', description='Progress:', layout=Layout(height='25px', width='50%'),…"
      ]
     },
     "metadata": {},
     "output_type": "display_data"
    },
    {
     "name": "stdout",
     "output_type": "stream",
     "text": [
      "root\n",
      " |-- tconst: string (nullable = true)\n",
      " |-- titleType: string (nullable = true)\n",
      " |-- primaryTitle: string (nullable = true)\n",
      " |-- isAdult: string (nullable = true)\n",
      " |-- startYear: string (nullable = true)\n",
      " |-- endYear: string (nullable = true)\n",
      " |-- runtimeMinutes: string (nullable = true)\n",
      " |-- genres: string (nullable = true)"
     ]
    }
   ],
   "source": [
    "# Remove the 'originalTitle' from the dataframe and display the schema to verify it\n",
    "\n",
    "title2 = title.drop('originalTitle')\n",
    "title2.printSchema()"
   ]
  },
  {
   "cell_type": "code",
   "execution_count": 19,
   "metadata": {
    "colab": {
     "base_uri": "https://localhost:8080/"
    },
    "execution": {
     "iopub.execute_input": "2024-12-03T16:21:36.715722Z",
     "iopub.status.busy": "2024-12-03T16:21:36.715392Z",
     "iopub.status.idle": "2024-12-03T16:21:36.766663Z",
     "shell.execute_reply": "2024-12-03T16:21:36.765978Z",
     "shell.execute_reply.started": "2024-12-03T16:21:36.715693Z"
    },
    "id": "4Fmy8lSyMnw_",
    "outputId": "57ddec14-2643-4f58-94d4-99bca0bf689a"
   },
   "outputs": [
    {
     "data": {
      "application/vnd.jupyter.widget-view+json": {
       "model_id": "990475c42d6e4773834ed7fa1afe688d",
       "version_major": 2,
       "version_minor": 0
      },
      "text/plain": [
       "VBox()"
      ]
     },
     "metadata": {},
     "output_type": "display_data"
    },
    {
     "data": {
      "application/vnd.jupyter.widget-view+json": {
       "model_id": "",
       "version_major": 2,
       "version_minor": 0
      },
      "text/plain": [
       "FloatProgress(value=0.0, bar_style='info', description='Progress:', layout=Layout(height='25px', width='50%'),…"
      ]
     },
     "metadata": {},
     "output_type": "display_data"
    },
    {
     "name": "stdout",
     "output_type": "stream",
     "text": [
      "root\n",
      " |-- tconst: string (nullable = true)\n",
      " |-- titleType: string (nullable = true)\n",
      " |-- primaryTitle: string (nullable = true)\n",
      " |-- originalTitle: string (nullable = true)\n",
      " |-- isAdult: string (nullable = true)\n",
      " |-- startYear: string (nullable = true)\n",
      " |-- endYear: string (nullable = true)\n",
      " |-- runtimeMinutes: string (nullable = true)\n",
      " |-- genres: string (nullable = true)"
     ]
    }
   ],
   "source": [
    "# compared with the original schema\n",
    "\n",
    "title.printSchema()"
   ]
  },
  {
   "cell_type": "markdown",
   "metadata": {
    "id": "cqliwVRLkNGv"
   },
   "source": [
    "## Title Principals"
   ]
  },
  {
   "cell_type": "code",
   "execution_count": 20,
   "metadata": {
    "colab": {
     "base_uri": "https://localhost:8080/"
    },
    "execution": {
     "iopub.execute_input": "2024-12-03T16:21:46.343607Z",
     "iopub.status.busy": "2024-12-03T16:21:46.343282Z",
     "iopub.status.idle": "2024-12-03T16:22:05.691230Z",
     "shell.execute_reply": "2024-12-03T16:22:05.690197Z",
     "shell.execute_reply.started": "2024-12-03T16:21:46.343580Z"
    },
    "id": "Hx-uVWZ6gepk",
    "outputId": "97faf918-895c-481e-8c65-d57fd3163d3b"
   },
   "outputs": [
    {
     "data": {
      "application/vnd.jupyter.widget-view+json": {
       "model_id": "8f336b6ab02944688c0ff7005c37a6bc",
       "version_major": 2,
       "version_minor": 0
      },
      "text/plain": [
       "VBox()"
      ]
     },
     "metadata": {},
     "output_type": "display_data"
    },
    {
     "data": {
      "application/vnd.jupyter.widget-view+json": {
       "model_id": "",
       "version_major": 2,
       "version_minor": 0
      },
      "text/plain": [
       "FloatProgress(value=0.0, bar_style='info', description='Progress:', layout=Layout(height='25px', width='50%'),…"
      ]
     },
     "metadata": {},
     "output_type": "display_data"
    },
    {
     "name": "stdout",
     "output_type": "stream",
     "text": [
      "root\n",
      " |-- tconst: string (nullable = true)\n",
      " |-- ordering: integer (nullable = true)\n",
      " |-- nconst: string (nullable = true)\n",
      " |-- category: string (nullable = true)\n",
      " |-- job: string (nullable = true)\n",
      " |-- characters: string (nullable = true)\n",
      "\n",
      "+---------+--------+---------+---------------+-----------------------+----------+\n",
      "|tconst   |ordering|nconst   |category       |job                    |characters|\n",
      "+---------+--------+---------+---------------+-----------------------+----------+\n",
      "|tt0000001|1       |nm1588970|self           |\\N                     |[\"Self\"]  |\n",
      "|tt0000001|2       |nm0005690|director       |\\N                     |\\N        |\n",
      "|tt0000001|3       |nm0374658|cinematographer|director of photography|\\N        |\n",
      "+---------+--------+---------+---------------+-----------------------+----------+\n",
      "only showing top 3 rows\n",
      "\n",
      "60833800"
     ]
    }
   ],
   "source": [
    "# Display the schema below\n",
    "\n",
    "principle.printSchema()\n",
    "principle.show(3, truncate=False)\n",
    "principle.count()"
   ]
  },
  {
   "cell_type": "code",
   "execution_count": 21,
   "metadata": {
    "colab": {
     "base_uri": "https://localhost:8080/"
    },
    "execution": {
     "iopub.execute_input": "2024-12-03T16:22:19.493829Z",
     "iopub.status.busy": "2024-12-03T16:22:19.493496Z",
     "iopub.status.idle": "2024-12-03T16:22:20.267716Z",
     "shell.execute_reply": "2024-12-03T16:22:20.266793Z",
     "shell.execute_reply.started": "2024-12-03T16:22:19.493802Z"
    },
    "id": "XFCANpdQlvNo",
    "outputId": "0cb23197-a2e7-4f11-9d68-c2e2b1449420"
   },
   "outputs": [
    {
     "data": {
      "application/vnd.jupyter.widget-view+json": {
       "model_id": "ae64d63dfb57431c9fee8c8797576afa",
       "version_major": 2,
       "version_minor": 0
      },
      "text/plain": [
       "VBox()"
      ]
     },
     "metadata": {},
     "output_type": "display_data"
    },
    {
     "data": {
      "application/vnd.jupyter.widget-view+json": {
       "model_id": "",
       "version_major": 2,
       "version_minor": 0
      },
      "text/plain": [
       "FloatProgress(value=0.0, bar_style='info', description='Progress:', layout=Layout(height='25px', width='50%'),…"
      ]
     },
     "metadata": {},
     "output_type": "display_data"
    },
    {
     "name": "stdout",
     "output_type": "stream",
     "text": [
      "+---------+--------+---------+--------+--------+----------+\n",
      "|tconst   |ordering|nconst   |category|job     |characters|\n",
      "+---------+--------+---------+--------+--------+----------+\n",
      "|tt0000003|2       |nm1770680|producer|producer|\\N        |\n",
      "|tt0000005|4       |nm0249379|producer|producer|\\N        |\n",
      "|tt0000007|5       |nm0249379|producer|producer|\\N        |\n",
      "|tt0000020|2       |nm0666972|producer|producer|\\N        |\n",
      "|tt0000024|4       |nm0666972|producer|producer|\\N        |\n",
      "|tt0000025|2       |nm0666972|producer|producer|\\N        |\n",
      "|tt0000039|1       |nm0666972|producer|producer|\\N        |\n",
      "|tt0000041|2       |nm0525908|producer|producer|\\N        |\n",
      "|tt0000061|3       |nm0666972|producer|producer|\\N        |\n",
      "|tt0000089|3       |nm0525910|producer|producer|\\N        |\n",
      "|tt0000104|1       |nm0525910|producer|producer|\\N        |\n",
      "|tt0000121|5       |nm0666972|producer|producer|\\N        |\n",
      "|tt0000125|1       |nm0666972|producer|producer|\\N        |\n",
      "|tt0000147|6       |nm0103755|producer|producer|\\N        |\n",
      "|tt0000160|2       |nm0666972|producer|producer|\\N        |\n",
      "+---------+--------+---------+--------+--------+----------+\n",
      "only showing top 15 rows"
     ]
    }
   ],
   "source": [
    "# Display the first 15 rows where the \"category\" column is \"producer\"\n",
    "\n",
    "# principle.filter(col('category') == 'producer').show(15, truncate=False)\n",
    "principle.filter(principle.category == 'producer').show(15, truncate=False)"
   ]
  },
  {
   "cell_type": "markdown",
   "metadata": {
    "id": "zKpd8iB6kcZg"
   },
   "source": [
    "## Title Ratings"
   ]
  },
  {
   "cell_type": "code",
   "execution_count": 22,
   "metadata": {
    "colab": {
     "base_uri": "https://localhost:8080/"
    },
    "execution": {
     "iopub.execute_input": "2024-12-03T16:22:30.413710Z",
     "iopub.status.busy": "2024-12-03T16:22:30.413268Z",
     "iopub.status.idle": "2024-12-03T16:22:31.191146Z",
     "shell.execute_reply": "2024-12-03T16:22:31.190345Z",
     "shell.execute_reply.started": "2024-12-03T16:22:30.413672Z"
    },
    "id": "835FQg_Oge-z",
    "outputId": "0cc14576-89a9-4cf6-fe51-0554b6f56ac8"
   },
   "outputs": [
    {
     "data": {
      "application/vnd.jupyter.widget-view+json": {
       "model_id": "4e75ff12a2454d8e903a325077b98b71",
       "version_major": 2,
       "version_minor": 0
      },
      "text/plain": [
       "VBox()"
      ]
     },
     "metadata": {},
     "output_type": "display_data"
    },
    {
     "data": {
      "application/vnd.jupyter.widget-view+json": {
       "model_id": "",
       "version_major": 2,
       "version_minor": 0
      },
      "text/plain": [
       "FloatProgress(value=0.0, bar_style='info', description='Progress:', layout=Layout(height='25px', width='50%'),…"
      ]
     },
     "metadata": {},
     "output_type": "display_data"
    },
    {
     "name": "stdout",
     "output_type": "stream",
     "text": [
      "root\n",
      " |-- tconst: string (nullable = true)\n",
      " |-- averageRating: double (nullable = true)\n",
      " |-- numVotes: integer (nullable = true)\n",
      "\n",
      "+---------+-------------+--------+\n",
      "|tconst   |averageRating|numVotes|\n",
      "+---------+-------------+--------+\n",
      "|tt0000001|5.7          |2033    |\n",
      "|tt0000002|5.7          |272     |\n",
      "|tt0000003|6.5          |1977    |\n",
      "+---------+-------------+--------+\n",
      "only showing top 3 rows\n",
      "\n",
      "1412275"
     ]
    }
   ],
   "source": [
    "# Display the schema below\n",
    "\n",
    "rating.printSchema()\n",
    "rating.show(3, truncate=False)\n",
    "rating.count()"
   ]
  },
  {
   "cell_type": "code",
   "execution_count": 23,
   "metadata": {
    "colab": {
     "base_uri": "https://localhost:8080/"
    },
    "execution": {
     "iopub.execute_input": "2024-12-03T16:22:37.325855Z",
     "iopub.status.busy": "2024-12-03T16:22:37.325512Z",
     "iopub.status.idle": "2024-12-03T16:22:39.614385Z",
     "shell.execute_reply": "2024-12-03T16:22:39.613271Z",
     "shell.execute_reply.started": "2024-12-03T16:22:37.325829Z"
    },
    "id": "XPk2hU7oh3TM",
    "outputId": "092794f2-682d-4686-d381-7e40a30dc227"
   },
   "outputs": [
    {
     "data": {
      "application/vnd.jupyter.widget-view+json": {
       "model_id": "ddb90736b7724a74a1cea131aa61a3a9",
       "version_major": 2,
       "version_minor": 0
      },
      "text/plain": [
       "VBox()"
      ]
     },
     "metadata": {},
     "output_type": "display_data"
    },
    {
     "data": {
      "application/vnd.jupyter.widget-view+json": {
       "model_id": "",
       "version_major": 2,
       "version_minor": 0
      },
      "text/plain": [
       "FloatProgress(value=0.0, bar_style='info', description='Progress:', layout=Layout(height='25px', width='50%'),…"
      ]
     },
     "metadata": {},
     "output_type": "display_data"
    },
    {
     "name": "stdout",
     "output_type": "stream",
     "text": [
      "+---------+-------------+--------+\n",
      "|   tconst|averageRating|numVotes|\n",
      "+---------+-------------+--------+\n",
      "|tt0111161|          9.3| 2868594|\n",
      "|tt0468569|          9.0| 2850372|\n",
      "|tt1375666|          8.8| 2531543|\n",
      "|tt0137523|          8.8| 2303989|\n",
      "|tt0944947|          9.2| 2265760|\n",
      "|tt0109830|          8.8| 2239746|\n",
      "|tt0110912|          8.9| 2203191|\n",
      "|tt0903747|          9.5| 2114358|\n",
      "|tt0816692|          8.7| 2073181|\n",
      "|tt0133093|          8.7| 2038364|\n",
      "+---------+-------------+--------+\n",
      "only showing top 10 rows"
     ]
    }
   ],
   "source": [
    "# Display the first 10 rows in a descending order by the number of votes\n",
    "\n",
    "rating.sort(col('numVotes').desc()).show(10)"
   ]
  },
  {
   "cell_type": "markdown",
   "metadata": {
    "id": "KamkX7UFpjy2"
   },
   "source": [
    "## Overview of Data"
   ]
  },
  {
   "cell_type": "code",
   "execution_count": 24,
   "metadata": {
    "colab": {
     "base_uri": "https://localhost:8080/"
    },
    "execution": {
     "iopub.execute_input": "2024-12-03T16:22:46.244499Z",
     "iopub.status.busy": "2024-12-03T16:22:46.244129Z",
     "iopub.status.idle": "2024-12-03T16:23:13.614129Z",
     "shell.execute_reply": "2024-12-03T16:23:13.613270Z",
     "shell.execute_reply.started": "2024-12-03T16:22:46.244460Z"
    },
    "id": "9IybV49rpqJ9",
    "outputId": "6bdd429d-55e6-4d82-b85a-2efc486c69d8"
   },
   "outputs": [
    {
     "data": {
      "application/vnd.jupyter.widget-view+json": {
       "model_id": "48759dadf2c44edea0237fc4d00d7b5c",
       "version_major": 2,
       "version_minor": 0
      },
      "text/plain": [
       "VBox()"
      ]
     },
     "metadata": {},
     "output_type": "display_data"
    },
    {
     "data": {
      "application/vnd.jupyter.widget-view+json": {
       "model_id": "",
       "version_major": 2,
       "version_minor": 0
      },
      "text/plain": [
       "FloatProgress(value=0.0, bar_style='info', description='Progress:', layout=Layout(height='25px', width='50%'),…"
      ]
     },
     "metadata": {},
     "output_type": "display_data"
    },
    {
     "name": "stdout",
     "output_type": "stream",
     "text": [
      "Number of columns in Name Basics table: 6\n",
      "Number of rows in Name Basics table: 13329316 \n",
      "\n",
      "Number of columns in Title Basics table: 9\n",
      "Number of rows in Title Basics table: 10613322 \n",
      "\n",
      "Number of columns in Title Principals table: 6\n",
      "Number of rows in Title Principals table: 60833800 \n",
      "\n",
      "Number of columns in Title Ratings table: 3\n",
      "Number of rows in Title Ratings table: 1412275"
     ]
    }
   ],
   "source": [
    "# Display the number of rows and columns in each dataFrame object\n",
    "\n",
    "print('Number of columns in Name Basics table:', len(name.columns))\n",
    "print('Number of rows in Name Basics table:', name.count(), '\\n')\n",
    "\n",
    "print('Number of columns in Title Basics table:', len(title.columns))\n",
    "print('Number of rows in Title Basics table:', title.count(), '\\n')\n",
    "\n",
    "print('Number of columns in Title Principals table:', len(principle.columns))\n",
    "print('Number of rows in Title Principals table:', principle.count(), '\\n')\n",
    "\n",
    "print('Number of columns in Title Ratings table:', len(rating.columns))\n",
    "print('Number of rows in Title Ratings table:',  rating.count())"
   ]
  },
  {
   "cell_type": "markdown",
   "metadata": {
    "id": "7T-_Aix3opNF"
   },
   "source": [
    "# Part 2 – Analyzing Movie Genres"
   ]
  },
  {
   "cell_type": "code",
   "execution_count": 25,
   "metadata": {
    "execution": {
     "iopub.execute_input": "2024-12-03T16:23:35.742878Z",
     "iopub.status.busy": "2024-12-03T16:23:35.742553Z",
     "iopub.status.idle": "2024-12-03T16:23:35.792476Z",
     "shell.execute_reply": "2024-12-03T16:23:35.791731Z",
     "shell.execute_reply.started": "2024-12-03T16:23:35.742851Z"
    },
    "id": "w7km-UOsroOe"
   },
   "outputs": [
    {
     "data": {
      "application/vnd.jupyter.widget-view+json": {
       "model_id": "b35437a2a26246478eacd2ad1f58af8e",
       "version_major": 2,
       "version_minor": 0
      },
      "text/plain": [
       "VBox()"
      ]
     },
     "metadata": {},
     "output_type": "display_data"
    },
    {
     "data": {
      "application/vnd.jupyter.widget-view+json": {
       "model_id": "",
       "version_major": 2,
       "version_minor": 0
      },
      "text/plain": [
       "FloatProgress(value=0.0, bar_style='info', description='Progress:', layout=Layout(height='25px', width='50%'),…"
      ]
     },
     "metadata": {},
     "output_type": "display_data"
    }
   ],
   "source": [
    "# how many unique movie genres are represented in this dataset?"
   ]
  },
  {
   "cell_type": "markdown",
   "metadata": {
    "id": "vRRj1teesOzm"
   },
   "source": [
    "## Association Table"
   ]
  },
  {
   "cell_type": "code",
   "execution_count": 26,
   "metadata": {
    "colab": {
     "base_uri": "https://localhost:8080/"
    },
    "execution": {
     "iopub.execute_input": "2024-12-03T16:23:50.975443Z",
     "iopub.status.busy": "2024-12-03T16:23:50.975119Z",
     "iopub.status.idle": "2024-12-03T16:23:51.234585Z",
     "shell.execute_reply": "2024-12-03T16:23:51.233664Z",
     "shell.execute_reply.started": "2024-12-03T16:23:50.975415Z"
    },
    "id": "zpMvLvIusQFe",
    "outputId": "afba6207-fdda-4714-d8e2-7367c9901741"
   },
   "outputs": [
    {
     "data": {
      "application/vnd.jupyter.widget-view+json": {
       "model_id": "ed0c1ca3061a4a59a983cd479967f356",
       "version_major": 2,
       "version_minor": 0
      },
      "text/plain": [
       "VBox()"
      ]
     },
     "metadata": {},
     "output_type": "display_data"
    },
    {
     "data": {
      "application/vnd.jupyter.widget-view+json": {
       "model_id": "",
       "version_major": 2,
       "version_minor": 0
      },
      "text/plain": [
       "FloatProgress(value=0.0, bar_style='info', description='Progress:', layout=Layout(height='25px', width='50%'),…"
      ]
     },
     "metadata": {},
     "output_type": "display_data"
    },
    {
     "name": "stdout",
     "output_type": "stream",
     "text": [
      "+---------+---------+------------------------+\n",
      "|tconst   |titleType|genres                  |\n",
      "+---------+---------+------------------------+\n",
      "|tt0000001|short    |Documentary,Short       |\n",
      "|tt0000002|short    |Animation,Short         |\n",
      "|tt0000003|short    |Animation,Comedy,Romance|\n",
      "|tt0000004|short    |Animation,Short         |\n",
      "|tt0000005|short    |Comedy,Short            |\n",
      "|tt0000006|short    |Short                   |\n",
      "|tt0000007|short    |Short,Sport             |\n",
      "|tt0000008|short    |Documentary,Short       |\n",
      "|tt0000009|movie    |Romance                 |\n",
      "|tt0000010|short    |Documentary,Short       |\n",
      "|tt0000011|short    |Documentary,Short       |\n",
      "|tt0000012|short    |Documentary,Short       |\n",
      "|tt0000013|short    |Documentary,Short       |\n",
      "|tt0000014|short    |Comedy,Short            |\n",
      "|tt0000015|short    |Animation,Short         |\n",
      "+---------+---------+------------------------+\n",
      "only showing top 15 rows"
     ]
    }
   ],
   "source": [
    "title2.select('tconst','titleType','genres').show(15, truncate=False)"
   ]
  },
  {
   "cell_type": "code",
   "execution_count": 27,
   "metadata": {
    "colab": {
     "base_uri": "https://localhost:8080/"
    },
    "execution": {
     "iopub.execute_input": "2024-12-03T16:24:04.917518Z",
     "iopub.status.busy": "2024-12-03T16:24:04.916962Z",
     "iopub.status.idle": "2024-12-03T16:24:05.674943Z",
     "shell.execute_reply": "2024-12-03T16:24:05.674087Z",
     "shell.execute_reply.started": "2024-12-03T16:24:04.917470Z"
    },
    "id": "jpe-a23eIqKj",
    "outputId": "5e335629-9f07-43b2-845e-17ad3da52950"
   },
   "outputs": [
    {
     "data": {
      "application/vnd.jupyter.widget-view+json": {
       "model_id": "6a1b7e00894e48a1a9cbbefde260b401",
       "version_major": 2,
       "version_minor": 0
      },
      "text/plain": [
       "VBox()"
      ]
     },
     "metadata": {},
     "output_type": "display_data"
    },
    {
     "data": {
      "application/vnd.jupyter.widget-view+json": {
       "model_id": "",
       "version_major": 2,
       "version_minor": 0
      },
      "text/plain": [
       "FloatProgress(value=0.0, bar_style='info', description='Progress:', layout=Layout(height='25px', width='50%'),…"
      ]
     },
     "metadata": {},
     "output_type": "display_data"
    },
    {
     "name": "stdout",
     "output_type": "stream",
     "text": [
      "+---------+---------+-----------------------------------------------+-------+---------+-------+--------------+--------------------------+\n",
      "|tconst   |titleType|primaryTitle                                   |isAdult|startYear|endYear|runtimeMinutes|genres                    |\n",
      "+---------+---------+-----------------------------------------------+-------+---------+-------+--------------+--------------------------+\n",
      "|tt0000009|movie    |Miss Jerry                                     |0      |1894     |\\N     |45            |Romance                   |\n",
      "|tt0000147|movie    |The Corbett-Fitzsimmons Fight                  |0      |1897     |\\N     |100           |Documentary,News,Sport    |\n",
      "|tt0000502|movie    |Bohemios                                       |0      |1905     |\\N     |100           |\\N                        |\n",
      "|tt0000574|movie    |The Story of the Kelly Gang                    |0      |1906     |\\N     |70            |Action,Adventure,Biography|\n",
      "|tt0000591|movie    |The Prodigal Son                               |0      |1907     |\\N     |90            |Drama                     |\n",
      "|tt0000615|movie    |Robbery Under Arms                             |0      |1907     |\\N     |\\N            |Drama                     |\n",
      "|tt0000630|movie    |Hamlet                                         |0      |1908     |\\N     |\\N            |Drama                     |\n",
      "|tt0000675|movie    |Don Quijote                                    |0      |1908     |\\N     |\\N            |Drama                     |\n",
      "|tt0000679|movie    |The Fairylogue and Radio-Plays                 |0      |1908     |\\N     |120           |Adventure,Fantasy         |\n",
      "|tt0000838|movie    |A Cultura do Cacau                             |0      |1909     |\\N     |\\N            |\\N                        |\n",
      "|tt0000842|movie    |De Garraf a Barcelona                          |0      |1909     |\\N     |\\N            |\\N                        |\n",
      "|tt0000846|movie    |Un día en Xochimilco                           |0      |1909     |\\N     |\\N            |\\N                        |\n",
      "|tt0000850|movie    |Los dos hermanos                               |0      |1909     |\\N     |\\N            |\\N                        |\n",
      "|tt0000859|movie    |Fabricación del corcho en Sant Feliu de Guixols|0      |1909     |\\N     |\\N            |\\N                        |\n",
      "|tt0000862|movie    |Faldgruben                                     |0      |1909     |\\N     |\\N            |\\N                        |\n",
      "+---------+---------+-----------------------------------------------+-------+---------+-------+--------------+--------------------------+\n",
      "only showing top 15 rows"
     ]
    }
   ],
   "source": [
    "# we are only interested in 'movie'\n",
    "\n",
    "titleMovie = title2.filter(title2.titleType == 'movie')\n",
    "titleMovie.show(15, truncate=False)"
   ]
  },
  {
   "cell_type": "code",
   "execution_count": 28,
   "metadata": {
    "colab": {
     "base_uri": "https://localhost:8080/"
    },
    "execution": {
     "iopub.execute_input": "2024-12-03T16:24:12.236620Z",
     "iopub.status.busy": "2024-12-03T16:24:12.236295Z",
     "iopub.status.idle": "2024-12-03T16:24:13.001125Z",
     "shell.execute_reply": "2024-12-03T16:24:13.000171Z",
     "shell.execute_reply.started": "2024-12-03T16:24:12.236592Z"
    },
    "id": "SHYWxRads_L2",
    "outputId": "1313de47-dfb1-44d8-8cc1-be514d65d9fb"
   },
   "outputs": [
    {
     "data": {
      "application/vnd.jupyter.widget-view+json": {
       "model_id": "ce3cd1e306db44a2b8f49293530ef0ba",
       "version_major": 2,
       "version_minor": 0
      },
      "text/plain": [
       "VBox()"
      ]
     },
     "metadata": {},
     "output_type": "display_data"
    },
    {
     "data": {
      "application/vnd.jupyter.widget-view+json": {
       "model_id": "",
       "version_major": 2,
       "version_minor": 0
      },
      "text/plain": [
       "FloatProgress(value=0.0, bar_style='info', description='Progress:', layout=Layout(height='25px', width='50%'),…"
      ]
     },
     "metadata": {},
     "output_type": "display_data"
    },
    {
     "name": "stdout",
     "output_type": "stream",
     "text": [
      "+---------+---------+-----------+\n",
      "|tconst   |titleType|genres     |\n",
      "+---------+---------+-----------+\n",
      "|tt0000009|movie    |Romance    |\n",
      "|tt0000147|movie    |Documentary|\n",
      "|tt0000147|movie    |News       |\n",
      "|tt0000147|movie    |Sport      |\n",
      "|tt0000502|movie    |\\N         |\n",
      "|tt0000574|movie    |Action     |\n",
      "|tt0000574|movie    |Adventure  |\n",
      "|tt0000574|movie    |Biography  |\n",
      "|tt0000591|movie    |Drama      |\n",
      "|tt0000615|movie    |Drama      |\n",
      "|tt0000630|movie    |Drama      |\n",
      "|tt0000675|movie    |Drama      |\n",
      "|tt0000679|movie    |Adventure  |\n",
      "|tt0000679|movie    |Fantasy    |\n",
      "|tt0000838|movie    |\\N         |\n",
      "|tt0000842|movie    |\\N         |\n",
      "|tt0000846|movie    |\\N         |\n",
      "|tt0000850|movie    |\\N         |\n",
      "|tt0000859|movie    |\\N         |\n",
      "|tt0000862|movie    |\\N         |\n",
      "|tt0000867|movie    |\\N         |\n",
      "|tt0000868|movie    |\\N         |\n",
      "|tt0000869|movie    |\\N         |\n",
      "|tt0000879|movie    |\\N         |\n",
      "|tt0000886|movie    |Drama      |\n",
      "+---------+---------+-----------+\n",
      "only showing top 25 rows"
     ]
    }
   ],
   "source": [
    "# denormalize\n",
    "\n",
    "titleDF = titleMovie.withColumn('genres', explode(split('genres', ',')))\n",
    "titleDF.select('tconst','titleType','genres').show(25, truncate=False)"
   ]
  },
  {
   "cell_type": "markdown",
   "metadata": {
    "id": "tWf0FE_St9mA"
   },
   "source": [
    "## Total Unique Movie Genres"
   ]
  },
  {
   "cell_type": "code",
   "execution_count": 29,
   "metadata": {
    "colab": {
     "base_uri": "https://localhost:8080/"
    },
    "execution": {
     "iopub.execute_input": "2024-12-03T16:24:24.033654Z",
     "iopub.status.busy": "2024-12-03T16:24:24.033311Z",
     "iopub.status.idle": "2024-12-03T16:24:35.340796Z",
     "shell.execute_reply": "2024-12-03T16:24:35.339746Z",
     "shell.execute_reply.started": "2024-12-03T16:24:24.033625Z"
    },
    "id": "FJpIs7n1tscx",
    "outputId": "f318f99b-4822-4d15-f826-956c06895f82"
   },
   "outputs": [
    {
     "data": {
      "application/vnd.jupyter.widget-view+json": {
       "model_id": "abfdfd336cad4d38839a45906ee5ced8",
       "version_major": 2,
       "version_minor": 0
      },
      "text/plain": [
       "VBox()"
      ]
     },
     "metadata": {},
     "output_type": "display_data"
    },
    {
     "data": {
      "application/vnd.jupyter.widget-view+json": {
       "model_id": "",
       "version_major": 2,
       "version_minor": 0
      },
      "text/plain": [
       "FloatProgress(value=0.0, bar_style='info', description='Progress:', layout=Layout(height='25px', width='50%'),…"
      ]
     },
     "metadata": {},
     "output_type": "display_data"
    },
    {
     "name": "stdout",
     "output_type": "stream",
     "text": [
      "+-----------------------------------+\n",
      "|total number of unique movie genres|\n",
      "+-----------------------------------+\n",
      "|                                 29|\n",
      "+-----------------------------------+"
     ]
    }
   ],
   "source": [
    "# What is the total number of unique movie genres?\n",
    "\n",
    "titleDF.select(countDistinct('genres').alias('total number of unique movie genres')).show()"
   ]
  },
  {
   "cell_type": "code",
   "execution_count": 30,
   "metadata": {
    "colab": {
     "base_uri": "https://localhost:8080/"
    },
    "execution": {
     "iopub.execute_input": "2024-12-03T16:24:37.181744Z",
     "iopub.status.busy": "2024-12-03T16:24:37.176081Z",
     "iopub.status.idle": "2024-12-03T16:24:48.708905Z",
     "shell.execute_reply": "2024-12-03T16:24:48.707801Z",
     "shell.execute_reply.started": "2024-12-03T16:24:37.181716Z"
    },
    "id": "jKHfJa5MPu4r",
    "outputId": "fb02b9b0-c434-4cc0-9c09-90ae26387122"
   },
   "outputs": [
    {
     "data": {
      "application/vnd.jupyter.widget-view+json": {
       "model_id": "1f64e7e8de8240799ea5e25feda11748",
       "version_major": 2,
       "version_minor": 0
      },
      "text/plain": [
       "VBox()"
      ]
     },
     "metadata": {},
     "output_type": "display_data"
    },
    {
     "data": {
      "application/vnd.jupyter.widget-view+json": {
       "model_id": "",
       "version_major": 2,
       "version_minor": 0
      },
      "text/plain": [
       "FloatProgress(value=0.0, bar_style='info', description='Progress:', layout=Layout(height='25px', width='50%'),…"
      ]
     },
     "metadata": {},
     "output_type": "display_data"
    },
    {
     "name": "stdout",
     "output_type": "stream",
     "text": [
      "29"
     ]
    }
   ],
   "source": [
    "# or\n",
    "\n",
    "titleDF.select('genres').distinct().count()"
   ]
  },
  {
   "cell_type": "code",
   "execution_count": 31,
   "metadata": {
    "colab": {
     "base_uri": "https://localhost:8080/"
    },
    "execution": {
     "iopub.execute_input": "2024-12-03T16:24:54.110127Z",
     "iopub.status.busy": "2024-12-03T16:24:54.109806Z",
     "iopub.status.idle": "2024-12-03T16:25:05.416909Z",
     "shell.execute_reply": "2024-12-03T16:25:05.415692Z",
     "shell.execute_reply.started": "2024-12-03T16:24:54.110100Z"
    },
    "id": "rxziu-J3uqfB",
    "outputId": "d1543326-5ccb-4dee-9653-1e428bf190e3"
   },
   "outputs": [
    {
     "data": {
      "application/vnd.jupyter.widget-view+json": {
       "model_id": "ab008764a9364935a0760b53cc1d4ba0",
       "version_major": 2,
       "version_minor": 0
      },
      "text/plain": [
       "VBox()"
      ]
     },
     "metadata": {},
     "output_type": "display_data"
    },
    {
     "data": {
      "application/vnd.jupyter.widget-view+json": {
       "model_id": "",
       "version_major": 2,
       "version_minor": 0
      },
      "text/plain": [
       "FloatProgress(value=0.0, bar_style='info', description='Progress:', layout=Layout(height='25px', width='50%'),…"
      ]
     },
     "metadata": {},
     "output_type": "display_data"
    },
    {
     "name": "stdout",
     "output_type": "stream",
     "text": [
      "+-------------------+\n",
      "|unique movie genres|\n",
      "+-------------------+\n",
      "|Mystery            |\n",
      "|Musical            |\n",
      "|Sport              |\n",
      "|Action             |\n",
      "|Talk-Show          |\n",
      "|Romance            |\n",
      "|Thriller           |\n",
      "|Reality-TV         |\n",
      "|Family             |\n",
      "|Fantasy            |\n",
      "|History            |\n",
      "|Animation          |\n",
      "|Film-Noir          |\n",
      "|Short              |\n",
      "|Sci-Fi             |\n",
      "|News               |\n",
      "|Drama              |\n",
      "|Documentary        |\n",
      "|Western            |\n",
      "|Comedy             |\n",
      "|Crime              |\n",
      "|War                |\n",
      "|Game-Show          |\n",
      "|Adult              |\n",
      "|Music              |\n",
      "|Biography          |\n",
      "|Adventure          |\n",
      "|Horror             |\n",
      "+-------------------+"
     ]
    }
   ],
   "source": [
    "# What are the unique movie genres?\n",
    "# notice we get rid of '\\N' in this step, which is considered a genre in the dataset\n",
    "\n",
    "# titleDF.select(collect_set('genres').alias('unique movie genres')).show(truncate=False)\n",
    "titleDF.select(col('genres').alias('unique movie genres')).filter(col('genres') != r'\\N').distinct().show(30, truncate=False)"
   ]
  },
  {
   "cell_type": "markdown",
   "metadata": {
    "id": "mn2M69Xvxiog"
   },
   "source": [
    "## Top Genres by Movies"
   ]
  },
  {
   "cell_type": "code",
   "execution_count": 32,
   "metadata": {
    "execution": {
     "iopub.execute_input": "2024-12-03T16:25:24.564494Z",
     "iopub.status.busy": "2024-12-03T16:25:24.564002Z",
     "iopub.status.idle": "2024-12-03T16:25:24.621255Z",
     "shell.execute_reply": "2024-12-03T16:25:24.620325Z",
     "shell.execute_reply.started": "2024-12-03T16:25:24.564447Z"
    },
    "id": "o_kbJ22wyaE_"
   },
   "outputs": [
    {
     "data": {
      "application/vnd.jupyter.widget-view+json": {
       "model_id": "67c10a93c78e4faa9eb001751344e9d1",
       "version_major": 2,
       "version_minor": 0
      },
      "text/plain": [
       "VBox()"
      ]
     },
     "metadata": {},
     "output_type": "display_data"
    },
    {
     "data": {
      "application/vnd.jupyter.widget-view+json": {
       "model_id": "",
       "version_major": 2,
       "version_minor": 0
      },
      "text/plain": [
       "FloatProgress(value=0.0, bar_style='info', description='Progress:', layout=Layout(height='25px', width='50%'),…"
      ]
     },
     "metadata": {},
     "output_type": "display_data"
    }
   ],
   "source": [
    "# highest rated genres in this dataset by rolling up genres"
   ]
  },
  {
   "cell_type": "markdown",
   "metadata": {
    "id": "hJRQTBNzyfNm"
   },
   "source": [
    "### Average Rating / Genre"
   ]
  },
  {
   "cell_type": "code",
   "execution_count": 33,
   "metadata": {
    "colab": {
     "base_uri": "https://localhost:8080/"
    },
    "execution": {
     "iopub.execute_input": "2024-12-03T16:25:33.083966Z",
     "iopub.status.busy": "2024-12-03T16:25:33.083637Z",
     "iopub.status.idle": "2024-12-03T16:25:46.410020Z",
     "shell.execute_reply": "2024-12-03T16:25:46.409250Z",
     "shell.execute_reply.started": "2024-12-03T16:25:33.083939Z"
    },
    "id": "Sx2ufjWFy4UX",
    "outputId": "6c35c79a-2021-4ad2-9ff5-07a93c9f19aa"
   },
   "outputs": [
    {
     "data": {
      "application/vnd.jupyter.widget-view+json": {
       "model_id": "299a513f7f1645f094eb7ce70f711fbe",
       "version_major": 2,
       "version_minor": 0
      },
      "text/plain": [
       "VBox()"
      ]
     },
     "metadata": {},
     "output_type": "display_data"
    },
    {
     "data": {
      "application/vnd.jupyter.widget-view+json": {
       "model_id": "",
       "version_major": 2,
       "version_minor": 0
      },
      "text/plain": [
       "FloatProgress(value=0.0, bar_style='info', description='Progress:', layout=Layout(height='25px', width='50%'),…"
      ]
     },
     "metadata": {},
     "output_type": "display_data"
    },
    {
     "name": "stdout",
     "output_type": "stream",
     "text": [
      "+---------+---------+------------------------------+-------+---------+-------+--------------+---------+-------------+--------+\n",
      "|tconst   |titleType|primaryTitle                  |isAdult|startYear|endYear|runtimeMinutes|genres   |averageRating|numVotes|\n",
      "+---------+---------+------------------------------+-------+---------+-------+--------------+---------+-------------+--------+\n",
      "|tt0000675|movie    |Don Quijote                   |0      |1908     |\\N     |\\N            |Drama    |4.2          |20      |\n",
      "|tt0000941|movie    |Locura de amor                |0      |1909     |\\N     |45            |Drama    |4.5          |27      |\n",
      "|tt0001911|movie    |Nell Gwynne                   |0      |1911     |\\N     |50            |Biography|3.6          |25      |\n",
      "|tt0001911|movie    |Nell Gwynne                   |0      |1911     |\\N     |50            |Drama    |3.6          |25      |\n",
      "|tt0001911|movie    |Nell Gwynne                   |0      |1911     |\\N     |50            |History  |3.6          |25      |\n",
      "|tt0002153|movie    |The Great Circus Catastrophe  |0      |1912     |\\N     |45            |Drama    |6.0          |81      |\n",
      "|tt0003241|movie    |One Hundred Years of Mormonism|0      |1913     |\\N     |90            |Drama    |5.0          |21      |\n",
      "|tt0003241|movie    |One Hundred Years of Mormonism|0      |1913     |\\N     |90            |History  |5.0          |21      |\n",
      "|tt0003330|movie    |The Life of Richard Wagner    |0      |1913     |\\N     |110           |Biography|6.2          |123     |\n",
      "|tt0003330|movie    |The Life of Richard Wagner    |0      |1913     |\\N     |110           |Drama    |6.2          |123     |\n",
      "+---------+---------+------------------------------+-------+---------+-------+--------------+---------+-------------+--------+\n",
      "only showing top 10 rows"
     ]
    }
   ],
   "source": [
    "# inner join two dataframes (title ratings and title basics) by tconst\n",
    "# get rid of '\\N' which does not make sense in the analysis\n",
    "\n",
    "titleDF_rating = titleDF.filter(col('genres') != r'\\N').join(rating, 'tconst')\n",
    "titleDF_rating.show(10, truncate=False)"
   ]
  },
  {
   "cell_type": "code",
   "execution_count": 36,
   "metadata": {
    "execution": {
     "iopub.execute_input": "2024-12-03T16:28:40.597015Z",
     "iopub.status.busy": "2024-12-03T16:28:40.596608Z",
     "iopub.status.idle": "2024-12-03T16:29:15.993158Z",
     "shell.execute_reply": "2024-12-03T16:29:15.991953Z",
     "shell.execute_reply.started": "2024-12-03T16:28:40.596955Z"
    },
    "tags": []
   },
   "outputs": [
    {
     "data": {
      "application/vnd.jupyter.widget-view+json": {
       "model_id": "22e7e320a6884200805c95a124b698eb",
       "version_major": 2,
       "version_minor": 0
      },
      "text/plain": [
       "VBox()"
      ]
     },
     "metadata": {},
     "output_type": "display_data"
    },
    {
     "data": {
      "application/vnd.jupyter.widget-view+json": {
       "model_id": "",
       "version_major": 2,
       "version_minor": 0
      },
      "text/plain": [
       "FloatProgress(value=0.0, bar_style='info', description='Progress:', layout=Layout(height='25px', width='50%'),…"
      ]
     },
     "metadata": {},
     "output_type": "display_data"
    },
    {
     "name": "stdout",
     "output_type": "stream",
     "text": [
      "(916533, 1412275, 519061)"
     ]
    }
   ],
   "source": [
    "# curiously\n",
    "# this shows that the join is an intersection of both tables\n",
    "# among 916533 movie titles, only 519061 has rating data\n",
    "\n",
    "titleDF.filter(col('genres') != r'\\N').count(), rating.count(), titleDF_rating.count()"
   ]
  },
  {
   "cell_type": "code",
   "execution_count": 37,
   "metadata": {
    "colab": {
     "base_uri": "https://localhost:8080/"
    },
    "execution": {
     "iopub.execute_input": "2024-12-03T16:29:22.716892Z",
     "iopub.status.busy": "2024-12-03T16:29:22.716525Z",
     "iopub.status.idle": "2024-12-03T16:29:38.029327Z",
     "shell.execute_reply": "2024-12-03T16:29:38.028392Z",
     "shell.execute_reply.started": "2024-12-03T16:29:22.716864Z"
    },
    "id": "f2xpjEso98kW",
    "outputId": "bba98ebb-11cf-4c20-9378-f4d94addb0d5"
   },
   "outputs": [
    {
     "data": {
      "application/vnd.jupyter.widget-view+json": {
       "model_id": "0e03c2ce2918438581c705150521b65e",
       "version_major": 2,
       "version_minor": 0
      },
      "text/plain": [
       "VBox()"
      ]
     },
     "metadata": {},
     "output_type": "display_data"
    },
    {
     "data": {
      "application/vnd.jupyter.widget-view+json": {
       "model_id": "",
       "version_major": 2,
       "version_minor": 0
      },
      "text/plain": [
       "FloatProgress(value=0.0, bar_style='info', description='Progress:', layout=Layout(height='25px', width='50%'),…"
      ]
     },
     "metadata": {},
     "output_type": "display_data"
    },
    {
     "name": "stdout",
     "output_type": "stream",
     "text": [
      "+---------+-------------+\n",
      "|genres   |averageRating|\n",
      "+---------+-------------+\n",
      "|Drama    |4.2          |\n",
      "|Drama    |4.5          |\n",
      "|Biography|3.6          |\n",
      "|Drama    |3.6          |\n",
      "|History  |3.6          |\n",
      "|Drama    |6.0          |\n",
      "|Drama    |5.0          |\n",
      "|History  |5.0          |\n",
      "|Biography|6.2          |\n",
      "|Drama    |6.2          |\n",
      "+---------+-------------+\n",
      "only showing top 10 rows"
     ]
    }
   ],
   "source": [
    "titleDF_rating.select('genres', 'averageRating').show(10, truncate=False)"
   ]
  },
  {
   "cell_type": "code",
   "execution_count": 38,
   "metadata": {
    "colab": {
     "base_uri": "https://localhost:8080/"
    },
    "execution": {
     "iopub.execute_input": "2024-12-03T16:29:52.130253Z",
     "iopub.status.busy": "2024-12-03T16:29:52.129833Z",
     "iopub.status.idle": "2024-12-03T16:30:07.462588Z",
     "shell.execute_reply": "2024-12-03T16:30:07.461795Z",
     "shell.execute_reply.started": "2024-12-03T16:29:52.130221Z"
    },
    "id": "nA3j7lRK-Gm9",
    "outputId": "0ba4af90-8888-4835-c5b4-e315c03ba24e"
   },
   "outputs": [
    {
     "data": {
      "application/vnd.jupyter.widget-view+json": {
       "model_id": "82fae39212de45fea5aae9a4f3c1295c",
       "version_major": 2,
       "version_minor": 0
      },
      "text/plain": [
       "VBox()"
      ]
     },
     "metadata": {},
     "output_type": "display_data"
    },
    {
     "data": {
      "application/vnd.jupyter.widget-view+json": {
       "model_id": "",
       "version_major": 2,
       "version_minor": 0
      },
      "text/plain": [
       "FloatProgress(value=0.0, bar_style='info', description='Progress:', layout=Layout(height='25px', width='50%'),…"
      ]
     },
     "metadata": {},
     "output_type": "display_data"
    },
    {
     "name": "stdout",
     "output_type": "stream",
     "text": [
      "+-----------+-------------+\n",
      "|genres     |averageRating|\n",
      "+-----------+-------------+\n",
      "|Mystery    |5.847        |\n",
      "|Musical    |6.187        |\n",
      "|Action     |5.732        |\n",
      "|Sport      |6.623        |\n",
      "|Talk-Show  |6.858        |\n",
      "|Romance    |6.102        |\n",
      "|Thriller   |5.613        |\n",
      "|Reality-TV |6.701        |\n",
      "|Family     |6.205        |\n",
      "|Fantasy    |5.898        |\n",
      "|History    |6.798        |\n",
      "|Animation  |6.367        |\n",
      "|Film-Noir  |6.463        |\n",
      "|Sci-Fi     |5.353        |\n",
      "|News       |7.203        |\n",
      "|Drama      |6.248        |\n",
      "|Documentary|7.216        |\n",
      "|Western    |5.84         |\n",
      "|Comedy     |5.906        |\n",
      "|Crime      |5.985        |\n",
      "+-----------+-------------+\n",
      "only showing top 20 rows"
     ]
    }
   ],
   "source": [
    "# aggregate along the averageRating column to get a resultant dataframe that displays average rating per genre\n",
    "# note the avg() function will modify the column name to 'avg(averageRating)', which can be then used in the round() function\n",
    "\n",
    "genre_avgRating = titleDF_rating.groupby('genres').avg('averageRating').select('genres', round('avg(averageRating)', 3).alias('averageRating'))\n",
    "genre_avgRating.show(20, truncate=False)"
   ]
  },
  {
   "cell_type": "markdown",
   "metadata": {
    "id": "YhNGtSp1yhDu"
   },
   "source": [
    "### Horizontal Bar Chart of Top Genres"
   ]
  },
  {
   "cell_type": "code",
   "execution_count": 42,
   "metadata": {
    "colab": {
     "base_uri": "https://localhost:8080/",
     "height": 581
    },
    "execution": {
     "iopub.execute_input": "2024-12-03T16:33:08.061544Z",
     "iopub.status.busy": "2024-12-03T16:33:08.061232Z",
     "iopub.status.idle": "2024-12-03T16:33:35.425349Z",
     "shell.execute_reply": "2024-12-03T16:33:35.420318Z",
     "shell.execute_reply.started": "2024-12-03T16:33:08.061517Z"
    },
    "id": "VQbDgYxpDFZd",
    "outputId": "27b39ab5-9b9d-43fc-9d30-072081dc8c0b",
    "tags": []
   },
   "outputs": [
    {
     "data": {
      "application/vnd.jupyter.widget-view+json": {
       "model_id": "e3f399acf6aa429296995152ad071e4e",
       "version_major": 2,
       "version_minor": 0
      },
      "text/plain": [
       "VBox()"
      ]
     },
     "metadata": {},
     "output_type": "display_data"
    },
    {
     "data": {
      "application/vnd.jupyter.widget-view+json": {
       "model_id": "",
       "version_major": 2,
       "version_minor": 0
      },
      "text/plain": [
       "FloatProgress(value=0.0, bar_style='info', description='Progress:', layout=Layout(height='25px', width='50%'),…"
      ]
     },
     "metadata": {},
     "output_type": "display_data"
    },
    {
     "data": {
      "image/png": "[encoded data removed]",
      "text/plain": [
       "<IPython.core.display.Image object>"
      ]
     },
     "metadata": {},
     "output_type": "display_data"
    }
   ],
   "source": [
    "# a barchart of all genres\n",
    "# no filter, all genres\n",
    "\n",
    "genre_avgRating_pd = genre_avgRating.sort(col('averageRating').asc()).toPandas()\n",
    "genre_avgRating_pd.plot.barh(x='genres', figsize=(10,6), title='Top Genres in the Movie Category')\n",
    "plt.xlabel('Rating')\n",
    "plt.ylabel('Genre')\n",
    "plt.legend(['Rating'])\n",
    "\n",
    "%matplot plt"
   ]
  },
  {
   "cell_type": "markdown",
   "metadata": {
    "id": "rdIiHvLTy2cP"
   },
   "source": [
    "# PART 3 - Analyzing Job Categories"
   ]
  },
  {
   "cell_type": "markdown",
   "metadata": {
    "id": "0AaYi4Lpy9IP"
   },
   "source": [
    "## Total Unique Job Categories"
   ]
  },
  {
   "cell_type": "code",
   "execution_count": 45,
   "metadata": {
    "colab": {
     "base_uri": "https://localhost:8080/"
    },
    "execution": {
     "iopub.execute_input": "2024-12-03T16:35:16.367733Z",
     "iopub.status.busy": "2024-12-03T16:35:16.367408Z",
     "iopub.status.idle": "2024-12-03T16:35:17.159510Z",
     "shell.execute_reply": "2024-12-03T16:35:17.158720Z",
     "shell.execute_reply.started": "2024-12-03T16:35:16.367706Z"
    },
    "id": "rEk9_g47KZ3Z",
    "outputId": "fce48600-3347-4c88-8bbc-22a7d86785b6"
   },
   "outputs": [
    {
     "data": {
      "application/vnd.jupyter.widget-view+json": {
       "model_id": "e422e3959f8b493a9e17ec389b0e8b3b",
       "version_major": 2,
       "version_minor": 0
      },
      "text/plain": [
       "VBox()"
      ]
     },
     "metadata": {},
     "output_type": "display_data"
    },
    {
     "data": {
      "application/vnd.jupyter.widget-view+json": {
       "model_id": "",
       "version_major": 2,
       "version_minor": 0
      },
      "text/plain": [
       "FloatProgress(value=0.0, bar_style='info', description='Progress:', layout=Layout(height='25px', width='50%'),…"
      ]
     },
     "metadata": {},
     "output_type": "display_data"
    },
    {
     "name": "stdout",
     "output_type": "stream",
     "text": [
      "+---------+---------------+\n",
      "|tconst   |category       |\n",
      "+---------+---------------+\n",
      "|tt0000001|self           |\n",
      "|tt0000001|director       |\n",
      "|tt0000001|cinematographer|\n",
      "|tt0000002|director       |\n",
      "|tt0000002|composer       |\n",
      "|tt0000003|director       |\n",
      "|tt0000003|producer       |\n",
      "|tt0000003|composer       |\n",
      "|tt0000003|editor         |\n",
      "|tt0000004|director       |\n",
      "|tt0000004|composer       |\n",
      "|tt0000005|actor          |\n",
      "|tt0000005|actor          |\n",
      "|tt0000005|director       |\n",
      "|tt0000005|producer       |\n",
      "|tt0000006|director       |\n",
      "|tt0000007|actor          |\n",
      "|tt0000007|actor          |\n",
      "|tt0000007|director       |\n",
      "|tt0000007|director       |\n",
      "|tt0000007|producer       |\n",
      "|tt0000008|actor          |\n",
      "|tt0000008|director       |\n",
      "|tt0000008|cinematographer|\n",
      "|tt0000009|actress        |\n",
      "|tt0000009|actor          |\n",
      "|tt0000009|actor          |\n",
      "|tt0000009|director       |\n",
      "|tt0000010|director       |\n",
      "|tt0000011|actor          |\n",
      "+---------+---------------+\n",
      "only showing top 30 rows"
     ]
    }
   ],
   "source": [
    "# What is the total number of unique job categories\n",
    "# first show the samples\n",
    "\n",
    "principle.select('tconst', 'category').show(30, truncate=False)"
   ]
  },
  {
   "cell_type": "code",
   "execution_count": 46,
   "metadata": {
    "colab": {
     "base_uri": "https://localhost:8080/"
    },
    "execution": {
     "iopub.execute_input": "2024-12-03T16:35:24.330639Z",
     "iopub.status.busy": "2024-12-03T16:35:24.330286Z",
     "iopub.status.idle": "2024-12-03T16:36:11.759259Z",
     "shell.execute_reply": "2024-12-03T16:36:11.758478Z",
     "shell.execute_reply.started": "2024-12-03T16:35:24.330602Z"
    },
    "id": "JMmMCUUMmSVx",
    "outputId": "bb6e9d29-df88-4716-a204-8d04f4337b3f"
   },
   "outputs": [
    {
     "data": {
      "application/vnd.jupyter.widget-view+json": {
       "model_id": "6791d0f9fc8c4fdabeb6b13f010287a7",
       "version_major": 2,
       "version_minor": 0
      },
      "text/plain": [
       "VBox()"
      ]
     },
     "metadata": {},
     "output_type": "display_data"
    },
    {
     "data": {
      "application/vnd.jupyter.widget-view+json": {
       "model_id": "",
       "version_major": 2,
       "version_minor": 0
      },
      "text/plain": [
       "FloatProgress(value=0.0, bar_style='info', description='Progress:', layout=Layout(height='25px', width='50%'),…"
      ]
     },
     "metadata": {},
     "output_type": "display_data"
    },
    {
     "name": "stdout",
     "output_type": "stream",
     "text": [
      "total number of unique job categories: 12"
     ]
    }
   ],
   "source": [
    "# then the unique job category count\n",
    "\n",
    "print('total number of unique job categories:', principle.select('category').distinct().count())"
   ]
  },
  {
   "cell_type": "code",
   "execution_count": 47,
   "metadata": {
    "colab": {
     "base_uri": "https://localhost:8080/"
    },
    "execution": {
     "iopub.execute_input": "2024-12-03T16:36:18.295915Z",
     "iopub.status.busy": "2024-12-03T16:36:18.295601Z",
     "iopub.status.idle": "2024-12-03T16:37:03.860290Z",
     "shell.execute_reply": "2024-12-03T16:37:03.859357Z",
     "shell.execute_reply.started": "2024-12-03T16:36:18.295889Z"
    },
    "id": "oMENv8_nLEfZ",
    "outputId": "64b2e35a-8c03-45e2-f066-8a2e6c0a2b00"
   },
   "outputs": [
    {
     "data": {
      "application/vnd.jupyter.widget-view+json": {
       "model_id": "53f399059de94fd6bace8722c5686087",
       "version_major": 2,
       "version_minor": 0
      },
      "text/plain": [
       "VBox()"
      ]
     },
     "metadata": {},
     "output_type": "display_data"
    },
    {
     "data": {
      "application/vnd.jupyter.widget-view+json": {
       "model_id": "",
       "version_major": 2,
       "version_minor": 0
      },
      "text/plain": [
       "FloatProgress(value=0.0, bar_style='info', description='Progress:', layout=Layout(height='25px', width='50%'),…"
      ]
     },
     "metadata": {},
     "output_type": "display_data"
    },
    {
     "name": "stdout",
     "output_type": "stream",
     "text": [
      "+-------------------+\n",
      "|category           |\n",
      "+-------------------+\n",
      "|actress            |\n",
      "|producer           |\n",
      "|production_designer|\n",
      "|writer             |\n",
      "|actor              |\n",
      "|cinematographer    |\n",
      "|archive_sound      |\n",
      "|archive_footage    |\n",
      "|self               |\n",
      "|editor             |\n",
      "|composer           |\n",
      "|director           |\n",
      "+-------------------+"
     ]
    }
   ],
   "source": [
    "# What are the unique job categories available\n",
    "\n",
    "principle.select('category').distinct().show(truncate=False)"
   ]
  },
  {
   "cell_type": "markdown",
   "metadata": {
    "id": "D0OmYyrYzUj_"
   },
   "source": [
    "## Top Job Categories"
   ]
  },
  {
   "cell_type": "code",
   "execution_count": 48,
   "metadata": {
    "execution": {
     "iopub.execute_input": "2024-12-03T16:37:13.767659Z",
     "iopub.status.busy": "2024-12-03T16:37:13.767286Z",
     "iopub.status.idle": "2024-12-03T16:37:13.831112Z",
     "shell.execute_reply": "2024-12-03T16:37:13.830167Z",
     "shell.execute_reply.started": "2024-12-03T16:37:13.767627Z"
    },
    "id": "QqrlGGhELM2g"
   },
   "outputs": [
    {
     "data": {
      "application/vnd.jupyter.widget-view+json": {
       "model_id": "67c11b20c3dd4221a3d4f53b8d4f5460",
       "version_major": 2,
       "version_minor": 0
      },
      "text/plain": [
       "VBox()"
      ]
     },
     "metadata": {},
     "output_type": "display_data"
    },
    {
     "data": {
      "application/vnd.jupyter.widget-view+json": {
       "model_id": "",
       "version_major": 2,
       "version_minor": 0
      },
      "text/plain": [
       "FloatProgress(value=0.0, bar_style='info', description='Progress:', layout=Layout(height='25px', width='50%'),…"
      ]
     },
     "metadata": {},
     "output_type": "display_data"
    }
   ],
   "source": [
    "# find the top job categories in this dataset by rolling up categories"
   ]
  },
  {
   "cell_type": "markdown",
   "metadata": {
    "id": "RZcxLk0UzaLH"
   },
   "source": [
    "### Counts of Titles / Job Category"
   ]
  },
  {
   "cell_type": "code",
   "execution_count": 50,
   "metadata": {
    "colab": {
     "base_uri": "https://localhost:8080/"
    },
    "execution": {
     "iopub.execute_input": "2024-12-03T16:38:43.645767Z",
     "iopub.status.busy": "2024-12-03T16:38:43.645421Z",
     "iopub.status.idle": "2024-12-03T16:39:29.062590Z",
     "shell.execute_reply": "2024-12-03T16:39:29.061792Z",
     "shell.execute_reply.started": "2024-12-03T16:38:43.645736Z"
    },
    "id": "83YMeMD6LPoZ",
    "outputId": "ce9fa97c-1792-4b60-a54a-e5d134c057aa",
    "tags": []
   },
   "outputs": [
    {
     "data": {
      "application/vnd.jupyter.widget-view+json": {
       "model_id": "6237079171c249dca1a33532aa435b82",
       "version_major": 2,
       "version_minor": 0
      },
      "text/plain": [
       "VBox()"
      ]
     },
     "metadata": {},
     "output_type": "display_data"
    },
    {
     "data": {
      "application/vnd.jupyter.widget-view+json": {
       "model_id": "",
       "version_major": 2,
       "version_minor": 0
      },
      "text/plain": [
       "FloatProgress(value=0.0, bar_style='info', description='Progress:', layout=Layout(height='25px', width='50%'),…"
      ]
     },
     "metadata": {},
     "output_type": "display_data"
    },
    {
     "name": "stdout",
     "output_type": "stream",
     "text": [
      "+-------------------+--------+\n",
      "|category           |count   |\n",
      "+-------------------+--------+\n",
      "|actor              |13443688|\n",
      "|self               |10562296|\n",
      "|actress            |10492210|\n",
      "|writer             |8495903 |\n",
      "|director           |7006843 |\n",
      "|producer           |3944711 |\n",
      "|cinematographer    |2068164 |\n",
      "|composer           |2014049 |\n",
      "|editor             |2012800 |\n",
      "|archive_footage    |404581  |\n",
      "|production_designer|383761  |\n",
      "|archive_sound      |4794    |\n",
      "+-------------------+--------+"
     ]
    }
   ],
   "source": [
    "principle.groupby('category').count().sort(col('count').desc()).show(truncate=False)"
   ]
  },
  {
   "cell_type": "markdown",
   "metadata": {
    "id": "m_33WoCKzgqv"
   },
   "source": [
    "### Bar Chart of Top Job Categories"
   ]
  },
  {
   "cell_type": "code",
   "execution_count": 52,
   "metadata": {
    "colab": {
     "base_uri": "https://localhost:8080/",
     "height": 602
    },
    "execution": {
     "iopub.execute_input": "2024-12-03T16:40:27.917908Z",
     "iopub.status.busy": "2024-12-03T16:40:27.917578Z",
     "iopub.status.idle": "2024-12-03T16:41:11.333222Z",
     "shell.execute_reply": "2024-12-03T16:41:11.332318Z",
     "shell.execute_reply.started": "2024-12-03T16:40:27.917879Z"
    },
    "id": "bYjWyQmnMvmI",
    "outputId": "cffc8759-f0c0-415f-8235-9b48e3268eb8",
    "tags": []
   },
   "outputs": [
    {
     "data": {
      "application/vnd.jupyter.widget-view+json": {
       "model_id": "6b65287efc244902a69e141e3ce6f1d4",
       "version_major": 2,
       "version_minor": 0
      },
      "text/plain": [
       "VBox()"
      ]
     },
     "metadata": {},
     "output_type": "display_data"
    },
    {
     "data": {
      "application/vnd.jupyter.widget-view+json": {
       "model_id": "",
       "version_major": 2,
       "version_minor": 0
      },
      "text/plain": [
       "FloatProgress(value=0.0, bar_style='info', description='Progress:', layout=Layout(height='25px', width='50%'),…"
      ]
     },
     "metadata": {},
     "output_type": "display_data"
    },
    {
     "data": {
      "image/png": "[encoded data removed]",
      "text/plain": [
       "<IPython.core.display.Image object>"
      ]
     },
     "metadata": {},
     "output_type": "display_data"
    }
   ],
   "source": [
    "# a barchart of the top 5 categories\n",
    "\n",
    "principle_count_pd = principle.groupby('category').count().sort(col('count').desc()).limit(5).toPandas()\n",
    "principle_count_pd.plot.bar(x='category', figsize=(10,6), rot=10, title='Top Job Categories')\n",
    "\n",
    "plt.xlabel('Job Categories')\n",
    "plt.ylabel('Count')\n",
    "plt.legend(['count'])\n",
    "\n",
    "%matplot plt"
   ]
  },
  {
   "cell_type": "markdown",
   "metadata": {
    "id": "MEW5Hu9-y9y_"
   },
   "source": [
    "# PART 4 - Answer to the following questions"
   ]
  },
  {
   "cell_type": "code",
   "execution_count": 53,
   "metadata": {
    "execution": {
     "iopub.execute_input": "2024-12-03T16:41:34.236375Z",
     "iopub.status.busy": "2024-12-03T16:41:34.236031Z",
     "iopub.status.idle": "2024-12-03T16:41:34.334525Z",
     "shell.execute_reply": "2024-12-03T16:41:34.333138Z",
     "shell.execute_reply.started": "2024-12-03T16:41:34.236346Z"
    }
   },
   "outputs": [
    {
     "data": {
      "application/vnd.jupyter.widget-view+json": {
       "model_id": "df13bd29edaa40d38a014152f71106ed",
       "version_major": 2,
       "version_minor": 0
      },
      "text/plain": [
       "VBox()"
      ]
     },
     "metadata": {},
     "output_type": "display_data"
    },
    {
     "data": {
      "application/vnd.jupyter.widget-view+json": {
       "model_id": "",
       "version_major": 2,
       "version_minor": 0
      },
      "text/plain": [
       "FloatProgress(value=0.0, bar_style='info', description='Progress:', layout=Layout(height='25px', width='50%'),…"
      ]
     },
     "metadata": {},
     "output_type": "display_data"
    }
   ],
   "source": [
    "# recap of dfs that we have created\n",
    "# original dfs:\n",
    "\n",
    "# name\n",
    "# title\n",
    "# principle\n",
    "# rating\n",
    "\n",
    "# modified dfs:\n",
    "\n",
    "# title2: title drop 'originalTitle' col\n",
    "# titleMovie: title2 filter only 'movie'\n",
    "# titleDF: titleMovie denormalized\n",
    "# titleDF_rating: titleDF w/o '\\N' inner join rating on tconst\n",
    "\n",
    "# dfs in part 4:\n",
    "\n",
    "# titleMovie_rating: titleMovie inner join rating on tconst\n",
    "# principle_name: principle inner join name on nconst\n",
    "# nameDenorm: name table denormalized\n",
    "# nameDenorm_titleMovie: nameDenorm inner join titleMovie on tconst"
   ]
  },
  {
   "cell_type": "markdown",
   "metadata": {
    "id": "RyJVFwzKzCZX"
   },
   "source": [
    "## 1) Which movies, released in 2003, have received more than 50,000 votes and have an average rating of 8 or higher?"
   ]
  },
  {
   "cell_type": "code",
   "execution_count": 54,
   "metadata": {
    "execution": {
     "iopub.execute_input": "2024-12-03T16:41:57.832288Z",
     "iopub.status.busy": "2024-12-03T16:41:57.831952Z",
     "iopub.status.idle": "2024-12-03T16:41:57.876435Z",
     "shell.execute_reply": "2024-12-03T16:41:57.875691Z",
     "shell.execute_reply.started": "2024-12-03T16:41:57.832261Z"
    },
    "id": "NzutuWknzNhX"
   },
   "outputs": [
    {
     "data": {
      "application/vnd.jupyter.widget-view+json": {
       "model_id": "d1c9d8764ebf4bf8950ccbefaa72db92",
       "version_major": 2,
       "version_minor": 0
      },
      "text/plain": [
       "VBox()"
      ]
     },
     "metadata": {},
     "output_type": "display_data"
    },
    {
     "data": {
      "application/vnd.jupyter.widget-view+json": {
       "model_id": "",
       "version_major": 2,
       "version_minor": 0
      },
      "text/plain": [
       "FloatProgress(value=0.0, bar_style='info', description='Progress:', layout=Layout(height='25px', width='50%'),…"
      ]
     },
     "metadata": {},
     "output_type": "display_data"
    }
   ],
   "source": [
    "# we already had the joined table for 'movie' only in titleType and with rating\n",
    "# but it was denormalized / exploded\n",
    "# also many rows were filtered out because of having '\\N' as genre\n",
    "# so we have to recreate a new joint table\n",
    "\n",
    "# titleDF_rating"
   ]
  },
  {
   "cell_type": "code",
   "execution_count": 57,
   "metadata": {
    "colab": {
     "base_uri": "https://localhost:8080/"
    },
    "execution": {
     "iopub.execute_input": "2024-12-03T16:43:33.762149Z",
     "iopub.status.busy": "2024-12-03T16:43:33.761816Z",
     "iopub.status.idle": "2024-12-03T16:43:49.106484Z",
     "shell.execute_reply": "2024-12-03T16:43:49.105615Z",
     "shell.execute_reply.started": "2024-12-03T16:43:33.762122Z"
    },
    "id": "RT5vOrNGgp6a",
    "outputId": "fc025fa3-c2ac-4fdd-a939-39db2a7a404f",
    "tags": []
   },
   "outputs": [
    {
     "data": {
      "application/vnd.jupyter.widget-view+json": {
       "model_id": "a6a3458fa28f4216904cba84e2a8210f",
       "version_major": 2,
       "version_minor": 0
      },
      "text/plain": [
       "VBox()"
      ]
     },
     "metadata": {},
     "output_type": "display_data"
    },
    {
     "data": {
      "application/vnd.jupyter.widget-view+json": {
       "model_id": "",
       "version_major": 2,
       "version_minor": 0
      },
      "text/plain": [
       "FloatProgress(value=0.0, bar_style='info', description='Progress:', layout=Layout(height='25px', width='50%'),…"
      ]
     },
     "metadata": {},
     "output_type": "display_data"
    },
    {
     "name": "stdout",
     "output_type": "stream",
     "text": [
      "+---------+---------+--------------------+-------+---------+-------+--------------+--------------------+\n",
      "|   tconst|titleType|        primaryTitle|isAdult|startYear|endYear|runtimeMinutes|              genres|\n",
      "+---------+---------+--------------------+-------+---------+-------+--------------+--------------------+\n",
      "|tt0000009|    movie|          Miss Jerry|      0|     1894|     \\N|            45|             Romance|\n",
      "|tt0000147|    movie|The Corbett-Fitzs...|      0|     1897|     \\N|           100|Documentary,News,...|\n",
      "|tt0000502|    movie|            Bohemios|      0|     1905|     \\N|           100|                  \\N|\n",
      "|tt0000574|    movie|The Story of the ...|      0|     1906|     \\N|            70|Action,Adventure,...|\n",
      "|tt0000591|    movie|    The Prodigal Son|      0|     1907|     \\N|            90|               Drama|\n",
      "+---------+---------+--------------------+-------+---------+-------+--------------+--------------------+\n",
      "only showing top 5 rows\n",
      "\n",
      "(674077, 10613322)"
     ]
    }
   ],
   "source": [
    "# the movie sub df of title df\n",
    "# not denormalized and still has the '\\N' genre\n",
    "\n",
    "titleMovie.show(5)\n",
    "titleMovie.count(), title2.count()"
   ]
  },
  {
   "cell_type": "code",
   "execution_count": 59,
   "metadata": {
    "colab": {
     "base_uri": "https://localhost:8080/"
    },
    "execution": {
     "iopub.execute_input": "2024-12-03T16:45:11.991394Z",
     "iopub.status.busy": "2024-12-03T16:45:11.991082Z",
     "iopub.status.idle": "2024-12-03T16:45:35.358010Z",
     "shell.execute_reply": "2024-12-03T16:45:35.357120Z",
     "shell.execute_reply.started": "2024-12-03T16:45:11.991368Z"
    },
    "id": "7qtw6kTJgvaz",
    "outputId": "990e6f25-2393-4944-9272-8534d03b827a",
    "tags": []
   },
   "outputs": [
    {
     "data": {
      "application/vnd.jupyter.widget-view+json": {
       "model_id": "83a89de8a7b1480b89fa4a211d282356",
       "version_major": 2,
       "version_minor": 0
      },
      "text/plain": [
       "VBox()"
      ]
     },
     "metadata": {},
     "output_type": "display_data"
    },
    {
     "data": {
      "application/vnd.jupyter.widget-view+json": {
       "model_id": "",
       "version_major": 2,
       "version_minor": 0
      },
      "text/plain": [
       "FloatProgress(value=0.0, bar_style='info', description='Progress:', layout=Layout(height='25px', width='50%'),…"
      ]
     },
     "metadata": {},
     "output_type": "display_data"
    },
    {
     "name": "stdout",
     "output_type": "stream",
     "text": [
      "+---------+---------+--------------------+-------+---------+-------+--------------+--------------------+-------------+--------+\n",
      "|   tconst|titleType|        primaryTitle|isAdult|startYear|endYear|runtimeMinutes|              genres|averageRating|numVotes|\n",
      "+---------+---------+--------------------+-------+---------+-------+--------------+--------------------+-------------+--------+\n",
      "|tt0000675|    movie|         Don Quijote|      0|     1908|     \\N|            \\N|               Drama|          4.2|      20|\n",
      "|tt0000941|    movie|      Locura de amor|      0|     1909|     \\N|            45|               Drama|          4.5|      27|\n",
      "|tt0001101|    movie|Abraham Lincoln's...|      0|     1910|     \\N|            \\N|                  \\N|          4.8|      39|\n",
      "|tt0001911|    movie|         Nell Gwynne|      0|     1911|     \\N|            50|Biography,Drama,H...|          3.6|      25|\n",
      "|tt0002046|    movie|La Barrera número 13|      0|     1913|     \\N|            \\N|                  \\N|          3.7|       9|\n",
      "+---------+---------+--------------------+-------+---------+-------+--------------+--------------------+-------------+--------+\n",
      "only showing top 5 rows\n",
      "\n",
      "306078"
     ]
    }
   ],
   "source": [
    "# again, not all titles have rating data\n",
    "# 674077 movie, 306078 after inner join\n",
    "\n",
    "titleMovie_rating = titleMovie.join(rating, 'tconst')\n",
    "titleMovie_rating.show(5)\n",
    "titleMovie_rating.count()"
   ]
  },
  {
   "cell_type": "code",
   "execution_count": 62,
   "metadata": {
    "colab": {
     "base_uri": "https://localhost:8080/"
    },
    "execution": {
     "iopub.execute_input": "2024-12-03T16:47:16.479822Z",
     "iopub.status.busy": "2024-12-03T16:47:16.479485Z",
     "iopub.status.idle": "2024-12-03T16:47:28.133809Z",
     "shell.execute_reply": "2024-12-03T16:47:28.132653Z",
     "shell.execute_reply.started": "2024-12-03T16:47:16.479794Z"
    },
    "id": "I9U_S0N3bvVr",
    "outputId": "d902d36c-b6f6-4435-c278-9568c9a74ad1",
    "tags": []
   },
   "outputs": [
    {
     "data": {
      "application/vnd.jupyter.widget-view+json": {
       "model_id": "885d01c962184150a991a988f08cb2de",
       "version_major": 2,
       "version_minor": 0
      },
      "text/plain": [
       "VBox()"
      ]
     },
     "metadata": {},
     "output_type": "display_data"
    },
    {
     "data": {
      "application/vnd.jupyter.widget-view+json": {
       "model_id": "",
       "version_major": 2,
       "version_minor": 0
      },
      "text/plain": [
       "FloatProgress(value=0.0, bar_style='info', description='Progress:', layout=Layout(height='25px', width='50%'),…"
      ]
     },
     "metadata": {},
     "output_type": "display_data"
    },
    {
     "name": "stdout",
     "output_type": "stream",
     "text": [
      "answer to the question #1:\n",
      "\n",
      "+------------------------------------------------------+-------+---------------+\n",
      "|Movie                                                 |Ratings|Number of Votes|\n",
      "+------------------------------------------------------+-------+---------------+\n",
      "|The Lord of the Rings: The Return of the King         |9.0    |1965196        |\n",
      "|Oldboy                                                |8.3    |630695         |\n",
      "|Finding Nemo                                          |8.2    |1106772        |\n",
      "|Kill Bill: Vol. 1                                     |8.2    |1184605        |\n",
      "|Memories of Murder                                    |8.1    |213610         |\n",
      "|Pirates of the Caribbean: The Curse of the Black Pearl|8.1    |1202458        |\n",
      "|Munna Bhai M.B.B.S.                                   |8.1    |87972          |\n",
      "|Spring, Summer, Fall, Winter... and Spring            |8.0    |86510          |\n",
      "|Dogville                                              |8.0    |157921         |\n",
      "|Big Fish                                              |8.0    |457515         |\n",
      "+------------------------------------------------------+-------+---------------+"
     ]
    }
   ],
   "source": [
    "# now filter and print\n",
    "\n",
    "print('answer to the question #1:\\n')\n",
    "\n",
    "titleMovie_rating.select(\n",
    "    col('primaryTitle').alias('Movie'),\n",
    "    col('averageRating').alias('Ratings'),\n",
    "    col('numVotes').alias('Number of Votes'),\n",
    ").filter(\n",
    "    (col('startYear') == 2003) &\n",
    "    (col('numVotes') > 50000) &\n",
    "    (col('averageRating') >= 8)\n",
    ").sort(\n",
    "    col('averageRating').desc()\n",
    ").show(truncate=False)"
   ]
  },
  {
   "cell_type": "markdown",
   "metadata": {
    "id": "MDKU_Hkszp3f"
   },
   "source": [
    "## 2) List the films featuring Cillian Murphy as an actor since 2007, including their ratings. What is his highest-rated movie?"
   ]
  },
  {
   "cell_type": "code",
   "execution_count": 63,
   "metadata": {
    "colab": {
     "base_uri": "https://localhost:8080/"
    },
    "execution": {
     "iopub.execute_input": "2024-12-03T16:48:18.942691Z",
     "iopub.status.busy": "2024-12-03T16:48:18.942376Z",
     "iopub.status.idle": "2024-12-03T16:51:20.826283Z",
     "shell.execute_reply": "2024-12-03T16:51:20.825176Z",
     "shell.execute_reply.started": "2024-12-03T16:48:18.942665Z"
    },
    "id": "sE8hsA9WzrB4",
    "outputId": "9a94e2b5-1c0d-499e-8bdd-14ebc94a7cdd",
    "tags": []
   },
   "outputs": [
    {
     "data": {
      "application/vnd.jupyter.widget-view+json": {
       "model_id": "555f998824cb4696a5040ad28631132c",
       "version_major": 2,
       "version_minor": 0
      },
      "text/plain": [
       "VBox()"
      ]
     },
     "metadata": {},
     "output_type": "display_data"
    },
    {
     "data": {
      "application/vnd.jupyter.widget-view+json": {
       "model_id": "",
       "version_major": 2,
       "version_minor": 0
      },
      "text/plain": [
       "FloatProgress(value=0.0, bar_style='info', description='Progress:', layout=Layout(height='25px', width='50%'),…"
      ]
     },
     "metadata": {},
     "output_type": "display_data"
    },
    {
     "name": "stdout",
     "output_type": "stream",
     "text": [
      "+---------+---------+--------+---------------+---+--------------------+--------------------+---------+---------+------------------+--------------------+\n",
      "|   nconst|   tconst|ordering|       category|job|          characters|         primaryName|birthYear|deathYear| primaryProfession|      knownForTitles|\n",
      "+---------+---------+--------+---------------+---+--------------------+--------------------+---------+---------+------------------+--------------------+\n",
      "|nm0396433|tt0003975|       6|         writer| \\N|                  \\N|    William M. Hough|     1882|     1962| soundtrack,writer|tt0020504,tt02210...|\n",
      "|nm0107574|tt0004006|       3|        actress| \\N|    [\"Hope Langdon\"]|        Evelyn Brent|     1899|     1975|actress,soundtrack|tt0021374,tt00209...|\n",
      "|nm2423235|tt0004868|       4|        actress| \\N|[\"Magyar Mihályné...|   Kornélia Parlaghy|     1884|     1942|  actress,composer| tt0241782,tt0004868|\n",
      "|nm0822488|tt0005005|       8|cinematographer| \\N|                  \\N|Harry McGuire Sta...|     1888|     1945|   cinematographer|tt0008429,tt00050...|\n",
      "|nm0222350|tt0005104|       2|        actress| \\N|    [\"Cohen's Wife\"]|      Lillian Devere|       \\N|       \\N|           actress|tt0199341,tt00075...|\n",
      "+---------+---------+--------+---------------+---+--------------------+--------------------+---------+---------+------------------+--------------------+\n",
      "only showing top 5 rows\n",
      "\n",
      "(60833800, 13329316, 60833642)"
     ]
    }
   ],
   "source": [
    "# join principle and name table\n",
    "# this takes a long time - the principle table is huge\n",
    "# some of the nconst in the principle table was not found in name table\n",
    "# 60833800 - 60833642 = 158\n",
    "\n",
    "principle_name = principle.join(name, 'nconst')\n",
    "principle_name.show(5)\n",
    "\n",
    "principle.count(), name.count(), principle_name.count()"
   ]
  },
  {
   "cell_type": "code",
   "execution_count": 64,
   "metadata": {
    "colab": {
     "base_uri": "https://localhost:8080/"
    },
    "execution": {
     "iopub.execute_input": "2024-12-03T16:52:50.659960Z",
     "iopub.status.busy": "2024-12-03T16:52:50.659652Z",
     "iopub.status.idle": "2024-12-03T16:54:04.168596Z",
     "shell.execute_reply": "2024-12-03T16:54:04.167393Z",
     "shell.execute_reply.started": "2024-12-03T16:52:50.659935Z"
    },
    "id": "EGpQMYapXT-A",
    "outputId": "53f10448-24fc-459e-a520-cc9b33504686",
    "tags": []
   },
   "outputs": [
    {
     "data": {
      "application/vnd.jupyter.widget-view+json": {
       "model_id": "2507137c74654dc19e0099a0969dd1cb",
       "version_major": 2,
       "version_minor": 0
      },
      "text/plain": [
       "VBox()"
      ]
     },
     "metadata": {},
     "output_type": "display_data"
    },
    {
     "data": {
      "application/vnd.jupyter.widget-view+json": {
       "model_id": "",
       "version_major": 2,
       "version_minor": 0
      },
      "text/plain": [
       "FloatProgress(value=0.0, bar_style='info', description='Progress:', layout=Layout(height='25px', width='50%'),…"
      ]
     },
     "metadata": {},
     "output_type": "display_data"
    },
    {
     "name": "stdout",
     "output_type": "stream",
     "text": [
      "+---------+---------+--------+--------+---+---------------------------+--------------+---------+---------+-------------------------+----------------------------------------+\n",
      "|nconst   |tconst   |ordering|category|job|characters                 |primaryName   |birthYear|deathYear|primaryProfession        |knownForTitles                          |\n",
      "+---------+---------+--------+--------+---+---------------------------+--------------+---------+---------+-------------------------+----------------------------------------+\n",
      "|nm0614165|tt0168199|2       |actor   |\\N |[\"Davin McDerby\"]          |Cillian Murphy|1976     |\\N       |actor,producer,soundtrack|tt1375666,tt0448134,tt0289043,tt15398776|\n",
      "|nm0614165|tt0219987|3       |actor   |\\N |[\"Pat\"]                    |Cillian Murphy|1976     |\\N       |actor,producer,soundtrack|tt1375666,tt0448134,tt0289043,tt15398776|\n",
      "|nm0614165|tt0221559|1       |actor   |\\N |[\"Jonathan Breech\"]        |Cillian Murphy|1976     |\\N       |actor,producer,soundtrack|tt1375666,tt0448134,tt0289043,tt15398776|\n",
      "|nm0614165|tt0236157|2       |actor   |\\N |[\"Pig\"]                    |Cillian Murphy|1976     |\\N       |actor,producer,soundtrack|tt1375666,tt0448134,tt0289043,tt15398776|\n",
      "|nm0614165|tt0256084|3       |actor   |\\N |[\"Gus\"]                    |Cillian Murphy|1976     |\\N       |actor,producer,soundtrack|tt1375666,tt0448134,tt0289043,tt15398776|\n",
      "|nm0614165|tt0284092|4       |actor   |\\N |[\"Brendan McBride\"]        |Cillian Murphy|1976     |\\N       |actor,producer,soundtrack|tt1375666,tt0448134,tt0289043,tt15398776|\n",
      "|nm0614165|tt0284109|2       |actor   |\\N |[\"Ger\"]                    |Cillian Murphy|1976     |\\N       |actor,producer,soundtrack|tt1375666,tt0448134,tt0289043,tt15398776|\n",
      "|nm0614165|tt0289043|1       |actor   |\\N |[\"Jim\"]                    |Cillian Murphy|1976     |\\N       |actor,producer,soundtrack|tt1375666,tt0448134,tt0289043,tt15398776|\n",
      "|nm0614165|tt0299492|1       |actor   |\\N |[\"Young Reaper\"]           |Cillian Murphy|1976     |\\N       |actor,producer,soundtrack|tt1375666,tt0448134,tt0289043,tt15398776|\n",
      "|nm0614165|tt0299827|1       |actor   |\\N |[\"Guy Hendrickson\"]        |Cillian Murphy|1976     |\\N       |actor,producer,soundtrack|tt1375666,tt0448134,tt0289043,tt15398776|\n",
      "|nm0614165|tt0300879|3       |actor   |\\N |[\"Paul Montague\"]          |Cillian Murphy|1976     |\\N       |actor,producer,soundtrack|tt1375666,tt0448134,tt0289043,tt15398776|\n",
      "|nm0614165|tt0332658|1       |actor   |\\N |[\"John\"]                   |Cillian Murphy|1976     |\\N       |actor,producer,soundtrack|tt1375666,tt0448134,tt0289043,tt15398776|\n",
      "|nm0614165|tt0411195|1       |actor   |\\N |[\"Patrick 'Kitten' Braden\"]|Cillian Murphy|1976     |\\N       |actor,producer,soundtrack|tt1375666,tt0448134,tt0289043,tt15398776|\n",
      "|nm0614165|tt0421239|2       |actor   |\\N |[\"Jackson Rippner\"]        |Cillian Murphy|1976     |\\N       |actor,producer,soundtrack|tt1375666,tt0448134,tt0289043,tt15398776|\n",
      "|nm0614165|tt0448134|1       |actor   |\\N |[\"Robert Capa\"]            |Cillian Murphy|1976     |\\N       |actor,producer,soundtrack|tt1375666,tt0448134,tt0289043,tt15398776|\n",
      "|nm0614165|tt0460989|1       |actor   |\\N |[\"Damien\"]                 |Cillian Murphy|1976     |\\N       |actor,producer,soundtrack|tt1375666,tt0448134,tt0289043,tt15398776|\n",
      "|nm0614165|tt0472205|1       |actor   |\\N |[\"Neil\"]                   |Cillian Murphy|1976     |\\N       |actor,producer,soundtrack|tt1375666,tt0448134,tt0289043,tt15398776|\n",
      "|nm0614165|tt0947076|3       |actor   |\\N |\\N                         |Cillian Murphy|1976     |\\N       |actor,producer,soundtrack|tt1375666,tt0448134,tt0289043,tt15398776|\n",
      "|nm0614165|tt1003034|2       |actor   |\\N |[\"Michael\"]                |Cillian Murphy|1976     |\\N       |actor,producer,soundtrack|tt1375666,tt0448134,tt0289043,tt15398776|\n",
      "|nm0614165|tt1024652|1       |actor   |\\N |[\"David Neville\"]          |Cillian Murphy|1976     |\\N       |actor,producer,soundtrack|tt1375666,tt0448134,tt0289043,tt15398776|\n",
      "+---------+---------+--------+--------+---+---------------------------+--------------+---------+---------+-------------------------+----------------------------------------+\n",
      "only showing top 20 rows"
     ]
    }
   ],
   "source": [
    "# filter out 'Cillian Murphy' and 'actor'\n",
    "# so we know all titles with C as actor\n",
    "# this takes long time as well, but shorter than last cell\n",
    "\n",
    "c_actor = principle_name.filter(\n",
    "    (col('primaryName') == 'Cillian Murphy') &\n",
    "    (col('category') == 'actor')\n",
    ")\n",
    "c_actor.show(truncate=False)"
   ]
  },
  {
   "cell_type": "code",
   "execution_count": 65,
   "metadata": {
    "execution": {
     "iopub.execute_input": "2024-12-03T16:54:34.769176Z",
     "iopub.status.busy": "2024-12-03T16:54:34.768679Z",
     "iopub.status.idle": "2024-12-03T16:55:22.273530Z",
     "shell.execute_reply": "2024-12-03T16:55:22.272786Z",
     "shell.execute_reply.started": "2024-12-03T16:54:34.769130Z"
    },
    "tags": []
   },
   "outputs": [
    {
     "data": {
      "application/vnd.jupyter.widget-view+json": {
       "model_id": "678a0d07ca944d5c8b1710d96c55062f",
       "version_major": 2,
       "version_minor": 0
      },
      "text/plain": [
       "VBox()"
      ]
     },
     "metadata": {},
     "output_type": "display_data"
    },
    {
     "data": {
      "application/vnd.jupyter.widget-view+json": {
       "model_id": "",
       "version_major": 2,
       "version_minor": 0
      },
      "text/plain": [
       "FloatProgress(value=0.0, bar_style='info', description='Progress:', layout=Layout(height='25px', width='50%'),…"
      ]
     },
     "metadata": {},
     "output_type": "display_data"
    },
    {
     "name": "stdout",
     "output_type": "stream",
     "text": [
      "86"
     ]
    }
   ],
   "source": [
    "c_actor.count()"
   ]
  },
  {
   "cell_type": "code",
   "execution_count": 66,
   "metadata": {
    "execution": {
     "iopub.execute_input": "2024-12-03T16:57:26.223369Z",
     "iopub.status.busy": "2024-12-03T16:57:26.223060Z",
     "iopub.status.idle": "2024-12-03T16:58:33.715787Z",
     "shell.execute_reply": "2024-12-03T16:58:33.714884Z",
     "shell.execute_reply.started": "2024-12-03T16:57:26.223344Z"
    },
    "tags": []
   },
   "outputs": [
    {
     "data": {
      "application/vnd.jupyter.widget-view+json": {
       "model_id": "324e727ab23741d4bebd7833e33484e1",
       "version_major": 2,
       "version_minor": 0
      },
      "text/plain": [
       "VBox()"
      ]
     },
     "metadata": {},
     "output_type": "display_data"
    },
    {
     "data": {
      "application/vnd.jupyter.widget-view+json": {
       "model_id": "",
       "version_major": 2,
       "version_minor": 0
      },
      "text/plain": [
       "FloatProgress(value=0.0, bar_style='info', description='Progress:', layout=Layout(height='25px', width='50%'),…"
      ]
     },
     "metadata": {},
     "output_type": "display_data"
    },
    {
     "name": "stdout",
     "output_type": "stream",
     "text": [
      "86"
     ]
    }
   ],
   "source": [
    "# groupby tconst\n",
    "# might have duplicates where he serves as different roles in the same movie\n",
    "# but the results show there are no duplicates\n",
    "\n",
    "c_actor.select('tconst').distinct().count()"
   ]
  },
  {
   "cell_type": "code",
   "execution_count": 68,
   "metadata": {
    "colab": {
     "base_uri": "https://localhost:8080/"
    },
    "execution": {
     "iopub.execute_input": "2024-12-03T17:02:12.417125Z",
     "iopub.status.busy": "2024-12-03T17:02:12.416744Z",
     "iopub.status.idle": "2024-12-03T17:04:34.303301Z",
     "shell.execute_reply": "2024-12-03T17:04:34.302563Z",
     "shell.execute_reply.started": "2024-12-03T17:02:12.417092Z"
    },
    "id": "ysfkYyErj9Qi",
    "outputId": "65bb9700-202c-4ec9-8ec2-cb86d155dcdd",
    "tags": []
   },
   "outputs": [
    {
     "data": {
      "application/vnd.jupyter.widget-view+json": {
       "model_id": "3eaf3a02e0224dde89d043d848680f23",
       "version_major": 2,
       "version_minor": 0
      },
      "text/plain": [
       "VBox()"
      ]
     },
     "metadata": {},
     "output_type": "display_data"
    },
    {
     "data": {
      "application/vnd.jupyter.widget-view+json": {
       "model_id": "",
       "version_major": 2,
       "version_minor": 0
      },
      "text/plain": [
       "FloatProgress(value=0.0, bar_style='info', description='Progress:', layout=Layout(height='25px', width='50%'),…"
      ]
     },
     "metadata": {},
     "output_type": "display_data"
    },
    {
     "name": "stdout",
     "output_type": "stream",
     "text": [
      "+----------+---------+--------+--------+---+--------------------+--------------+---------+---------+--------------------+--------------------+---------+--------------------+-------+---------+-------+--------------+--------------------+-------------+--------+\n",
      "|    tconst|   nconst|ordering|category|job|          characters|   primaryName|birthYear|deathYear|   primaryProfession|      knownForTitles|titleType|        primaryTitle|isAdult|startYear|endYear|runtimeMinutes|              genres|averageRating|numVotes|\n",
      "+----------+---------+--------+--------+---+--------------------+--------------+---------+---------+--------------------+--------------------+---------+--------------------+-------+---------+-------+--------------+--------------------+-------------+--------+\n",
      "| tt7456310|nm0614165|       4|   actor| \\N|    [\"Lenny Miller\"]|Cillian Murphy|     1976|       \\N|actor,producer,so...|tt1375666,tt04481...|    movie|                Anna|      0|     2019|     \\N|           118|     Action,Thriller|          6.6|   92726|\n",
      "| tt0460989|nm0614165|       1|   actor| \\N|          [\"Damien\"]|Cillian Murphy|     1976|       \\N|actor,producer,so...|tt1375666,tt04481...|    movie|The Wind that Sha...|      0|     2006|     \\N|           127|           Drama,War|          7.5|   54179|\n",
      "| tt4158096|nm0614165|       4|   actor| \\N|           [\"Chris\"]|Cillian Murphy|     1976|       \\N|actor,producer,so...|tt1375666,tt04481...|    movie|           Free Fire|      0|     2016|     \\N|            91| Action,Comedy,Crime|          6.3|   50412|\n",
      "| tt1637688|nm0614165|       3|   actor| \\N|    [\"Raymond Leon\"]|Cillian Murphy|     1976|       \\N|actor,producer,so...|tt1375666,tt04481...|    movie|             In Time|      0|     2011|     \\N|           109|Action,Sci-Fi,Thr...|          6.7|  443273|\n",
      "| tt2494384|nm0614165|       2|   actor| \\N|            [\"Ivan\"]|Cillian Murphy|     1976|       \\N|actor,producer,so...|tt1375666,tt04481...|    movie|               Aloft|      0|     2014|     \\N|           112|               Drama|          5.3|    4025|\n",
      "|tt15398776|nm0614165|       1|   actor| \\N|[\"J. Robert Oppen...|Cillian Murphy|     1976|       \\N|actor,producer,so...|tt1375666,tt04481...|    movie|         Oppenheimer|      0|     2023|     \\N|           180|Biography,Drama,H...|          8.4|  669348|\n",
      "| tt4190530|nm0614165|       2|   actor| \\N|    [\"Josef Gabcík\"]|Cillian Murphy|     1976|       \\N|actor,producer,so...|tt1375666,tt04481...|    movie|          Anthropoid|      0|     2016|     \\N|           120|Action,Biography,...|          7.2|   53752|\n",
      "| tt1188113|nm0614165|       1|   actor| \\N|[\"John Skillpa\",\"...|Cillian Murphy|     1976|       \\N|actor,producer,so...|tt1375666,tt04481...|    movie|             Peacock|      0|     2010|     \\N|            90|Drama,Mystery,Thr...|          6.2|   12142|\n",
      "| tt5674658|nm0614165|       1|   actor| \\N|             [\"Dad\"]|Cillian Murphy|     1976|       \\N|actor,producer,so...|tt1375666,tt04481...|    movie|   Kensuke's Kingdom|      0|     2023|     \\N|            85| Adventure,Animation|          7.1|     130|\n",
      "| tt2209764|nm0614165|       4|   actor| \\N|  [\"Agent Buchanan\"]|Cillian Murphy|     1976|       \\N|actor,producer,so...|tt1375666,tt04481...|    movie|       Transcendence|      0|     2014|     \\N|           119| Action,Drama,Sci-Fi|          6.2|  238130|\n",
      "| tt0289043|nm0614165|       1|   actor| \\N|             [\"Jim\"]|Cillian Murphy|     1976|       \\N|actor,producer,so...|tt1375666,tt04481...|    movie|       28 Days Later|      0|     2002|     \\N|           113| Drama,Horror,Sci-Fi|          7.5|  442225|\n",
      "| tt1202056|nm0614165|       1|   actor| \\N|        [\"Narrator\"]|Cillian Murphy|     1976|       \\N|actor,producer,so...|tt1375666,tt04481...|    movie|          Waveriders|      0|     2008|     \\N|            80|Adventure,Biograp...|          6.8|     168|\n",
      "| tt0236157|nm0614165|       2|   actor| \\N|             [\"Pig\"]|Cillian Murphy|     1976|       \\N|actor,producer,so...|tt1375666,tt04481...|    movie|          Disco Pigs|      0|     2001|     \\N|            93| Crime,Drama,Romance|          6.5|    5160|\n",
      "| tt0168199|nm0614165|       2|   actor| \\N|   [\"Davin McDerby\"]|Cillian Murphy|     1976|       \\N|actor,producer,so...|tt1375666,tt04481...|    movie|             Sunburn|      0|     1999|     \\N|            89|        Comedy,Drama|          6.4|     754|\n",
      "| tt1390411|nm0614165|       2|   actor| \\N|     [\"Matthew Joy\"]|Cillian Murphy|     1976|       \\N|actor,producer,so...|tt1375666,tt04481...|    movie|In the Heart of t...|      0|     2015|     \\N|           122|Action,Adventure,...|          6.9|  148132|\n",
      "|tt27196021|nm0614165|       1|   actor| \\N|    [\"Bill Furlong\"]|Cillian Murphy|     1976|       \\N|actor,producer,so...|tt1375666,tt04481...|    movie|Small Things Like...|      0|     2024|     \\N|            96|       Drama,History|          7.2|     230|\n",
      "| tt0411195|nm0614165|       1|   actor| \\N|[\"Patrick 'Kitten...|Cillian Murphy|     1976|       \\N|actor,producer,so...|tt1375666,tt04481...|    movie|  Breakfast on Pluto|      0|     2005|     \\N|           128|        Comedy,Drama|          7.2|   24252|\n",
      "| tt0221559|nm0614165|       1|   actor| \\N| [\"Jonathan Breech\"]|Cillian Murphy|     1976|       \\N|actor,producer,so...|tt1375666,tt04481...|    movie|         On the Edge|      0|     2001|     \\N|            85|               Drama|          6.9|    4770|\n",
      "| tt0332658|nm0614165|       1|   actor| \\N|            [\"John\"]|Cillian Murphy|     1976|       \\N|actor,producer,so...|tt1375666,tt04481...|    movie|        Intermission|      0|     2003|     \\N|           105|  Comedy,Crime,Drama|          6.8|   16491|\n",
      "| tt8332922|nm0614165|       3|   actor| \\N|          [\"Emmett\"]|Cillian Murphy|     1976|       \\N|actor,producer,so...|tt1375666,tt04481...|    movie|A Quiet Place Par...|      0|     2020|     \\N|            97| Drama,Horror,Sci-Fi|          7.2|  269852|\n",
      "+----------+---------+--------+--------+---+--------------------+--------------+---------+---------+--------------------+--------------------+---------+--------------------+-------+---------+-------+--------------+--------------------+-------------+--------+\n",
      "only showing top 20 rows\n",
      "\n",
      "27"
     ]
    }
   ],
   "source": [
    "# inner join the titleMovie_rating df\n",
    "# only interested in movie, not other titleType\n",
    "# the join is rather slow\n",
    "# turns out there are only 27 rated\n",
    "\n",
    "c_actor_rating = c_actor.join(titleMovie_rating, 'tconst')\n",
    "c_actor_rating.show()\n",
    "c_actor_rating.count()"
   ]
  },
  {
   "cell_type": "code",
   "execution_count": 74,
   "metadata": {
    "colab": {
     "base_uri": "https://localhost:8080/"
    },
    "execution": {
     "iopub.execute_input": "2024-12-03T17:12:08.481333Z",
     "iopub.status.busy": "2024-12-03T17:12:08.479887Z",
     "iopub.status.idle": "2024-12-03T17:13:15.968091Z",
     "shell.execute_reply": "2024-12-03T17:13:15.967188Z",
     "shell.execute_reply.started": "2024-12-03T17:12:08.481274Z"
    },
    "id": "y6bZ7CIiXh-R",
    "outputId": "56feeafa-4192-474b-b4c5-a58eb16498b2",
    "tags": []
   },
   "outputs": [
    {
     "data": {
      "application/vnd.jupyter.widget-view+json": {
       "model_id": "d3709171bb454cb7ac73c0c448e50278",
       "version_major": 2,
       "version_minor": 0
      },
      "text/plain": [
       "VBox()"
      ]
     },
     "metadata": {},
     "output_type": "display_data"
    },
    {
     "data": {
      "application/vnd.jupyter.widget-view+json": {
       "model_id": "",
       "version_major": 2,
       "version_minor": 0
      },
      "text/plain": [
       "FloatProgress(value=0.0, bar_style='info', description='Progress:', layout=Layout(height='25px', width='50%'),…"
      ]
     },
     "metadata": {},
     "output_type": "display_data"
    },
    {
     "name": "stdout",
     "output_type": "stream",
     "text": [
      "answer to the question #2:\n",
      "\n",
      "+-----------------------+----+----------+\n",
      "|Movie                  |Year|Avg Rating|\n",
      "+-----------------------+----+----------+\n",
      "|Small Things Like These|2024|7.2       |\n",
      "|Oppenheimer            |2023|8.4       |\n",
      "|Kensuke's Kingdom      |2023|7.1       |\n",
      "|A Quiet Place Part II  |2020|7.2       |\n",
      "|Anna                   |2019|6.6       |\n",
      "|Anthropoid             |2016|7.2       |\n",
      "|Free Fire              |2016|6.3       |\n",
      "|In the Heart of the Sea|2015|6.9       |\n",
      "|Transcendence          |2014|6.2       |\n",
      "|Aloft                  |2014|5.3       |\n",
      "|Red Lights             |2012|6.2       |\n",
      "|Retreat                |2011|5.8       |\n",
      "|In Time                |2011|6.7       |\n",
      "|Peacock                |2010|6.2       |\n",
      "|Perrier's Bounty       |2009|6.3       |\n",
      "|Waveriders             |2008|6.8       |\n",
      "|Sunshine               |2007|7.2       |\n",
      "|Watching the Detectives|2007|6.2       |\n",
      "+-----------------------+----+----------+"
     ]
    }
   ],
   "source": [
    "# filter and print\n",
    "\n",
    "print('answer to the question #2:\\n')\n",
    "\n",
    "c_actor_rating.select(\n",
    "    col('primaryTitle').alias('Movie'),\n",
    "    col('startYear').alias('Year'),\n",
    "    col('averageRating').alias('Avg Rating')\n",
    ").filter(\n",
    "    col('startYear') >= 2007\n",
    ").sort(\n",
    "    col('startYear').desc()\n",
    ").show(30, truncate=False)"
   ]
  },
  {
   "cell_type": "code",
   "execution_count": 75,
   "metadata": {
    "execution": {
     "iopub.execute_input": "2024-12-03T17:13:15.970194Z",
     "iopub.status.busy": "2024-12-03T17:13:15.969838Z",
     "iopub.status.idle": "2024-12-03T17:14:35.519866Z",
     "shell.execute_reply": "2024-12-03T17:14:35.518641Z",
     "shell.execute_reply.started": "2024-12-03T17:13:15.970155Z"
    },
    "id": "_gjrCDzDlEmu",
    "tags": []
   },
   "outputs": [
    {
     "data": {
      "application/vnd.jupyter.widget-view+json": {
       "model_id": "6b684b9f984a453d9174f1f5baa96b25",
       "version_major": 2,
       "version_minor": 0
      },
      "text/plain": [
       "VBox()"
      ]
     },
     "metadata": {},
     "output_type": "display_data"
    },
    {
     "data": {
      "application/vnd.jupyter.widget-view+json": {
       "model_id": "",
       "version_major": 2,
       "version_minor": 0
      },
      "text/plain": [
       "FloatProgress(value=0.0, bar_style='info', description='Progress:', layout=Layout(height='25px', width='50%'),…"
      ]
     },
     "metadata": {},
     "output_type": "display_data"
    },
    {
     "name": "stdout",
     "output_type": "stream",
     "text": [
      "Cillian Murphy's highest rated movie since 2007:  Oppenheimer  with a rating of  8.4"
     ]
    }
   ],
   "source": [
    "# highest rated movie\n",
    "\n",
    "c_arr = c_actor_rating.sort(\n",
    "    col('averageRating').desc()\n",
    ").limit(1).collect()\n",
    "\n",
    "print('Cillian Murphy\\'s highest rated movie since 2007: ', c_arr[0]['primaryTitle'], ' with a rating of ', c_arr[0]['averageRating'])"
   ]
  },
  {
   "cell_type": "markdown",
   "metadata": {
    "id": "85X7JMxklHGl"
   },
   "source": [
    "## 3) How many movies has Zendaya featured as an actress in each year?"
   ]
  },
  {
   "cell_type": "code",
   "execution_count": 76,
   "metadata": {
    "colab": {
     "base_uri": "https://localhost:8080/"
    },
    "execution": {
     "iopub.execute_input": "2024-12-03T17:15:08.077161Z",
     "iopub.status.busy": "2024-12-03T17:15:08.076810Z",
     "iopub.status.idle": "2024-12-03T17:17:05.760221Z",
     "shell.execute_reply": "2024-12-03T17:17:05.759287Z",
     "shell.execute_reply.started": "2024-12-03T17:15:08.077131Z"
    },
    "id": "bTHDXROklNKl",
    "outputId": "30ea2086-c45a-4116-927b-cfc39fed8630"
   },
   "outputs": [
    {
     "data": {
      "application/vnd.jupyter.widget-view+json": {
       "model_id": "13d443420dc74ef6b62dcac4a1e08c09",
       "version_major": 2,
       "version_minor": 0
      },
      "text/plain": [
       "VBox()"
      ]
     },
     "metadata": {},
     "output_type": "display_data"
    },
    {
     "data": {
      "application/vnd.jupyter.widget-view+json": {
       "model_id": "",
       "version_major": 2,
       "version_minor": 0
      },
      "text/plain": [
       "FloatProgress(value=0.0, bar_style='info', description='Progress:', layout=Layout(height='25px', width='50%'),…"
      ]
     },
     "metadata": {},
     "output_type": "display_data"
    },
    {
     "name": "stdout",
     "output_type": "stream",
     "text": [
      "+---------+----------+--------+--------+---+-------------------+-----------+---------+---------+--------------------+--------------------+\n",
      "|   nconst|    tconst|ordering|category|job|         characters|primaryName|birthYear|deathYear|   primaryProfession|      knownForTitles|\n",
      "+---------+----------+--------+--------+---+-------------------+-----------+---------+---------+--------------------+--------------------+\n",
      "|nm3918035|tt10636622|       1| actress| \\N|    [\"Rue Bennett\"]|    Zendaya|     1996|       \\N|actress,producer,...|tt10872600,tt2250...|\n",
      "|nm3918035|tt10872600|       2| actress| \\N|             [\"MJ\"]|    Zendaya|     1996|       \\N|actress,producer,...|tt10872600,tt2250...|\n",
      "|nm3918035| tt1160419|       3| actress| \\N|          [\"Chani\"]|    Zendaya|     1996|       \\N|actress,producer,...|tt10872600,tt2250...|\n",
      "|nm3918035|tt12676326|       2| actress| \\N|          [\"Marie\"]|    Zendaya|     1996|       \\N|actress,producer,...|tt10872600,tt2250...|\n",
      "|nm3918035|tt13417116|       1| actress| \\N|                 \\N|    Zendaya|     1996|       \\N|actress,producer,...|tt10872600,tt2250...|\n",
      "|nm3918035|tt13608984|       1| actress| \\N|    [\"Rue Bennett\"]|    Zendaya|     1996|       \\N|actress,producer,...|tt10872600,tt2250...|\n",
      "|nm3918035|tt14498996|       1| actress| \\N|    [\"Rue Bennett\"]|    Zendaya|     1996|       \\N|actress,producer,...|tt10872600,tt2250...|\n",
      "|nm3918035|tt14509522|       1| actress| \\N|    [\"Rue Bennett\"]|    Zendaya|     1996|       \\N|actress,producer,...|tt10872600,tt2250...|\n",
      "|nm3918035|tt14510424|       1| actress| \\N|    [\"Rue Bennett\"]|    Zendaya|     1996|       \\N|actress,producer,...|tt10872600,tt2250...|\n",
      "|nm3918035|tt14796906|       8| actress| \\N|     [\"Lola Bunny\"]|    Zendaya|     1996|       \\N|actress,producer,...|tt10872600,tt2250...|\n",
      "|nm3918035| tt1485796|       4| actress| \\N|   [\"Anne Wheeler\"]|    Zendaya|     1996|       \\N|actress,producer,...|tt10872600,tt2250...|\n",
      "|nm3918035|tt15239678|       2| actress| \\N|          [\"Chani\"]|    Zendaya|     1996|       \\N|actress,producer,...|tt10872600,tt2250...|\n",
      "|nm3918035|tt15319554|       1| actress| \\N|    [\"Rue Bennett\"]|    Zendaya|     1996|       \\N|actress,producer,...|tt10872600,tt2250...|\n",
      "|nm3918035|tt15319556|       1| actress| \\N|    [\"Rue Bennett\"]|    Zendaya|     1996|       \\N|actress,producer,...|tt10872600,tt2250...|\n",
      "|nm3918035|tt15513310|      10| actress| \\N|                 \\N|    Zendaya|     1996|       \\N|actress,producer,...|tt10872600,tt2250...|\n",
      "|nm3918035|tt16258198|       1| actress| \\N|    [\"Rue Bennett\"]|    Zendaya|     1996|       \\N|actress,producer,...|tt10872600,tt2250...|\n",
      "|nm3918035|tt16426418|       3| actress| \\N|[\"Tashi Donaldson\"]|    Zendaya|     1996|       \\N|actress,producer,...|tt10872600,tt2250...|\n",
      "|nm3918035| tt1661326|       2| actress| \\N|     [\"Rocky Blue\"]|    Zendaya|     1996|       \\N|actress,producer,...|tt10872600,tt2250...|\n",
      "|nm3918035| tt1662433|       2| actress| \\N|     [\"Rocky Blue\"]|    Zendaya|     1996|       \\N|actress,producer,...|tt10872600,tt2250...|\n",
      "|nm3918035| tt1663033|       2| actress| \\N|     [\"Rocky Blue\"]|    Zendaya|     1996|       \\N|actress,producer,...|tt10872600,tt2250...|\n",
      "+---------+----------+--------+--------+---+-------------------+-----------+---------+---------+--------------------+--------------------+\n",
      "only showing top 20 rows\n",
      "\n",
      "198"
     ]
    }
   ],
   "source": [
    "# reuse the principle_name joint table\n",
    "# filter out 'Zendaya' and 'actress'\n",
    "\n",
    "z_actress = principle_name.filter(\n",
    "    (col('primaryName') == 'Zendaya') &\n",
    "    (col('category') == 'actress')\n",
    ")\n",
    "z_actress.show()\n",
    "z_actress.count()"
   ]
  },
  {
   "cell_type": "code",
   "execution_count": 77,
   "metadata": {
    "execution": {
     "iopub.execute_input": "2024-12-03T17:17:32.485273Z",
     "iopub.status.busy": "2024-12-03T17:17:32.484894Z",
     "iopub.status.idle": "2024-12-03T17:18:27.938091Z",
     "shell.execute_reply": "2024-12-03T17:18:27.937275Z",
     "shell.execute_reply.started": "2024-12-03T17:17:32.485243Z"
    },
    "tags": []
   },
   "outputs": [
    {
     "data": {
      "application/vnd.jupyter.widget-view+json": {
       "model_id": "f59c4deaa72a460087e04c5da775ed58",
       "version_major": 2,
       "version_minor": 0
      },
      "text/plain": [
       "VBox()"
      ]
     },
     "metadata": {},
     "output_type": "display_data"
    },
    {
     "data": {
      "application/vnd.jupyter.widget-view+json": {
       "model_id": "",
       "version_major": 2,
       "version_minor": 0
      },
      "text/plain": [
       "FloatProgress(value=0.0, bar_style='info', description='Progress:', layout=Layout(height='25px', width='50%'),…"
      ]
     },
     "metadata": {},
     "output_type": "display_data"
    },
    {
     "name": "stdout",
     "output_type": "stream",
     "text": [
      "198"
     ]
    }
   ],
   "source": [
    "# check if there are duplicated titles\n",
    "\n",
    "z_actress.select('tconst').distinct().count()"
   ]
  },
  {
   "cell_type": "code",
   "execution_count": 80,
   "metadata": {
    "execution": {
     "iopub.execute_input": "2024-12-03T17:23:13.516866Z",
     "iopub.status.busy": "2024-12-03T17:23:13.516629Z",
     "iopub.status.idle": "2024-12-03T17:24:02.984289Z",
     "shell.execute_reply": "2024-12-03T17:24:02.983167Z",
     "shell.execute_reply.started": "2024-12-03T17:23:13.516841Z"
    }
   },
   "outputs": [
    {
     "data": {
      "application/vnd.jupyter.widget-view+json": {
       "model_id": "e4604d36bc58443b9647769eccc2bcb9",
       "version_major": 2,
       "version_minor": 0
      },
      "text/plain": [
       "VBox()"
      ]
     },
     "metadata": {},
     "output_type": "display_data"
    },
    {
     "data": {
      "application/vnd.jupyter.widget-view+json": {
       "model_id": "",
       "version_major": 2,
       "version_minor": 0
      },
      "text/plain": [
       "FloatProgress(value=0.0, bar_style='info', description='Progress:', layout=Layout(height='25px', width='50%'),…"
      ]
     },
     "metadata": {},
     "output_type": "display_data"
    },
    {
     "name": "stdout",
     "output_type": "stream",
     "text": [
      "+---------+\n",
      "|   nconst|\n",
      "+---------+\n",
      "|nm3918035|\n",
      "+---------+"
     ]
    }
   ],
   "source": [
    "# there is only 1 Zendaya\n",
    "\n",
    "z_actress.select('nconst').distinct().show()"
   ]
  },
  {
   "cell_type": "code",
   "execution_count": 79,
   "metadata": {
    "execution": {
     "iopub.execute_input": "2024-12-03T17:20:43.634914Z",
     "iopub.status.busy": "2024-12-03T17:20:43.634604Z",
     "iopub.status.idle": "2024-12-03T17:23:13.515465Z",
     "shell.execute_reply": "2024-12-03T17:23:13.514602Z",
     "shell.execute_reply.started": "2024-12-03T17:20:43.634888Z"
    },
    "tags": []
   },
   "outputs": [
    {
     "data": {
      "application/vnd.jupyter.widget-view+json": {
       "model_id": "6f6bd6274cf944bdbf9dde54935eb140",
       "version_major": 2,
       "version_minor": 0
      },
      "text/plain": [
       "VBox()"
      ]
     },
     "metadata": {},
     "output_type": "display_data"
    },
    {
     "data": {
      "application/vnd.jupyter.widget-view+json": {
       "model_id": "",
       "version_major": 2,
       "version_minor": 0
      },
      "text/plain": [
       "FloatProgress(value=0.0, bar_style='info', description='Progress:', layout=Layout(height='25px', width='50%'),…"
      ]
     },
     "metadata": {},
     "output_type": "display_data"
    },
    {
     "name": "stdout",
     "output_type": "stream",
     "text": [
      "+----------+---------+--------+--------+---+-------------------+-----------+---------+---------+--------------------+--------------------+---------+--------------------+-------+---------+-------+--------------+--------------------+\n",
      "|    tconst|   nconst|ordering|category|job|         characters|primaryName|birthYear|deathYear|   primaryProfession|      knownForTitles|titleType|        primaryTitle|isAdult|startYear|endYear|runtimeMinutes|              genres|\n",
      "+----------+---------+--------+--------+---+-------------------+-----------+---------+---------+--------------------+--------------------+---------+--------------------+-------+---------+-------+--------------+--------------------+\n",
      "|tt13417116|nm3918035|       1| actress| \\N|                 \\N|    Zendaya|     1996|       \\N|actress,producer,...|tt10872600,tt2250...|    movie|          Be My Baby|      0|       \\N|     \\N|            \\N|           Biography|\n",
      "|tt16426418|nm3918035|       3| actress| \\N|[\"Tashi Donaldson\"]|    Zendaya|     1996|       \\N|actress,producer,...|tt10872600,tt2250...|    movie|         Challengers|      0|     2024|     \\N|            \\N| Drama,Romance,Sport|\n",
      "|tt10872600|nm3918035|       2| actress| \\N|             [\"MJ\"]|    Zendaya|     1996|       \\N|actress,producer,...|tt10872600,tt2250...|    movie|Spider-Man: No Wa...|      0|     2021|     \\N|           148|Action,Adventure,...|\n",
      "|tt12676326|nm3918035|       2| actress| \\N|          [\"Marie\"]|    Zendaya|     1996|       \\N|actress,producer,...|tt10872600,tt2250...|    movie|     Malcolm & Marie|      0|     2021|     \\N|           106|       Drama,Romance|\n",
      "| tt6182908|nm3918035|       3| actress| \\N|        [\"Meechee\"]|    Zendaya|     1996|       \\N|actress,producer,...|tt10872600,tt2250...|    movie|           Smallfoot|      0|     2018|     \\N|            96|Adventure,Animati...|\n",
      "| tt4940416|nm3918035|       2| actress| \\N|            [\"Chi\"]|    Zendaya|     1996|       \\N|actress,producer,...|tt10872600,tt2250...|    movie|     Duck Duck Goose|      0|     2018|     \\N|            91|Adventure,Animati...|\n",
      "|tt15239678|nm3918035|       2| actress| \\N|          [\"Chani\"]|    Zendaya|     1996|       \\N|actress,producer,...|tt10872600,tt2250...|    movie|      Dune: Part Two|      0|     2024|     \\N|           166|Action,Adventure,...|\n",
      "| tt1485796|nm3918035|       4| actress| \\N|   [\"Anne Wheeler\"]|    Zendaya|     1996|       \\N|actress,producer,...|tt10872600,tt2250...|    movie|The Greatest Showman|      0|     2017|     \\N|           105|Biography,Drama,M...|\n",
      "| tt1160419|nm3918035|       3| actress| \\N|          [\"Chani\"]|    Zendaya|     1996|       \\N|actress,producer,...|tt10872600,tt2250...|    movie|                Dune|      0|     2021|     \\N|           155|Action,Adventure,...|\n",
      "+----------+---------+--------+--------+---+-------------------+-----------+---------+---------+--------------------+--------------------+---------+--------------------+-------+---------+-------+--------------+--------------------+\n",
      "\n",
      "9"
     ]
    }
   ],
   "source": [
    "# inner join the movie table, not the rating table\n",
    "# the movie table has the complete list of all movies\n",
    "# the rating table does not\n",
    "# only 9 movies are found\n",
    "\n",
    "z_actress_movie = z_actress.join(titleMovie, 'tconst')\n",
    "z_actress_movie.show()\n",
    "z_actress_movie.count()"
   ]
  },
  {
   "cell_type": "code",
   "execution_count": 81,
   "metadata": {
    "colab": {
     "base_uri": "https://localhost:8080/"
    },
    "execution": {
     "iopub.execute_input": "2024-12-03T17:25:24.673608Z",
     "iopub.status.busy": "2024-12-03T17:25:24.673198Z",
     "iopub.status.idle": "2024-12-03T17:26:42.200783Z",
     "shell.execute_reply": "2024-12-03T17:26:42.199868Z",
     "shell.execute_reply.started": "2024-12-03T17:25:24.673554Z"
    },
    "id": "-zWxJW8Lpvsj",
    "outputId": "6f3b6d14-a9c7-4621-aca3-a2ee1c491e6a",
    "tags": []
   },
   "outputs": [
    {
     "data": {
      "application/vnd.jupyter.widget-view+json": {
       "model_id": "2f95c11355804a4f9d6f8f0b4db974fa",
       "version_major": 2,
       "version_minor": 0
      },
      "text/plain": [
       "VBox()"
      ]
     },
     "metadata": {},
     "output_type": "display_data"
    },
    {
     "data": {
      "application/vnd.jupyter.widget-view+json": {
       "model_id": "",
       "version_major": 2,
       "version_minor": 0
      },
      "text/plain": [
       "FloatProgress(value=0.0, bar_style='info', description='Progress:', layout=Layout(height='25px', width='50%'),…"
      ]
     },
     "metadata": {},
     "output_type": "display_data"
    },
    {
     "name": "stdout",
     "output_type": "stream",
     "text": [
      "answer to the question #3:\n",
      "\n",
      "+----+-----+\n",
      "|Year|Total|\n",
      "+----+-----+\n",
      "|\\N  |1    |\n",
      "|2024|2    |\n",
      "|2021|3    |\n",
      "|2018|2    |\n",
      "|2017|1    |\n",
      "+----+-----+"
     ]
    }
   ],
   "source": [
    "# filter and print\n",
    "\n",
    "print('answer to the question #3:\\n')\n",
    "\n",
    "z_actress_movie.groupby('startYear').count().sort(\n",
    "    col('startYear').desc()\n",
    ").select(\n",
    "    col('startYear').alias('Year'),\n",
    "    col('count').alias('Total'),\n",
    ").show(truncate=False)"
   ]
  },
  {
   "cell_type": "code",
   "execution_count": 82,
   "metadata": {
    "execution": {
     "iopub.execute_input": "2024-12-03T17:28:09.095246Z",
     "iopub.status.busy": "2024-12-03T17:28:09.094876Z",
     "iopub.status.idle": "2024-12-03T17:29:24.716477Z",
     "shell.execute_reply": "2024-12-03T17:29:24.715684Z",
     "shell.execute_reply.started": "2024-12-03T17:28:09.095216Z"
    },
    "tags": []
   },
   "outputs": [
    {
     "data": {
      "application/vnd.jupyter.widget-view+json": {
       "model_id": "7f5585e36204409cb8fddfccda9b4b24",
       "version_major": 2,
       "version_minor": 0
      },
      "text/plain": [
       "VBox()"
      ]
     },
     "metadata": {},
     "output_type": "display_data"
    },
    {
     "data": {
      "application/vnd.jupyter.widget-view+json": {
       "model_id": "",
       "version_major": 2,
       "version_minor": 0
      },
      "text/plain": [
       "FloatProgress(value=0.0, bar_style='info', description='Progress:', layout=Layout(height='25px', width='50%'),…"
      ]
     },
     "metadata": {},
     "output_type": "display_data"
    },
    {
     "name": "stdout",
     "output_type": "stream",
     "text": [
      "answer to the question #3:\n",
      "\n",
      "+----+-----+\n",
      "|Year|Total|\n",
      "+----+-----+\n",
      "|2024|2    |\n",
      "|2021|3    |\n",
      "|2018|2    |\n",
      "|2017|1    |\n",
      "+----+-----+"
     ]
    }
   ],
   "source": [
    "# get rid of '\\N'\n",
    "# again\n",
    "\n",
    "print('answer to the question #3:\\n')\n",
    "\n",
    "z_actress_movie.filter(\n",
    "    col('startYear') != r'\\N'\n",
    ").groupby('startYear').count().sort(\n",
    "    col('startYear').desc()\n",
    ").select(\n",
    "    col('startYear').alias('Year'),\n",
    "    col('count').alias('Total'),\n",
    ").show(truncate=False)"
   ]
  },
  {
   "cell_type": "markdown",
   "metadata": {
    "id": "yROOzLw3rWeX"
   },
   "source": [
    "## 4) At what age did Audrey Hepburn, known for her role in the movie 'Breakfast at Tiffany's' pass away?"
   ]
  },
  {
   "cell_type": "code",
   "execution_count": 83,
   "metadata": {
    "colab": {
     "base_uri": "https://localhost:8080/"
    },
    "execution": {
     "iopub.execute_input": "2024-12-03T17:29:39.568679Z",
     "iopub.status.busy": "2024-12-03T17:29:39.568330Z",
     "iopub.status.idle": "2024-12-03T17:29:39.842411Z",
     "shell.execute_reply": "2024-12-03T17:29:39.841614Z",
     "shell.execute_reply.started": "2024-12-03T17:29:39.568650Z"
    },
    "id": "GZSRkGpb2wQ6",
    "outputId": "e75594f0-5393-454d-c6d2-df095ea08898"
   },
   "outputs": [
    {
     "data": {
      "application/vnd.jupyter.widget-view+json": {
       "model_id": "c527c26722f949b8971f749bacb15280",
       "version_major": 2,
       "version_minor": 0
      },
      "text/plain": [
       "VBox()"
      ]
     },
     "metadata": {},
     "output_type": "display_data"
    },
    {
     "data": {
      "application/vnd.jupyter.widget-view+json": {
       "model_id": "",
       "version_major": 2,
       "version_minor": 0
      },
      "text/plain": [
       "FloatProgress(value=0.0, bar_style='info', description='Progress:', layout=Layout(height='25px', width='50%'),…"
      ]
     },
     "metadata": {},
     "output_type": "display_data"
    },
    {
     "name": "stdout",
     "output_type": "stream",
     "text": [
      "+---------+---------------+---------+---------+--------------------+---------+\n",
      "|   nconst|    primaryName|birthYear|deathYear|   primaryProfession|   tconst|\n",
      "+---------+---------------+---------+---------+--------------------+---------+\n",
      "|nm0000001|   Fred Astaire|     1899|     1987|soundtrack,actor,...|tt0027125|\n",
      "|nm0000001|   Fred Astaire|     1899|     1987|soundtrack,actor,...|tt0050419|\n",
      "|nm0000001|   Fred Astaire|     1899|     1987|soundtrack,actor,...|tt0053137|\n",
      "|nm0000001|   Fred Astaire|     1899|     1987|soundtrack,actor,...|tt0072308|\n",
      "|nm0000002|  Lauren Bacall|     1924|     2014|  actress,soundtrack|tt0075213|\n",
      "|nm0000002|  Lauren Bacall|     1924|     2014|  actress,soundtrack|tt0117057|\n",
      "|nm0000002|  Lauren Bacall|     1924|     2014|  actress,soundtrack|tt0038355|\n",
      "|nm0000002|  Lauren Bacall|     1924|     2014|  actress,soundtrack|tt0037382|\n",
      "|nm0000003|Brigitte Bardot|     1934|       \\N|actress,soundtrac...|tt0049189|\n",
      "|nm0000003|Brigitte Bardot|     1934|       \\N|actress,soundtrac...|tt0054452|\n",
      "+---------+---------------+---------+---------+--------------------+---------+\n",
      "only showing top 10 rows"
     ]
    }
   ],
   "source": [
    "# try another way to see if it's more efficient\n",
    "# not ideal always join 4 huge tables, especially the principle table\n",
    "\n",
    "# denormalize the name table\n",
    "# this fast, done in 1 second\n",
    "# seems principle table is the problem, try to avoid it\n",
    "\n",
    "nameDenorm = name.withColumn('knownForTitles', explode(split('knownForTitles', ',')))\\\n",
    "    .withColumnRenamed('knownForTitles', 'tconst')\n",
    "nameDenorm.show(10)"
   ]
  },
  {
   "cell_type": "code",
   "execution_count": 84,
   "metadata": {
    "colab": {
     "base_uri": "https://localhost:8080/"
    },
    "execution": {
     "iopub.execute_input": "2024-12-03T17:30:31.714936Z",
     "iopub.status.busy": "2024-12-03T17:30:31.714582Z",
     "iopub.status.idle": "2024-12-03T17:31:13.102898Z",
     "shell.execute_reply": "2024-12-03T17:31:13.101809Z",
     "shell.execute_reply.started": "2024-12-03T17:30:31.714908Z"
    },
    "id": "AZqXOEgM4xP3",
    "outputId": "84dcb197-a428-47c6-ddd8-70e513c0f2ca"
   },
   "outputs": [
    {
     "data": {
      "application/vnd.jupyter.widget-view+json": {
       "model_id": "b57ebf143611447dbfac5b4982f01a06",
       "version_major": 2,
       "version_minor": 0
      },
      "text/plain": [
       "VBox()"
      ]
     },
     "metadata": {},
     "output_type": "display_data"
    },
    {
     "data": {
      "application/vnd.jupyter.widget-view+json": {
       "model_id": "",
       "version_major": 2,
       "version_minor": 0
      },
      "text/plain": [
       "FloatProgress(value=0.0, bar_style='info', description='Progress:', layout=Layout(height='25px', width='50%'),…"
      ]
     },
     "metadata": {},
     "output_type": "display_data"
    },
    {
     "name": "stdout",
     "output_type": "stream",
     "text": [
      "+---------+---------+---------------+---------+---------+--------------------+---------+--------------+-------+---------+-------+--------------+--------------------+\n",
      "|   tconst|   nconst|    primaryName|birthYear|deathYear|   primaryProfession|titleType|  primaryTitle|isAdult|startYear|endYear|runtimeMinutes|              genres|\n",
      "+---------+---------+---------------+---------+---------+--------------------+---------+--------------+-------+---------+-------+--------------+--------------------+\n",
      "|tt0089218|nm0000276|     Sean Astin|     1971|       \\N|actor,producer,di...|    movie|   The Goonies|      0|     1985|     \\N|           114|Adventure,Comedy,...|\n",
      "|tt0119528|nm0000372| Amanda Donohoe|     1962|       \\N|    actress,producer|    movie|     Liar Liar|      0|     1997|     \\N|            86|      Comedy,Fantasy|\n",
      "|tt0089218|nm0000397|  Corey Feldman|       \\N|       \\N|actor,producer,so...|    movie|   The Goonies|      0|     1985|     \\N|           114|Adventure,Comedy,...|\n",
      "|tt0089218|nm0000588|Martha Plimpton|     1970|       \\N|actress,soundtrac...|    movie|   The Goonies|      0|     1985|     \\N|           114|Adventure,Comedy,...|\n",
      "|tt0089218|nm0000712|    Steve Cohen|       \\N|       \\N|assistant_directo...|    movie|   The Goonies|      0|     1985|     \\N|           114|Adventure,Comedy,...|\n",
      "|tt0086366|nm0001045|    Tommy Chong|     1938|       \\N|actor,soundtrack,...|    movie|  Still Smokin|      0|     1983|     \\N|            91|        Comedy,Music|\n",
      "|tt0089218|nm0001108|    Robert Davi|     1951|       \\N|actor,producer,di...|    movie|   The Goonies|      0|     1985|     \\N|           114|Adventure,Comedy,...|\n",
      "|tt0053320|nm0001148|   Troy Donahue|     1936|     2001|    actor,soundtrack|    movie|A Summer Place|      0|     1959|     \\N|           130|       Drama,Romance|\n",
      "|tt0114367|nm0001163|     Roy Dupuis|     1963|       \\N|actor,producer,di...|    movie|     Screamers|      0|     1995|     \\N|           108|Horror,Sci-Fi,Thr...|\n",
      "|tt0119528|nm0001436|  Swoosie Kurtz|     1944|       \\N|  actress,soundtrack|    movie|     Liar Liar|      0|     1997|     \\N|            86|      Comedy,Fantasy|\n",
      "+---------+---------+---------------+---------+---------+--------------------+---------+--------------+-------+---------+-------+--------------+--------------------+\n",
      "only showing top 10 rows"
     ]
    }
   ],
   "source": [
    "# join the titleMovie table so we know every actor/actress for their famous movie titles\n",
    "\n",
    "nameDenorm_titleMovie = nameDenorm.join(titleMovie, 'tconst')\n",
    "nameDenorm_titleMovie.show(10)"
   ]
  },
  {
   "cell_type": "code",
   "execution_count": 85,
   "metadata": {
    "colab": {
     "base_uri": "https://localhost:8080/"
    },
    "execution": {
     "iopub.execute_input": "2024-12-03T17:31:49.874623Z",
     "iopub.status.busy": "2024-12-03T17:31:49.874264Z",
     "iopub.status.idle": "2024-12-03T17:32:15.209526Z",
     "shell.execute_reply": "2024-12-03T17:32:15.208354Z",
     "shell.execute_reply.started": "2024-12-03T17:31:49.874583Z"
    },
    "id": "A88F-vAD3oYn",
    "outputId": "2dc54a23-6b28-468c-d62c-72efdaf25033",
    "tags": []
   },
   "outputs": [
    {
     "data": {
      "application/vnd.jupyter.widget-view+json": {
       "model_id": "b05d7f749a9446d0a1dd47affcda4401",
       "version_major": 2,
       "version_minor": 0
      },
      "text/plain": [
       "VBox()"
      ]
     },
     "metadata": {},
     "output_type": "display_data"
    },
    {
     "data": {
      "application/vnd.jupyter.widget-view+json": {
       "model_id": "",
       "version_major": 2,
       "version_minor": 0
      },
      "text/plain": [
       "FloatProgress(value=0.0, bar_style='info', description='Progress:', layout=Layout(height='25px', width='50%'),…"
      ]
     },
     "metadata": {},
     "output_type": "display_data"
    },
    {
     "name": "stdout",
     "output_type": "stream",
     "text": [
      "+---------+---------+--------------+---------+---------+------------------+---------+--------------------+-------+---------+-------+--------------+--------------------+\n",
      "|   tconst|   nconst|   primaryName|birthYear|deathYear| primaryProfession|titleType|        primaryTitle|isAdult|startYear|endYear|runtimeMinutes|              genres|\n",
      "+---------+---------+--------------+---------+---------+------------------+---------+--------------------+-------+---------+-------+--------------+--------------------+\n",
      "|tt0054698|nm0000030|Audrey Hepburn|     1929|     1993|actress,soundtrack|    movie|Breakfast at Tiff...|      0|     1961|     \\N|           115|Comedy,Drama,Romance|\n",
      "+---------+---------+--------------+---------+---------+------------------+---------+--------------------+-------+---------+-------+--------------+--------------------+"
     ]
    }
   ],
   "source": [
    "# find the specific 'Audrey Hepburn' knownForTitles the movie 'Breakfast at Tiffany\\'s'\n",
    "\n",
    "nameDenorm_titleMovie.filter(\n",
    "    (col('primaryName') == 'Audrey Hepburn') &\n",
    "    (col('primaryTitle') == 'Breakfast at Tiffany\\'s')\n",
    ").show()"
   ]
  },
  {
   "cell_type": "code",
   "execution_count": 87,
   "metadata": {
    "colab": {
     "base_uri": "https://localhost:8080/"
    },
    "execution": {
     "iopub.execute_input": "2024-12-03T17:33:40.403028Z",
     "iopub.status.busy": "2024-12-03T17:33:40.402701Z",
     "iopub.status.idle": "2024-12-03T17:34:01.740507Z",
     "shell.execute_reply": "2024-12-03T17:34:01.739626Z",
     "shell.execute_reply.started": "2024-12-03T17:33:40.402998Z"
    },
    "id": "Gi0tD7WG3K0P",
    "outputId": "df217d24-1463-4314-f03a-8e8b17ac349a",
    "tags": []
   },
   "outputs": [
    {
     "data": {
      "application/vnd.jupyter.widget-view+json": {
       "model_id": "9d19ccf03fe94ce4b21b06852a32891d",
       "version_major": 2,
       "version_minor": 0
      },
      "text/plain": [
       "VBox()"
      ]
     },
     "metadata": {},
     "output_type": "display_data"
    },
    {
     "data": {
      "application/vnd.jupyter.widget-view+json": {
       "model_id": "",
       "version_major": 2,
       "version_minor": 0
      },
      "text/plain": [
       "FloatProgress(value=0.0, bar_style='info', description='Progress:', layout=Layout(height='25px', width='50%'),…"
      ]
     },
     "metadata": {},
     "output_type": "display_data"
    },
    {
     "name": "stdout",
     "output_type": "stream",
     "text": [
      "answer to the question #4:\n",
      "\n",
      "Audrey Hepburn passed away at the age of 64"
     ]
    }
   ],
   "source": [
    "# print\n",
    "\n",
    "a_arr = nameDenorm_titleMovie.filter(\n",
    "    (col('primaryName') == 'Audrey Hepburn') &\n",
    "    (col('primaryTitle') == 'Breakfast at Tiffany\\'s')\n",
    ").select('primaryName', 'birthYear', 'deathYear').collect()\n",
    "\n",
    "print('answer to the question #4:\\n')\n",
    "\n",
    "print(a_arr[0][0], 'passed away at the age of', int(a_arr[0][2])-int(a_arr[0][1]))"
   ]
  },
  {
   "cell_type": "markdown",
   "metadata": {
    "id": "5AFkEWFDtzkU"
   },
   "source": [
    "## 5) What is the movie(s) with the highest average rating among those featuring Chris Evans, known for his role in 'Captain America: The First Avenger'?"
   ]
  },
  {
   "cell_type": "code",
   "execution_count": 88,
   "metadata": {
    "colab": {
     "base_uri": "https://localhost:8080/"
    },
    "execution": {
     "iopub.execute_input": "2024-12-03T17:34:16.100603Z",
     "iopub.status.busy": "2024-12-03T17:34:16.100291Z",
     "iopub.status.idle": "2024-12-03T17:34:39.434730Z",
     "shell.execute_reply": "2024-12-03T17:34:39.434034Z",
     "shell.execute_reply.started": "2024-12-03T17:34:16.100577Z"
    },
    "id": "gAuH80AzzpfS",
    "outputId": "728ac2ef-a44b-4173-bf0a-5086d84e653b"
   },
   "outputs": [
    {
     "data": {
      "application/vnd.jupyter.widget-view+json": {
       "model_id": "238df2b54bde4cea94d84da572e1d37a",
       "version_major": 2,
       "version_minor": 0
      },
      "text/plain": [
       "VBox()"
      ]
     },
     "metadata": {},
     "output_type": "display_data"
    },
    {
     "data": {
      "application/vnd.jupyter.widget-view+json": {
       "model_id": "",
       "version_major": 2,
       "version_minor": 0
      },
      "text/plain": [
       "FloatProgress(value=0.0, bar_style='info', description='Progress:', layout=Layout(height='25px', width='50%'),…"
      ]
     },
     "metadata": {},
     "output_type": "display_data"
    },
    {
     "name": "stdout",
     "output_type": "stream",
     "text": [
      "+---------+---------+-----------+---------+---------+--------------------+---------+--------------------+-------+---------+-------+--------------+--------------------+\n",
      "|   tconst|   nconst|primaryName|birthYear|deathYear|   primaryProfession|titleType|        primaryTitle|isAdult|startYear|endYear|runtimeMinutes|              genres|\n",
      "+---------+---------+-----------+---------+---------+--------------------+---------+--------------------+-------+---------+-------+--------------+--------------------+\n",
      "|tt0458339|nm0262635|Chris Evans|     1981|       \\N|actor,producer,so...|    movie|Captain America: ...|      0|     2011|     \\N|           124|Action,Adventure,...|\n",
      "+---------+---------+-----------+---------+---------+--------------------+---------+--------------------+-------+---------+-------+--------------+--------------------+"
     ]
    }
   ],
   "source": [
    "# find the specific 'Chris Evans' knownForTitles the movie 'Captain America: The First Avenger'\n",
    "\n",
    "nameDenorm_titleMovie.filter(\n",
    "    (col('primaryName') == 'Chris Evans') &\n",
    "    (col('primaryTitle') == 'Captain America: The First Avenger')\n",
    ").show()"
   ]
  },
  {
   "cell_type": "code",
   "execution_count": 89,
   "metadata": {
    "colab": {
     "base_uri": "https://localhost:8080/",
     "height": 35
    },
    "execution": {
     "iopub.execute_input": "2024-12-03T17:34:55.809864Z",
     "iopub.status.busy": "2024-12-03T17:34:55.809540Z",
     "iopub.status.idle": "2024-12-03T17:35:17.162395Z",
     "shell.execute_reply": "2024-12-03T17:35:17.161650Z",
     "shell.execute_reply.started": "2024-12-03T17:34:55.809837Z"
    },
    "id": "PkMBxxb20AnT",
    "outputId": "66b0e6bf-c180-464b-803e-1d289804b966",
    "tags": []
   },
   "outputs": [
    {
     "data": {
      "application/vnd.jupyter.widget-view+json": {
       "model_id": "232b154e5f254df18d609170a4ef492a",
       "version_major": 2,
       "version_minor": 0
      },
      "text/plain": [
       "VBox()"
      ]
     },
     "metadata": {},
     "output_type": "display_data"
    },
    {
     "data": {
      "application/vnd.jupyter.widget-view+json": {
       "model_id": "",
       "version_major": 2,
       "version_minor": 0
      },
      "text/plain": [
       "FloatProgress(value=0.0, bar_style='info', description='Progress:', layout=Layout(height='25px', width='50%'),…"
      ]
     },
     "metadata": {},
     "output_type": "display_data"
    },
    {
     "name": "stdout",
     "output_type": "stream",
     "text": [
      "'nm0262635'"
     ]
    }
   ],
   "source": [
    "# find all movies using this nconst\n",
    "\n",
    "id_chris = nameDenorm_titleMovie.filter(\n",
    "    (col('primaryName') == 'Chris Evans') &\n",
    "    (col('primaryTitle') == 'Captain America: The First Avenger')\n",
    ").select('nconst').collect()[0][0]\n",
    "\n",
    "id_chris"
   ]
  },
  {
   "cell_type": "code",
   "execution_count": 90,
   "metadata": {
    "colab": {
     "base_uri": "https://localhost:8080/"
    },
    "execution": {
     "iopub.execute_input": "2024-12-03T17:37:15.619087Z",
     "iopub.status.busy": "2024-12-03T17:37:15.618779Z",
     "iopub.status.idle": "2024-12-03T17:40:03.447732Z",
     "shell.execute_reply": "2024-12-03T17:40:03.446881Z",
     "shell.execute_reply.started": "2024-12-03T17:37:15.619060Z"
    },
    "id": "s4zNHKa69B15",
    "outputId": "cfc008f7-61f4-49d8-ea30-ac3fc3686ce8",
    "tags": []
   },
   "outputs": [
    {
     "data": {
      "application/vnd.jupyter.widget-view+json": {
       "model_id": "e5c34342fdc34f2a8dc881da17a0c440",
       "version_major": 2,
       "version_minor": 0
      },
      "text/plain": [
       "VBox()"
      ]
     },
     "metadata": {},
     "output_type": "display_data"
    },
    {
     "data": {
      "application/vnd.jupyter.widget-view+json": {
       "model_id": "",
       "version_major": 2,
       "version_minor": 0
      },
      "text/plain": [
       "FloatProgress(value=0.0, bar_style='info', description='Progress:', layout=Layout(height='25px', width='50%'),…"
      ]
     },
     "metadata": {},
     "output_type": "display_data"
    },
    {
     "name": "stdout",
     "output_type": "stream",
     "text": [
      "+---------+---------+--------------------+-------+---------+-------+--------------+------+-------------+--------+--------+---------+---------------+----+--------------------+\n",
      "|   tconst|titleType|        primaryTitle|isAdult|startYear|endYear|runtimeMinutes|genres|averageRating|numVotes|ordering|   nconst|       category| job|          characters|\n",
      "+---------+---------+--------------------+-------+---------+-------+--------------+------+-------------+--------+--------+---------+---------------+----+--------------------+\n",
      "|tt0000941|    movie|      Locura de amor|      0|     1909|     \\N|            45| Drama|          4.5|      27|       1|nm0034453|          actor|  \\N|                  \\N|\n",
      "|tt0000941|    movie|      Locura de amor|      0|     1909|     \\N|            45| Drama|          4.5|      27|       2|nm0140054|          actor|  \\N|                  \\N|\n",
      "|tt0000941|    movie|      Locura de amor|      0|     1909|     \\N|            45| Drama|          4.5|      27|       3|nm0243918|          actor|  \\N|                  \\N|\n",
      "|tt0000941|    movie|      Locura de amor|      0|     1909|     \\N|            45| Drama|          4.5|      27|       4|nm0294022|        actress|  \\N|                  \\N|\n",
      "|tt0000941|    movie|      Locura de amor|      0|     1909|     \\N|            45| Drama|          4.5|      27|       5|nm0063413|       director|  \\N|                  \\N|\n",
      "|tt0000941|    movie|      Locura de amor|      0|     1909|     \\N|            45| Drama|          4.5|      27|       6|nm0550220|       director|  \\N|                  \\N|\n",
      "|tt0000941|    movie|      Locura de amor|      0|     1909|     \\N|            45| Drama|          4.5|      27|       7|nm0848502|         writer|play|                  \\N|\n",
      "|tt0004272|    movie|Lucille Love: The...|      0|     1914|     \\N|           300|Action|          6.7|      28|      10|nm0368875|        actress|  \\N|                  \\N|\n",
      "|tt0004272|    movie|Lucille Love: The...|      0|     1914|     \\N|           300|Action|          6.7|      28|       1|nm0192062|        actress|  \\N|    [\"Lucille Love\"]|\n",
      "|tt0004272|    movie|Lucille Love: The...|      0|     1914|     \\N|           300|Action|          6.7|      28|       2|nm0285643|          actor|  \\N|   [\"Hugo Loubeque\"]|\n",
      "|tt0004272|    movie|Lucille Love: The...|      0|     1914|     \\N|           300|Action|          6.7|      28|       3|nm0776747|          actor|  \\N|      [\"Lt. Gibson\"]|\n",
      "|tt0004272|    movie|Lucille Love: The...|      0|     1914|     \\N|           300|Action|          6.7|      28|       4|nm0793189|          actor|  \\N|[\"Thompson - The ...|\n",
      "|tt0004272|    movie|Lucille Love: The...|      0|     1914|     \\N|           300|Action|          6.7|      28|       5|nm0880492|cinematographer|  \\N|                  \\N|\n",
      "|tt0004272|    movie|Lucille Love: The...|      0|     1914|     \\N|           300|Action|          6.7|      28|       6|nm0445507|          actor|  \\N|    [\"Sumpter Love\"]|\n",
      "|tt0004272|    movie|Lucille Love: The...|      0|     1914|     \\N|           300|Action|          6.7|      28|       7|nm0092665|          actor|  \\N|[\"Government Avia...|\n",
      "|tt0004272|    movie|Lucille Love: The...|      0|     1914|     \\N|           300|Action|          6.7|      28|       8|nm0383278|          actor|  \\N|                  \\N|\n",
      "|tt0004272|    movie|Lucille Love: The...|      0|     1914|     \\N|           300|Action|          6.7|      28|       9|nm0492302|          actor|  \\N|    [\"Native-Chief\"]|\n",
      "|tt0006706|    movie|Fången på Karlste...|      0|     1916|     \\N|            61| Drama|          5.7|      35|      10|nm0061665|          actor|  \\N|         [\"Student\"]|\n",
      "|tt0006706|    movie|Fången på Karlste...|      0|     1916|     \\N|            61| Drama|          5.7|      35|       1|nm0159633|          actor|  \\N|  [\"Count de Faber\"]|\n",
      "|tt0006706|    movie|Fången på Karlste...|      0|     1916|     \\N|            61| Drama|          5.7|      35|       2|nm0144047|        actress|  \\N|   [\"Mary Plussman\"]|\n",
      "+---------+---------+--------------------+-------+---------+-------+--------------+------+-------------+--------+--------+---------+---------------+----+--------------------+\n",
      "only showing top 20 rows\n",
      "\n",
      "2726538"
     ]
    }
   ],
   "source": [
    "# need the titleMovie, the rating, and the principle table to find the complete tconst, nconst association\n",
    "# might be slow but have to\n",
    "# join titleMovie, rating and principle\n",
    "\n",
    "titleMovie_rating_principle = titleMovie_rating.join(principle, 'tconst')\n",
    "titleMovie_rating_principle.show()\n",
    "titleMovie_rating_principle.count()"
   ]
  },
  {
   "cell_type": "code",
   "execution_count": 91,
   "metadata": {
    "execution": {
     "iopub.execute_input": "2024-12-03T17:40:09.446484Z",
     "iopub.status.busy": "2024-12-03T17:40:09.446178Z",
     "iopub.status.idle": "2024-12-03T17:40:58.872883Z",
     "shell.execute_reply": "2024-12-03T17:40:58.872122Z",
     "shell.execute_reply.started": "2024-12-03T17:40:09.446458Z"
    },
    "id": "LBrHPkMR9qX4",
    "tags": []
   },
   "outputs": [
    {
     "data": {
      "application/vnd.jupyter.widget-view+json": {
       "model_id": "3ed81e7f990e44c4a04edf151ac870d8",
       "version_major": 2,
       "version_minor": 0
      },
      "text/plain": [
       "VBox()"
      ]
     },
     "metadata": {},
     "output_type": "display_data"
    },
    {
     "data": {
      "application/vnd.jupyter.widget-view+json": {
       "model_id": "",
       "version_major": 2,
       "version_minor": 0
      },
      "text/plain": [
       "FloatProgress(value=0.0, bar_style='info', description='Progress:', layout=Layout(height='25px', width='50%'),…"
      ]
     },
     "metadata": {},
     "output_type": "display_data"
    }
   ],
   "source": [
    "# what is the highest rating among all titleMovie that list him\n",
    "# just as actor\n",
    "\n",
    "ans5_rating = titleMovie_rating_principle.filter(\n",
    "    (col('nconst') == id_chris) &\n",
    "    (col('category') == 'actor')\n",
    ").select(\n",
    "    max('averageRating')\n",
    ").collect()[0][0]"
   ]
  },
  {
   "cell_type": "code",
   "execution_count": 92,
   "metadata": {
    "colab": {
     "base_uri": "https://localhost:8080/"
    },
    "execution": {
     "iopub.execute_input": "2024-12-03T17:41:03.511031Z",
     "iopub.status.busy": "2024-12-03T17:41:03.510642Z",
     "iopub.status.idle": "2024-12-03T17:41:54.954229Z",
     "shell.execute_reply": "2024-12-03T17:41:54.953413Z",
     "shell.execute_reply.started": "2024-12-03T17:41:03.510998Z"
    },
    "id": "a3ttH3z8_Yl9",
    "outputId": "2d64974a-c6f3-47e9-f023-cf640b39bf02",
    "tags": []
   },
   "outputs": [
    {
     "data": {
      "application/vnd.jupyter.widget-view+json": {
       "model_id": "f87ec14a81da47cb93dbd705589948a7",
       "version_major": 2,
       "version_minor": 0
      },
      "text/plain": [
       "VBox()"
      ]
     },
     "metadata": {},
     "output_type": "display_data"
    },
    {
     "data": {
      "application/vnd.jupyter.widget-view+json": {
       "model_id": "",
       "version_major": 2,
       "version_minor": 0
      },
      "text/plain": [
       "FloatProgress(value=0.0, bar_style='info', description='Progress:', layout=Layout(height='25px', width='50%'),…"
      ]
     },
     "metadata": {},
     "output_type": "display_data"
    },
    {
     "name": "stdout",
     "output_type": "stream",
     "text": [
      "answer to the question #5:\n",
      "\n",
      "+----------------------+------------------+\n",
      "|Movies                |Highest Avg Rating|\n",
      "+----------------------+------------------+\n",
      "|Avengers: Infinity War|8.4               |\n",
      "|Avengers: Endgame     |8.4               |\n",
      "+----------------------+------------------+"
     ]
    }
   ],
   "source": [
    "# filter and print\n",
    "\n",
    "print('answer to the question #5:\\n')\n",
    "\n",
    "titleMovie_rating_principle.filter(\n",
    "    (col('nconst') == id_chris) &\n",
    "    (col('averageRating') == ans5_rating)\n",
    ").select(\n",
    "    col('primaryTitle').alias('Movies'),\n",
    "    col('averageRating').alias('Highest Avg Rating')\n",
    ").show(truncate=False)"
   ]
  },
  {
   "cell_type": "markdown",
   "metadata": {
    "id": "B1Yq6O-9CIu4"
   },
   "source": [
    "## 6) Among the movies in which Clint Eastwood, known for 'The Good, the Bad and the Ugly', and Harrison Ford, known for 'Raiders of the Lost Ark', have acted, who has the higher average rating?"
   ]
  },
  {
   "cell_type": "code",
   "execution_count": 93,
   "metadata": {
    "colab": {
     "base_uri": "https://localhost:8080/"
    },
    "execution": {
     "iopub.execute_input": "2024-12-03T17:42:00.823745Z",
     "iopub.status.busy": "2024-12-03T17:42:00.823414Z",
     "iopub.status.idle": "2024-12-03T17:42:44.231893Z",
     "shell.execute_reply": "2024-12-03T17:42:44.231168Z",
     "shell.execute_reply.started": "2024-12-03T17:42:00.823717Z"
    },
    "id": "X3jAgWymDkly",
    "outputId": "c6bcc100-56a5-402e-d927-60e74124808c",
    "tags": []
   },
   "outputs": [
    {
     "data": {
      "application/vnd.jupyter.widget-view+json": {
       "model_id": "6293a678d0c140358a7ee8a9f4c0679c",
       "version_major": 2,
       "version_minor": 0
      },
      "text/plain": [
       "VBox()"
      ]
     },
     "metadata": {},
     "output_type": "display_data"
    },
    {
     "data": {
      "application/vnd.jupyter.widget-view+json": {
       "model_id": "",
       "version_major": 2,
       "version_minor": 0
      },
      "text/plain": [
       "FloatProgress(value=0.0, bar_style='info', description='Progress:', layout=Layout(height='25px', width='50%'),…"
      ]
     },
     "metadata": {},
     "output_type": "display_data"
    },
    {
     "name": "stdout",
     "output_type": "stream",
     "text": [
      "+------+\n",
      "|nconst|\n",
      "+------+\n",
      "+------+\n",
      "\n",
      "+---------+\n",
      "|   nconst|\n",
      "+---------+\n",
      "|nm0000148|\n",
      "+---------+"
     ]
    }
   ],
   "source": [
    "# once again the knownForTitles col is useful\n",
    "\n",
    "nameDenorm_titleMovie.filter(\n",
    "    (col('primaryName') == 'Clint Eastwood') &\n",
    "    (col('primaryTitle') == 'The Good, the Bad and the Ugly')\n",
    ").select('nconst').show()\n",
    "\n",
    "nameDenorm_titleMovie.filter(\n",
    "    (col('primaryName') == 'Harrison Ford') &\n",
    "    (col('primaryTitle') == 'Raiders of the Lost Ark')\n",
    ").select('nconst').show()"
   ]
  },
  {
   "cell_type": "code",
   "execution_count": 94,
   "metadata": {
    "execution": {
     "iopub.execute_input": "2024-12-03T17:43:59.804605Z",
     "iopub.status.busy": "2024-12-03T17:43:59.804291Z",
     "iopub.status.idle": "2024-12-03T17:44:35.185257Z",
     "shell.execute_reply": "2024-12-03T17:44:35.184380Z",
     "shell.execute_reply.started": "2024-12-03T17:43:59.804578Z"
    },
    "tags": []
   },
   "outputs": [
    {
     "data": {
      "application/vnd.jupyter.widget-view+json": {
       "model_id": "e13214c4e9c44288a062bacb266f0582",
       "version_major": 2,
       "version_minor": 0
      },
      "text/plain": [
       "VBox()"
      ]
     },
     "metadata": {},
     "output_type": "display_data"
    },
    {
     "data": {
      "application/vnd.jupyter.widget-view+json": {
       "model_id": "",
       "version_major": 2,
       "version_minor": 0
      },
      "text/plain": [
       "FloatProgress(value=0.0, bar_style='info', description='Progress:', layout=Layout(height='25px', width='50%'),…"
      ]
     },
     "metadata": {},
     "output_type": "display_data"
    },
    {
     "name": "stdout",
     "output_type": "stream",
     "text": [
      "+---------+---------+--------------+---------+---------+--------------------+---------+--------------------+-------+---------+-------+--------------+-------------+\n",
      "|   tconst|   nconst|   primaryName|birthYear|deathYear|   primaryProfession|titleType|        primaryTitle|isAdult|startYear|endYear|runtimeMinutes|       genres|\n",
      "+---------+---------+--------------+---------+---------+--------------------+---------+--------------------+-------+---------+-------+--------------+-------------+\n",
      "|tt1205489|nm0000142|Clint Eastwood|     1930|       \\N|actor,producer,di...|    movie|         Gran Torino|      0|     2008|     \\N|           116|        Drama|\n",
      "|tt0405159|nm0000142|Clint Eastwood|     1930|       \\N|actor,producer,di...|    movie| Million Dollar Baby|      0|     2004|     \\N|           132|  Drama,Sport|\n",
      "|tt0105695|nm0000142|Clint Eastwood|     1930|       \\N|actor,producer,di...|    movie|          Unforgiven|      0|     1992|     \\N|           130|Drama,Western|\n",
      "|tt0112579|nm0000142|Clint Eastwood|     1930|       \\N|actor,producer,di...|    movie|The Bridges of Ma...|      0|     1995|     \\N|           135|Drama,Romance|\n",
      "+---------+---------+--------------+---------+---------+--------------------+---------+--------------------+-------+---------+-------+--------------+-------------+"
     ]
    }
   ],
   "source": [
    "# but we cannot find Clint\n",
    "# just use the name to see if there is only 1 Clint Eastwood\n",
    "# ok\n",
    "\n",
    "nameDenorm_titleMovie.filter(\n",
    "    col('primaryName') == 'Clint Eastwood'\n",
    ").show()"
   ]
  },
  {
   "cell_type": "code",
   "execution_count": 95,
   "metadata": {
    "execution": {
     "iopub.execute_input": "2024-12-03T17:45:59.988693Z",
     "iopub.status.busy": "2024-12-03T17:45:59.988379Z",
     "iopub.status.idle": "2024-12-03T17:46:51.455414Z",
     "shell.execute_reply": "2024-12-03T17:46:51.454514Z",
     "shell.execute_reply.started": "2024-12-03T17:45:59.988667Z"
    },
    "id": "xyTK84KKETWx",
    "tags": []
   },
   "outputs": [
    {
     "data": {
      "application/vnd.jupyter.widget-view+json": {
       "model_id": "55855214977043ec87530c62eeba1ac6",
       "version_major": 2,
       "version_minor": 0
      },
      "text/plain": [
       "VBox()"
      ]
     },
     "metadata": {},
     "output_type": "display_data"
    },
    {
     "data": {
      "application/vnd.jupyter.widget-view+json": {
       "model_id": "",
       "version_major": 2,
       "version_minor": 0
      },
      "text/plain": [
       "FloatProgress(value=0.0, bar_style='info', description='Progress:', layout=Layout(height='25px', width='50%'),…"
      ]
     },
     "metadata": {},
     "output_type": "display_data"
    },
    {
     "name": "stdout",
     "output_type": "stream",
     "text": [
      "('nm0000142', 'nm0000148')"
     ]
    }
   ],
   "source": [
    "id_clint = nameDenorm_titleMovie.filter(\n",
    "    col('primaryName') == 'Clint Eastwood'\n",
    ").select('nconst').collect()[0][0]\n",
    "\n",
    "id_harrison = nameDenorm_titleMovie.filter(\n",
    "    (col('primaryName') == 'Harrison Ford') &\n",
    "    (col('primaryTitle') == 'Raiders of the Lost Ark')\n",
    ").select('nconst').collect()[0][0]\n",
    "\n",
    "id_clint, id_harrison"
   ]
  },
  {
   "cell_type": "code",
   "execution_count": 98,
   "metadata": {
    "colab": {
     "base_uri": "https://localhost:8080/"
    },
    "execution": {
     "iopub.execute_input": "2024-12-03T17:50:56.579969Z",
     "iopub.status.busy": "2024-12-03T17:50:56.579618Z",
     "iopub.status.idle": "2024-12-03T17:52:50.219777Z",
     "shell.execute_reply": "2024-12-03T17:52:50.218932Z",
     "shell.execute_reply.started": "2024-12-03T17:50:56.579934Z"
    },
    "id": "udw_nvf3EolQ",
    "outputId": "779de8af-5a99-41be-d731-36e5a835e58d",
    "tags": []
   },
   "outputs": [
    {
     "data": {
      "application/vnd.jupyter.widget-view+json": {
       "model_id": "52f1fca9fd054d45ab1db8131d050897",
       "version_major": 2,
       "version_minor": 0
      },
      "text/plain": [
       "VBox()"
      ]
     },
     "metadata": {},
     "output_type": "display_data"
    },
    {
     "data": {
      "application/vnd.jupyter.widget-view+json": {
       "model_id": "",
       "version_major": 2,
       "version_minor": 0
      },
      "text/plain": [
       "FloatProgress(value=0.0, bar_style='info', description='Progress:', layout=Layout(height='25px', width='50%'),…"
      ]
     },
     "metadata": {},
     "output_type": "display_data"
    }
   ],
   "source": [
    "# only the titles they have acted, might be producer and what not\n",
    "\n",
    "clint_rating = titleMovie_rating_principle.filter(\n",
    "    (col('nconst') == id_clint) &\n",
    "    (col('category') == 'actor')\n",
    ").select(\n",
    "    avg('averageRating')\n",
    ").collect()[0][0]\n",
    "\n",
    "harrison_rating = titleMovie_rating_principle.filter(\n",
    "    (col('nconst') == id_harrison) &\n",
    "    (col('category') == 'actor')\n",
    ").select(\n",
    "    avg('averageRating')\n",
    ").collect()[0][0]"
   ]
  },
  {
   "cell_type": "code",
   "execution_count": 100,
   "metadata": {
    "execution": {
     "iopub.execute_input": "2024-12-03T17:52:54.920444Z",
     "iopub.status.busy": "2024-12-03T17:52:54.920114Z",
     "iopub.status.idle": "2024-12-03T17:52:54.966862Z",
     "shell.execute_reply": "2024-12-03T17:52:54.966100Z",
     "shell.execute_reply.started": "2024-12-03T17:52:54.920418Z"
    },
    "id": "9pOLi1aHE5nX",
    "tags": []
   },
   "outputs": [
    {
     "data": {
      "application/vnd.jupyter.widget-view+json": {
       "model_id": "eec14c285c3040f991ece6aff1ab9e4e",
       "version_major": 2,
       "version_minor": 0
      },
      "text/plain": [
       "VBox()"
      ]
     },
     "metadata": {},
     "output_type": "display_data"
    },
    {
     "data": {
      "application/vnd.jupyter.widget-view+json": {
       "model_id": "",
       "version_major": 2,
       "version_minor": 0
      },
      "text/plain": [
       "FloatProgress(value=0.0, bar_style='info', description='Progress:', layout=Layout(height='25px', width='50%'),…"
      ]
     },
     "metadata": {},
     "output_type": "display_data"
    },
    {
     "name": "stdout",
     "output_type": "stream",
     "text": [
      "answer to the question #6:\n",
      "\n",
      "The average rating of Harrison Ford is 6.83125 \n",
      "\n",
      "The average rating of Clint Eastwood is 6.86346153846154 \n",
      "\n",
      "Clint Eastwood has a higher average rating"
     ]
    }
   ],
   "source": [
    "# filter and print\n",
    "\n",
    "print('answer to the question #6:\\n')\n",
    "\n",
    "print('The average rating of Harrison Ford is', harrison_rating, '\\n')\n",
    "print('The average rating of Clint Eastwood is', clint_rating, '\\n')\n",
    "\n",
    "if clint_rating > harrison_rating:\n",
    "    print('Clint Eastwood has a higher average rating')\n",
    "else:\n",
    "    print('Harrison Ford has a higher average rating')"
   ]
  },
  {
   "cell_type": "markdown",
   "metadata": {
    "id": "8kSt5CYdCOVF"
   },
   "source": [
    "## 7) What are the movies in which both Johnny Depp and Helena Bonham Carter have acted together?\n",
    "\n"
   ]
  },
  {
   "cell_type": "code",
   "execution_count": 101,
   "metadata": {
    "colab": {
     "base_uri": "https://localhost:8080/"
    },
    "execution": {
     "iopub.execute_input": "2024-12-03T17:53:23.013768Z",
     "iopub.status.busy": "2024-12-03T17:53:23.013455Z",
     "iopub.status.idle": "2024-12-03T17:53:38.322228Z",
     "shell.execute_reply": "2024-12-03T17:53:38.321200Z",
     "shell.execute_reply.started": "2024-12-03T17:53:23.013741Z"
    },
    "id": "q_U01k_wFbp1",
    "outputId": "400664f5-e9b2-4cc7-efe7-323234a85085",
    "tags": []
   },
   "outputs": [
    {
     "data": {
      "application/vnd.jupyter.widget-view+json": {
       "model_id": "e0be499b34fc4cdfb1029fce4f675e98",
       "version_major": 2,
       "version_minor": 0
      },
      "text/plain": [
       "VBox()"
      ]
     },
     "metadata": {},
     "output_type": "display_data"
    },
    {
     "data": {
      "application/vnd.jupyter.widget-view+json": {
       "model_id": "",
       "version_major": 2,
       "version_minor": 0
      },
      "text/plain": [
       "FloatProgress(value=0.0, bar_style='info', description='Progress:', layout=Layout(height='25px', width='50%'),…"
      ]
     },
     "metadata": {},
     "output_type": "display_data"
    },
    {
     "name": "stdout",
     "output_type": "stream",
     "text": [
      "+---------+--------------------+---------+---------+--------------------+--------------------+\n",
      "|   nconst|         primaryName|birthYear|deathYear|   primaryProfession|      knownForTitles|\n",
      "+---------+--------------------+---------+---------+--------------------+--------------------+\n",
      "|nm0000136|         Johnny Depp|     1963|       \\N|actor,producer,so...|tt0449088,tt04082...|\n",
      "|nm0000307|Helena Bonham Carter|     1966|       \\N|actress,soundtrac...|tt0408236,tt17073...|\n",
      "+---------+--------------------+---------+---------+--------------------+--------------------+"
     ]
    }
   ],
   "source": [
    "# up til now, we are utilizing the 'knownForTitles' column in name table\n",
    "# it is the most famous ones, but now we have to find the complete list\n",
    "\n",
    "# let's see if 'Johnny Depp' and 'Helena Bonham Carter' are unique\n",
    "\n",
    "name.filter(\n",
    "    (col('primaryName') == 'Johnny Depp') |\n",
    "    (col('primaryName') == 'Helena Bonham Carter')\n",
    ").show()"
   ]
  },
  {
   "cell_type": "code",
   "execution_count": 102,
   "metadata": {
    "colab": {
     "base_uri": "https://localhost:8080/"
    },
    "execution": {
     "iopub.execute_input": "2024-12-03T17:55:14.641464Z",
     "iopub.status.busy": "2024-12-03T17:55:14.641144Z",
     "iopub.status.idle": "2024-12-03T17:55:45.997830Z",
     "shell.execute_reply": "2024-12-03T17:55:45.996880Z",
     "shell.execute_reply.started": "2024-12-03T17:55:14.641437Z"
    },
    "id": "irrnhJOaGLio",
    "outputId": "d20bc2b6-4028-47fa-e139-0f40b7ec5d6a",
    "tags": []
   },
   "outputs": [
    {
     "data": {
      "application/vnd.jupyter.widget-view+json": {
       "model_id": "c6b7ce4fed824483981d8eb08c4309b3",
       "version_major": 2,
       "version_minor": 0
      },
      "text/plain": [
       "VBox()"
      ]
     },
     "metadata": {},
     "output_type": "display_data"
    },
    {
     "data": {
      "application/vnd.jupyter.widget-view+json": {
       "model_id": "",
       "version_major": 2,
       "version_minor": 0
      },
      "text/plain": [
       "FloatProgress(value=0.0, bar_style='info', description='Progress:', layout=Layout(height='25px', width='50%'),…"
      ]
     },
     "metadata": {},
     "output_type": "display_data"
    },
    {
     "name": "stdout",
     "output_type": "stream",
     "text": [
      "('nm0000136', 'nm0000307')"
     ]
    }
   ],
   "source": [
    "# looks like there are no other 'Johnny Depp' and 'Helena Bonham Carter'\n",
    "# grab the nconst\n",
    "\n",
    "j_id = name.filter(\n",
    "    col('primaryName') == 'Johnny Depp'\n",
    ").select('nconst').collect()[0][0]\n",
    "\n",
    "h_id = name.filter(\n",
    "    col('primaryName') == 'Helena Bonham Carter'\n",
    ").select('nconst').collect()[0][0]\n",
    "\n",
    "j_id, h_id"
   ]
  },
  {
   "cell_type": "code",
   "execution_count": 107,
   "metadata": {
    "colab": {
     "base_uri": "https://localhost:8080/"
    },
    "execution": {
     "iopub.execute_input": "2024-12-03T18:15:27.498607Z",
     "iopub.status.busy": "2024-12-03T18:15:27.498288Z",
     "iopub.status.idle": "2024-12-03T18:16:34.976470Z",
     "shell.execute_reply": "2024-12-03T18:16:34.975402Z",
     "shell.execute_reply.started": "2024-12-03T18:15:27.498580Z"
    },
    "id": "kCxMFCpyHwFU",
    "outputId": "8b0816b9-9a29-43d8-988c-0ac09c8550a9",
    "tags": []
   },
   "outputs": [
    {
     "data": {
      "application/vnd.jupyter.widget-view+json": {
       "model_id": "1091323494fd4bd7af58775d20f52679",
       "version_major": 2,
       "version_minor": 0
      },
      "text/plain": [
       "VBox()"
      ]
     },
     "metadata": {},
     "output_type": "display_data"
    },
    {
     "data": {
      "application/vnd.jupyter.widget-view+json": {
       "model_id": "",
       "version_major": 2,
       "version_minor": 0
      },
      "text/plain": [
       "FloatProgress(value=0.0, bar_style='info', description='Progress:', layout=Layout(height='25px', width='50%'),…"
      ]
     },
     "metadata": {},
     "output_type": "display_data"
    },
    {
     "name": "stdout",
     "output_type": "stream",
     "text": [
      "(254, 123)"
     ]
    }
   ],
   "source": [
    "# see if this is more efficent\n",
    "# let's find the title first\n",
    "# this is not movie only, from the original principle table\n",
    "# but actor and actress role only\n",
    "\n",
    "j_title = principle.filter(\n",
    "    (col('nconst') == j_id) &\n",
    "    (col('category') == 'actor')\n",
    ")\n",
    "\n",
    "h_title = principle.filter(\n",
    "    (col('nconst') == h_id) &\n",
    "    (col('category') == 'actress')\n",
    ")\n",
    "\n",
    "j_title.count(), h_title.count()"
   ]
  },
  {
   "cell_type": "code",
   "execution_count": 109,
   "metadata": {
    "execution": {
     "iopub.execute_input": "2024-12-03T18:16:57.125832Z",
     "iopub.status.busy": "2024-12-03T18:16:57.125527Z",
     "iopub.status.idle": "2024-12-03T18:19:38.900685Z",
     "shell.execute_reply": "2024-12-03T18:19:38.899920Z",
     "shell.execute_reply.started": "2024-12-03T18:16:57.125806Z"
    },
    "tags": []
   },
   "outputs": [
    {
     "data": {
      "application/vnd.jupyter.widget-view+json": {
       "model_id": "90c10b5b74d54e308403d3e70544fcee",
       "version_major": 2,
       "version_minor": 0
      },
      "text/plain": [
       "VBox()"
      ]
     },
     "metadata": {},
     "output_type": "display_data"
    },
    {
     "data": {
      "application/vnd.jupyter.widget-view+json": {
       "model_id": "",
       "version_major": 2,
       "version_minor": 0
      },
      "text/plain": [
       "FloatProgress(value=0.0, bar_style='info', description='Progress:', layout=Layout(height='25px', width='50%'),…"
      ]
     },
     "metadata": {},
     "output_type": "display_data"
    },
    {
     "name": "stdout",
     "output_type": "stream",
     "text": [
      "+---------+--------+---------+--------+---+--------------------+--------+---------+--------+---+--------------------+\n",
      "|   tconst|ordering|   nconst|category|job|          characters|ordering|   nconst|category|job|          characters|\n",
      "+---------+--------+---------+--------+---+--------------------+--------+---------+--------+---+--------------------+\n",
      "|tt0408236|       1|nm0000136|   actor| \\N|    [\"Sweeney Todd\"]|       2|nm0000307| actress| \\N|     [\"Mrs. Lovett\"]|\n",
      "|tt0367594|       1|nm0000136|   actor| \\N|     [\"Willy Wonka\"]|       4|nm0000307| actress| \\N|     [\"Mrs. Bucket\"]|\n",
      "|tt0121164|       1|nm0000136|   actor| \\N| [\"Victor Van Dort\"]|       2|nm0000307| actress| \\N|    [\"Corpse Bride\"]|\n",
      "|tt1014759|       2|nm0000136|   actor| \\N|      [\"Mad Hatter\"]|       3|nm0000307| actress| \\N|       [\"Red Queen\"]|\n",
      "|tt1077368|       1|nm0000136|   actor| \\N|[\"Barnabas Collins\"]|       4|nm0000307| actress| \\N|[\"Dr. Julia Hoffm...|\n",
      "|tt2567026|       2|nm0000136|   actor| \\N|[\"Hatter Tarrant ...|       3|nm0000307| actress| \\N|       [\"Iracebeth\"]|\n",
      "+---------+--------+---------+--------+---+--------------------+--------+---------+--------+---+--------------------+\n",
      "\n",
      "6"
     ]
    }
   ],
   "source": [
    "# common title is the intersection\n",
    "\n",
    "common_title = j_title.join(h_title, 'tconst')\n",
    "common_title.show()\n",
    "common_title.count()"
   ]
  },
  {
   "cell_type": "code",
   "execution_count": 114,
   "metadata": {
    "execution": {
     "iopub.execute_input": "2024-12-03T18:27:56.590754Z",
     "iopub.status.busy": "2024-12-03T18:27:56.590437Z",
     "iopub.status.idle": "2024-12-03T18:29:20.088415Z",
     "shell.execute_reply": "2024-12-03T18:29:20.087595Z",
     "shell.execute_reply.started": "2024-12-03T18:27:56.590727Z"
    },
    "tags": []
   },
   "outputs": [
    {
     "data": {
      "application/vnd.jupyter.widget-view+json": {
       "model_id": "a9e563dcaf7c4596a12efaaaf53d3663",
       "version_major": 2,
       "version_minor": 0
      },
      "text/plain": [
       "VBox()"
      ]
     },
     "metadata": {},
     "output_type": "display_data"
    },
    {
     "data": {
      "application/vnd.jupyter.widget-view+json": {
       "model_id": "",
       "version_major": 2,
       "version_minor": 0
      },
      "text/plain": [
       "FloatProgress(value=0.0, bar_style='info', description='Progress:', layout=Layout(height='25px', width='50%'),…"
      ]
     },
     "metadata": {},
     "output_type": "display_data"
    },
    {
     "name": "stdout",
     "output_type": "stream",
     "text": [
      "['tt0408236', 'tt0367594', 'tt0121164', 'tt1014759', 'tt1077368', 'tt2567026']"
     ]
    }
   ],
   "source": [
    "# this is actually autofill suggested by AWS EMR notebook\n",
    "# try it\n",
    "\n",
    "common_title.select('tconst').rdd.flatMap(lambda x: x).collect()"
   ]
  },
  {
   "cell_type": "code",
   "execution_count": 115,
   "metadata": {
    "execution": {
     "iopub.execute_input": "2024-12-03T18:29:20.090577Z",
     "iopub.status.busy": "2024-12-03T18:29:20.089978Z",
     "iopub.status.idle": "2024-12-03T18:30:49.638081Z",
     "shell.execute_reply": "2024-12-03T18:30:49.637195Z",
     "shell.execute_reply.started": "2024-12-03T18:29:20.090539Z"
    },
    "tags": []
   },
   "outputs": [
    {
     "data": {
      "application/vnd.jupyter.widget-view+json": {
       "model_id": "f451849e999741c58e1e60974a83d76c",
       "version_major": 2,
       "version_minor": 0
      },
      "text/plain": [
       "VBox()"
      ]
     },
     "metadata": {},
     "output_type": "display_data"
    },
    {
     "data": {
      "application/vnd.jupyter.widget-view+json": {
       "model_id": "",
       "version_major": 2,
       "version_minor": 0
      },
      "text/plain": [
       "FloatProgress(value=0.0, bar_style='info', description='Progress:', layout=Layout(height='25px', width='50%'),…"
      ]
     },
     "metadata": {},
     "output_type": "display_data"
    },
    {
     "name": "stdout",
     "output_type": "stream",
     "text": [
      "answer to the question #7:\n",
      "\n",
      "+----------------------------------------------+\n",
      "|Common Movies by J and H                      |\n",
      "+----------------------------------------------+\n",
      "|Corpse Bride                                  |\n",
      "|Charlie and the Chocolate Factory             |\n",
      "|Sweeney Todd: The Demon Barber of Fleet Street|\n",
      "|Alice in Wonderland                           |\n",
      "|Dark Shadows                                  |\n",
      "|Alice Through the Looking Glass               |\n",
      "+----------------------------------------------+"
     ]
    }
   ],
   "source": [
    "# filter and print\n",
    "\n",
    "print('answer to the question #7:\\n')\n",
    "\n",
    "titleMovie.filter(\n",
    "    col('tconst').isin(common_title.select('tconst').rdd.flatMap(lambda x: x).collect())\n",
    ").select(\n",
    "    col('primaryTitle').alias('Common Movies by J and H')\n",
    ").show(truncate=False)"
   ]
  },
  {
   "cell_type": "markdown",
   "metadata": {
    "id": "-7FqJth2FZh4"
   },
   "source": [
    "## 8) Among the TV series featuring David Tennant, who is known for his role in Doctor Who, which rank in the top 5 for viewer engagement? Does Doctor Who make it into the highest-ranked series?\n",
    "\n"
   ]
  },
  {
   "cell_type": "code",
   "execution_count": 119,
   "metadata": {
    "execution": {
     "iopub.execute_input": "2024-12-03T18:37:55.998869Z",
     "iopub.status.busy": "2024-12-03T18:37:55.998541Z",
     "iopub.status.idle": "2024-12-03T18:38:05.336690Z",
     "shell.execute_reply": "2024-12-03T18:38:05.335963Z",
     "shell.execute_reply.started": "2024-12-03T18:37:55.998842Z"
    },
    "tags": []
   },
   "outputs": [
    {
     "data": {
      "application/vnd.jupyter.widget-view+json": {
       "model_id": "db0f05f82e3648dbb798a813fbb23031",
       "version_major": 2,
       "version_minor": 0
      },
      "text/plain": [
       "VBox()"
      ]
     },
     "metadata": {},
     "output_type": "display_data"
    },
    {
     "data": {
      "application/vnd.jupyter.widget-view+json": {
       "model_id": "",
       "version_major": 2,
       "version_minor": 0
      },
      "text/plain": [
       "FloatProgress(value=0.0, bar_style='info', description='Progress:', layout=Layout(height='25px', width='50%'),…"
      ]
     },
     "metadata": {},
     "output_type": "display_data"
    },
    {
     "name": "stdout",
     "output_type": "stream",
     "text": [
      "+---------+---------+--------------------+-------+---------+-------+--------------+--------------------+\n",
      "|   tconst|titleType|        primaryTitle|isAdult|startYear|endYear|runtimeMinutes|              genres|\n",
      "+---------+---------+--------------------+-------+---------+-------+--------------+--------------------+\n",
      "|tt0035599| tvSeries|Voice of Fireston...|      0|     1943|   1947|            15|                  \\N|\n",
      "|tt0035803| tvSeries|The German Weekly...|      0|     1940|   1945|            \\N|    Documentary,News|\n",
      "|tt0038276| tvSeries|   You Are an Artist|      0|     1946|   1955|            15|           Talk-Show|\n",
      "|tt0039120| tvSeries|           Americana|      0|     1947|   1949|            30|    Family,Game-Show|\n",
      "|tt0039121| tvSeries|      Birthday Party|      0|     1947|   1949|            30|              Family|\n",
      "|tt0039122| tvSeries|     The Borden Show|      0|     1947|     \\N|            30|        Comedy,Music|\n",
      "|tt0039123| tvSeries|       Kraft Theatre|      0|     1947|   1958|            60|               Drama|\n",
      "|tt0039124| tvSeries|          Party Line|      0|     1946|     \\N|            30|                  \\N|\n",
      "|tt0039125| tvSeries|   Public Prosecutor|      0|     1947|   1951|            20| Crime,Drama,Mystery|\n",
      "|tt0040021| tvSeries|      Actor's Studio|      0|     1948|   1950|            30|               Drama|\n",
      "|tt0040022| tvSeries|The Adventures of...|      0|     1948|   1949|            30|Comedy,Family,Fan...|\n",
      "|tt0040023| tvSeries|  The Alan Dale Show|      0|     1948|   1951|            30|               Music|\n",
      "|tt0040024| tvSeries|        America Song|      0|     1948|   1949|            15|               Music|\n",
      "|tt0040025| tvSeries|      America Speaks|      0|     1948|     \\N|            15|                  \\N|\n",
      "|tt0040026| tvSeries|America's Town Me...|      0|     1948|   1952|            60|           Talk-Show|\n",
      "|tt0040027| tvSeries|      The Arrow Show|      0|     1948|   1949|            30|        Comedy,Music|\n",
      "|tt0040028| tvSeries|       Talent Scouts|      0|     1948|   1958|            30| Comedy,Family,Music|\n",
      "|tt0040029| tvSeries|     At Liberty Club|      0|     1948|     \\N|            30|               Music|\n",
      "|tt0040030| tvSeries|Author Meets the ...|      0|     1947|   1954|            30|    Family,Talk-Show|\n",
      "|tt0040031| tvSeries|Barney Blake, Pol...|      0|     1948|     \\N|            30|         Crime,Drama|\n",
      "+---------+---------+--------------------+-------+---------+-------+--------------+--------------------+\n",
      "only showing top 20 rows"
     ]
    }
   ],
   "source": [
    "# revisit the title2 table\n",
    "# we are not in movie titleType anymore\n",
    "# it is tvSeries\n",
    "\n",
    "titleTv = title2.filter(title2.titleType == 'tvSeries')\n",
    "\n",
    "titleTv.show()"
   ]
  },
  {
   "cell_type": "code",
   "execution_count": 120,
   "metadata": {
    "execution": {
     "iopub.execute_input": "2024-12-03T18:39:05.653161Z",
     "iopub.status.busy": "2024-12-03T18:39:05.652819Z",
     "iopub.status.idle": "2024-12-03T18:39:31.014972Z",
     "shell.execute_reply": "2024-12-03T18:39:30.988811Z",
     "shell.execute_reply.started": "2024-12-03T18:39:05.653130Z"
    },
    "tags": []
   },
   "outputs": [
    {
     "data": {
      "application/vnd.jupyter.widget-view+json": {
       "model_id": "ba04f9d499cd4319b21b44116a3c0005",
       "version_major": 2,
       "version_minor": 0
      },
      "text/plain": [
       "VBox()"
      ]
     },
     "metadata": {},
     "output_type": "display_data"
    },
    {
     "data": {
      "application/vnd.jupyter.widget-view+json": {
       "model_id": "",
       "version_major": 2,
       "version_minor": 0
      },
      "text/plain": [
       "FloatProgress(value=0.0, bar_style='info', description='Progress:', layout=Layout(height='25px', width='50%'),…"
      ]
     },
     "metadata": {},
     "output_type": "display_data"
    },
    {
     "name": "stdout",
     "output_type": "stream",
     "text": [
      "+----------+-------------+---------+---------+--------------------+--------------------+\n",
      "|    nconst|  primaryName|birthYear|deathYear|   primaryProfession|      knownForTitles|\n",
      "+----------+-------------+---------+---------+--------------------+--------------------+\n",
      "| nm0855039|David Tennant|     1971|       \\N|actor,producer,so...|tt0436992,tt14381...|\n",
      "| nm0855040|David Tennant|       \\N|       \\N|director,cinemato...|tt0866432,tt53510...|\n",
      "|nm13497714|David Tennant|       \\N|       \\N|               actor|tt25446466,tt1892...|\n",
      "|nm15319433|David Tennant|       \\N|       \\N|               actor|          tt25993672|\n",
      "|nm15866568|David Tennant|       \\N|       \\N|               actor|                  \\N|\n",
      "+----------+-------------+---------+---------+--------------------+--------------------+"
     ]
    }
   ],
   "source": [
    "# try to locate David Tennant\n",
    "\n",
    "name.filter(\n",
    "    col('primaryName') == 'David Tennant'\n",
    ").show()"
   ]
  },
  {
   "cell_type": "code",
   "execution_count": 121,
   "metadata": {
    "execution": {
     "iopub.execute_input": "2024-12-03T18:41:01.947323Z",
     "iopub.status.busy": "2024-12-03T18:41:01.947001Z",
     "iopub.status.idle": "2024-12-03T18:41:53.370708Z",
     "shell.execute_reply": "2024-12-03T18:41:53.369986Z",
     "shell.execute_reply.started": "2024-12-03T18:41:01.947295Z"
    },
    "tags": []
   },
   "outputs": [
    {
     "data": {
      "application/vnd.jupyter.widget-view+json": {
       "model_id": "d2c041a3adbc47b6aba13a087cf3c88b",
       "version_major": 2,
       "version_minor": 0
      },
      "text/plain": [
       "VBox()"
      ]
     },
     "metadata": {},
     "output_type": "display_data"
    },
    {
     "data": {
      "application/vnd.jupyter.widget-view+json": {
       "model_id": "",
       "version_major": 2,
       "version_minor": 0
      },
      "text/plain": [
       "FloatProgress(value=0.0, bar_style='info', description='Progress:', layout=Layout(height='25px', width='50%'),…"
      ]
     },
     "metadata": {},
     "output_type": "display_data"
    },
    {
     "name": "stdout",
     "output_type": "stream",
     "text": [
      "+----------+---------+-------------------+---------+---------+-----------------------------------------------+---------+--------------------------+-------+---------+-------+--------------+------------------------+\n",
      "|tconst    |nconst   |primaryName        |birthYear|deathYear|primaryProfession                              |titleType|primaryTitle              |isAdult|startYear|endYear|runtimeMinutes|genres                  |\n",
      "+----------+---------+-------------------+---------+---------+-----------------------------------------------+---------+--------------------------+-------+---------+-------+--------------+------------------------+\n",
      "|tt0252778 |nm0003968|Ralph Strasser     |\\N       |\\N       |director,editor,editorial_department           |tvSeries |Pig's Breakfast           |0      |1999     |2000   |25            |Family,Sci-Fi           |\n",
      "|tt2374744 |nm0007146|Laura Harbin       |\\N       |\\N       |producer,miscellaneous,writer                  |tvSeries |The Next Step             |0      |2013     |\\N     |30            |Drama,Family,Romance    |\n",
      "|tt13870732|nm0007902|Vito Abbonato      |1956     |\\N       |composer,music_department,actor                |tvSeries |Mina Settembre            |0      |2021     |\\N     |50            |Comedy,Drama,Romance    |\n",
      "|tt7698712 |nm0008673|Helen Aberson      |1907     |1999     |writer                                         |tvSeries |The Railways of Crotoonia |0      |2017     |\\N     |\\N            |Animation,Family,Fantasy|\n",
      "|tt0324730 |nm0022172|Ernesto Alonso     |1917     |2007     |producer,director,actor                        |tvSeries |Cita con la muerte        |0      |1963     |\\N     |\\N            |Drama,Mystery,Romance   |\n",
      "|tt0324730 |nm0034553|Hugo Argüelles     |1932     |2003     |writer                                         |tvSeries |Cita con la muerte        |0      |1963     |\\N     |\\N            |Drama,Mystery,Romance   |\n",
      "|tt14466338|nm0037330|Rasmus Arrildt     |1969     |\\N       |cinematographer,camera_department,miscellaneous|tvSeries |Wolf                      |0      |2023     |2023   |346           |Crime,Drama,Thriller    |\n",
      "|tt1427816 |nm0046805|Rob Bagshaw        |\\N       |\\N       |producer,miscellaneous,executive               |tvSeries |Top Chef Masters          |0      |2009     |\\N     |\\N            |Reality-TV              |\n",
      "|tt0090402 |nm0047791|Paula Baines       |\\N       |\\N       |actress                                        |tvSeries |Bread                     |0      |1986     |1991   |30            |Comedy                  |\n",
      "|tt0379120 |nm0049656|Eduardo Baldani    |1946     |2021     |actor                                          |tvSeries |Jaque mate                |0      |1993     |1993   |\\N            |Drama                   |\n",
      "|tt0168358 |nm0050590|Beatrice Ballard   |1959     |\\N       |producer,miscellaneous                         |tvSeries |Parkinson                 |0      |1971     |2007   |50            |Comedy,Music,Talk-Show  |\n",
      "|tt0813681 |nm0050805|Roberto Ballesteros|1952     |\\N       |actor                                          |tvSeries |Código postal             |0      |2006     |\\N     |45            |Drama,Romance           |\n",
      "|tt0375323 |nm0057828|Pepe Barroso       |\\N       |\\N       |actor                                          |tvSeries |Estress                   |0      |1991     |1991   |60            |\\N                      |\n",
      "|tt2274989 |nm0059225|Paul Barton        |\\N       |\\N       |cinematographer                                |tvSeries |Samson Superslug          |0      |1994     |1996   |312           |Comedy,Family           |\n",
      "|tt2374744 |nm0065405|Elizabeth Becker   |1969     |\\N       |miscellaneous,writer,director                  |tvSeries |The Next Step             |0      |2013     |\\N     |30            |Drama,Family,Romance    |\n",
      "|tt0361254 |nm0066744|Tim Beggy          |1974     |\\N       |producer,miscellaneous,actor                   |tvSeries |Who Wants to Marry My Dad?|0      |2003     |2004   |\\N            |Reality-TV,Romance      |\n",
      "|tt10450974|nm0067197|Peter Beil         |\\N       |\\N       |director,cinematographer,producer              |tvSeries |Kronen Könner Kavaliere   |0      |1984     |1987   |25            |Documentary             |\n",
      "|tt0203256 |nm0072035|Rosalind Bennett   |1966     |\\N       |actress                                        |tvSeries |Growing Rich              |0      |1992     |1992   |60            |Drama,Fantasy           |\n",
      "|tt3340712 |nm0074421|Anne Bergeron      |\\N       |\\N       |miscellaneous,production_manager,producer      |tvSeries |19-2                      |0      |2014     |2017   |60            |Crime,Drama             |\n",
      "|tt0090402 |nm0081061|Graham Bickley     |1958     |\\N       |actor                                          |tvSeries |Bread                     |0      |1986     |1991   |30            |Comedy                  |\n",
      "+----------+---------+-------------------+---------+---------+-----------------------------------------------+---------+--------------------------+-------+---------+-------+--------------+------------------------+\n",
      "only showing top 20 rows"
     ]
    }
   ],
   "source": [
    "# there are duplicates, try to find the right one\n",
    "\n",
    "nameDenorm_titleTv = nameDenorm.join(titleTv, 'tconst')\n",
    "nameDenorm_titleTv.show(truncate=False)"
   ]
  },
  {
   "cell_type": "code",
   "execution_count": 122,
   "metadata": {
    "colab": {
     "base_uri": "https://localhost:8080/"
    },
    "execution": {
     "iopub.execute_input": "2024-12-03T18:42:54.415620Z",
     "iopub.status.busy": "2024-12-03T18:42:54.415295Z",
     "iopub.status.idle": "2024-12-03T18:43:27.792712Z",
     "shell.execute_reply": "2024-12-03T18:43:27.791778Z",
     "shell.execute_reply.started": "2024-12-03T18:42:54.415593Z"
    },
    "id": "CEEmhE1VJzFf",
    "outputId": "b5badd25-e459-46d7-8dd8-03cd8cc47cea",
    "tags": []
   },
   "outputs": [
    {
     "data": {
      "application/vnd.jupyter.widget-view+json": {
       "model_id": "dd76e624606e4b02b12f79d5e0b1a196",
       "version_major": 2,
       "version_minor": 0
      },
      "text/plain": [
       "VBox()"
      ]
     },
     "metadata": {},
     "output_type": "display_data"
    },
    {
     "data": {
      "application/vnd.jupyter.widget-view+json": {
       "model_id": "",
       "version_major": 2,
       "version_minor": 0
      },
      "text/plain": [
       "FloatProgress(value=0.0, bar_style='info', description='Progress:', layout=Layout(height='25px', width='50%'),…"
      ]
     },
     "metadata": {},
     "output_type": "display_data"
    },
    {
     "name": "stdout",
     "output_type": "stream",
     "text": [
      "+---------+---------+-------------+---------+---------+--------------------+---------+------------+-------+---------+-------+--------------+--------------------+\n",
      "|   tconst|   nconst|  primaryName|birthYear|deathYear|   primaryProfession|titleType|primaryTitle|isAdult|startYear|endYear|runtimeMinutes|              genres|\n",
      "+---------+---------+-------------+---------+---------+--------------------+---------+------------+-------+---------+-------+--------------+--------------------+\n",
      "|tt0436992|nm0855039|David Tennant|     1971|       \\N|actor,producer,so...| tvSeries|  Doctor Who|      0|     2005|   2022|            45|Adventure,Drama,S...|\n",
      "+---------+---------+-------------+---------+---------+--------------------+---------+------------+-------+---------+-------+--------------+--------------------+"
     ]
    }
   ],
   "source": [
    "# now we found him\n",
    "\n",
    "nameDenorm_titleTv.filter(\n",
    "    (col('primaryName') == 'David Tennant') &\n",
    "    (col('primaryTitle') == 'Doctor Who')\n",
    ").show()"
   ]
  },
  {
   "cell_type": "code",
   "execution_count": 123,
   "metadata": {
    "colab": {
     "base_uri": "https://localhost:8080/"
    },
    "execution": {
     "iopub.execute_input": "2024-12-03T18:46:09.995492Z",
     "iopub.status.busy": "2024-12-03T18:46:09.995176Z",
     "iopub.status.idle": "2024-12-03T18:47:03.465922Z",
     "shell.execute_reply": "2024-12-03T18:47:03.464855Z",
     "shell.execute_reply.started": "2024-12-03T18:46:09.995465Z"
    },
    "id": "LL70MXH6KP51",
    "outputId": "59d5b45b-54e2-4c22-e60f-6e92699373c9",
    "tags": []
   },
   "outputs": [
    {
     "data": {
      "application/vnd.jupyter.widget-view+json": {
       "model_id": "760313ac85884764a6d54309f8550208",
       "version_major": 2,
       "version_minor": 0
      },
      "text/plain": [
       "VBox()"
      ]
     },
     "metadata": {},
     "output_type": "display_data"
    },
    {
     "data": {
      "application/vnd.jupyter.widget-view+json": {
       "model_id": "",
       "version_major": 2,
       "version_minor": 0
      },
      "text/plain": [
       "FloatProgress(value=0.0, bar_style='info', description='Progress:', layout=Layout(height='25px', width='50%'),…"
      ]
     },
     "metadata": {},
     "output_type": "display_data"
    },
    {
     "name": "stdout",
     "output_type": "stream",
     "text": [
      "(258578, 93948)"
     ]
    }
   ],
   "source": [
    "# grab the nconst\n",
    "\n",
    "d_id = nameDenorm_titleTv.filter(\n",
    "    (col('primaryName') == 'David Tennant') &\n",
    "    (col('primaryTitle') == 'Doctor Who')\n",
    ").select('nconst').collect()[0][0]\n",
    "\n",
    "# join titleTv and rating since we need the rating\n",
    "# and then principle since we need the cast\n",
    "\n",
    "titleTv_rating = titleTv.join(rating, 'tconst')\n",
    "titleTv_rating_principle = titleTv_rating.join(principle, 'tconst')\n",
    "\n",
    "titleTv.count(), titleTv_rating.count()"
   ]
  },
  {
   "cell_type": "code",
   "execution_count": 125,
   "metadata": {
    "execution": {
     "iopub.execute_input": "2024-12-03T18:48:45.906631Z",
     "iopub.status.busy": "2024-12-03T18:48:45.906293Z",
     "iopub.status.idle": "2024-12-03T18:50:09.447426Z",
     "shell.execute_reply": "2024-12-03T18:50:09.446671Z",
     "shell.execute_reply.started": "2024-12-03T18:48:45.906594Z"
    },
    "tags": []
   },
   "outputs": [
    {
     "data": {
      "application/vnd.jupyter.widget-view+json": {
       "model_id": "d999cc4d817c41eaa31659cb8d219e62",
       "version_major": 2,
       "version_minor": 0
      },
      "text/plain": [
       "VBox()"
      ]
     },
     "metadata": {},
     "output_type": "display_data"
    },
    {
     "data": {
      "application/vnd.jupyter.widget-view+json": {
       "model_id": "",
       "version_major": 2,
       "version_minor": 0
      },
      "text/plain": [
       "FloatProgress(value=0.0, bar_style='info', description='Progress:', layout=Layout(height='25px', width='50%'),…"
      ]
     },
     "metadata": {},
     "output_type": "display_data"
    },
    {
     "name": "stdout",
     "output_type": "stream",
     "text": [
      "+---------+---------+--------------------+-------+---------+-------+--------------+--------------------+-------------+--------+--------+---------+--------+---+--------------------+\n",
      "|   tconst|titleType|        primaryTitle|isAdult|startYear|endYear|runtimeMinutes|              genres|averageRating|numVotes|ordering|   nconst|category|job|          characters|\n",
      "+---------+---------+--------------------+-------+---------+-------+--------------+--------------------+-------------+--------+--------+---------+--------+---+--------------------+\n",
      "|tt0046629| tvSeries|The New Adventure...|      0|     1954|   1956|            \\N|Action,Adventure,...|          6.9|      35|      10|nm0267748| actress| \\N|[\"Anastasia\",\"San...|\n",
      "|tt0046629| tvSeries|The New Adventure...|      0|     1954|   1956|            \\N|Action,Adventure,...|          6.9|      35|       1|nm0002053|   actor| \\N|     [\"China Smith\"]|\n",
      "|tt0046629| tvSeries|The New Adventure...|      0|     1954|   1956|            \\N|Action,Adventure,...|          6.9|      35|       2|nm0656980|   actor| \\N|[\"Chan Wu\",\"Chen ...|\n",
      "|tt0046629| tvSeries|The New Adventure...|      0|     1954|   1956|            \\N|Action,Adventure,...|          6.9|      35|       3|nm0329583|   actor| \\N|[\"Capt. Amon\",\"In...|\n",
      "|tt0046629| tvSeries|The New Adventure...|      0|     1954|   1956|            \\N|Action,Adventure,...|          6.9|      35|       4|nm0322342| actress| \\N|          [\"Steffi\"]|\n",
      "|tt0046629| tvSeries|The New Adventure...|      0|     1954|   1956|            \\N|Action,Adventure,...|          6.9|      35|       5|nm4556023|   actor| \\N|[\"Col. St. Vincen...|\n",
      "|tt0046629| tvSeries|The New Adventure...|      0|     1954|   1956|            \\N|Action,Adventure,...|          6.9|      35|       6|nm0525601|   actor| \\N|[\"Aban\",\"Tony Wan...|\n",
      "|tt0046629| tvSeries|The New Adventure...|      0|     1954|   1956|            \\N|Action,Adventure,...|          6.9|      35|       7|nm0950958|   actor| \\N|[\"George Loo\",\"Ko...|\n",
      "|tt0046629| tvSeries|The New Adventure...|      0|     1954|   1956|            \\N|Action,Adventure,...|          6.9|      35|       8|nm0372980|   actor| \\N|[\"Derby\",\"Min Su\"...|\n",
      "|tt0046629| tvSeries|The New Adventure...|      0|     1954|   1956|            \\N|Action,Adventure,...|          6.9|      35|       9|nm0526691|   actor| \\N|[\"Franz\",\"Lo Tan\"...|\n",
      "|tt0050013| tvSeries|The DuPont Show o...|      0|     1957|   1961|            90|Comedy,Drama,History|          7.0|     103|      10|nm0539395|   actor| \\N|[\"Hodge\",\"Mr. Bag...|\n",
      "|tt0050013| tvSeries|The DuPont Show o...|      0|     1957|   1961|            90|Comedy,Drama,History|          7.0|     103|       1|nm0640539|   actor| \\N|[\"Ames\",\"Captain ...|\n",
      "|tt0050013| tvSeries|The DuPont Show o...|      0|     1957|   1961|            90|Comedy,Drama,History|          7.0|     103|       2|nm0884240|   actor| \\N|[\"Fritz Von Tarle...|\n",
      "|tt0050013| tvSeries|The DuPont Show o...|      0|     1957|   1961|            90|Comedy,Drama,History|          7.0|     103|       3|nm0368836|   actor| \\N|[\"Dr. Sanson Carr...|\n",
      "|tt0050013| tvSeries|The DuPont Show o...|      0|     1957|   1961|            90|Comedy,Drama,History|          7.0|     103|       4|nm0171475|   actor| \\N|[\"Fernand Mondego...|\n",
      "|tt0050013| tvSeries|The DuPont Show o...|      0|     1957|   1961|            90|Comedy,Drama,History|          7.0|     103|       5|nm0012451|   actor| \\N|[\"Marquis St. Evr...|\n",
      "|tt0050013| tvSeries|The DuPont Show o...|      0|     1957|   1961|            90|Comedy,Drama,History|          7.0|     103|       6|nm0132409|   actor| \\N|[\"Danglars\",\"King...|\n",
      "|tt0050013| tvSeries|The DuPont Show o...|      0|     1957|   1961|            90|Comedy,Drama,History|          7.0|     103|       7|nm0232019|   actor| \\N|[\"Captain Vere\",\"...|\n",
      "|tt0050013| tvSeries|The DuPont Show o...|      0|     1957|   1961|            90|Comedy,Drama,History|          7.0|     103|       8|nm0365281| actress| \\N|[\"Catherine Earns...|\n",
      "|tt0050013| tvSeries|The DuPont Show o...|      0|     1957|   1961|            90|Comedy,Drama,History|          7.0|     103|       9|nm0001186|   actor| \\N|[\"Charles Darnay\"...|\n",
      "+---------+---------+--------------------+-------+---------+-------+--------------+--------------------+-------------+--------+--------+---------+--------+---+--------------------+\n",
      "only showing top 20 rows"
     ]
    }
   ],
   "source": [
    "titleTv_rating_principle.show()"
   ]
  },
  {
   "cell_type": "code",
   "execution_count": 129,
   "metadata": {
    "colab": {
     "base_uri": "https://localhost:8080/"
    },
    "execution": {
     "iopub.execute_input": "2024-12-03T18:56:24.464105Z",
     "iopub.status.busy": "2024-12-03T18:56:24.463772Z",
     "iopub.status.idle": "2024-12-03T18:57:13.929500Z",
     "shell.execute_reply": "2024-12-03T18:57:13.928754Z",
     "shell.execute_reply.started": "2024-12-03T18:56:24.464073Z"
    },
    "id": "2a6em0miKpms",
    "outputId": "ab050291-2a03-4940-c3ff-d2c759554bda",
    "tags": []
   },
   "outputs": [
    {
     "data": {
      "application/vnd.jupyter.widget-view+json": {
       "model_id": "5e3f7f675c8645cca4e5abb7f25a385f",
       "version_major": 2,
       "version_minor": 0
      },
      "text/plain": [
       "VBox()"
      ]
     },
     "metadata": {},
     "output_type": "display_data"
    },
    {
     "data": {
      "application/vnd.jupyter.widget-view+json": {
       "model_id": "",
       "version_major": 2,
       "version_minor": 0
      },
      "text/plain": [
       "FloatProgress(value=0.0, bar_style='info', description='Progress:', layout=Layout(height='25px', width='50%'),…"
      ]
     },
     "metadata": {},
     "output_type": "display_data"
    },
    {
     "name": "stdout",
     "output_type": "stream",
     "text": [
      "answer to the question #8:\n",
      "\n",
      "+-------------+---------------+\n",
      "|    Tv Series|Number of Votes|\n",
      "+-------------+---------------+\n",
      "|   Doctor Who|         245190|\n",
      "|Jessica Jones|         225869|\n",
      "|  Broadchurch|         126132|\n",
      "|   Good Omens|         111450|\n",
      "|       Ahsoka|         107410|\n",
      "+-------------+---------------+"
     ]
    }
   ],
   "source": [
    "# filter and print\n",
    "\n",
    "print('answer to the question #8:\\n')\n",
    "\n",
    "d_arr = titleTv_rating_principle.filter(\n",
    "    col('nconst') == d_id\n",
    ").select(\n",
    "    col('primaryTitle').alias('Tv Series'),\n",
    "    col('numVotes').alias('Number of Votes')\n",
    ").sort(\n",
    "    col('numVotes').desc()\n",
    ").limit(5)\n",
    "\n",
    "d_arr.show()"
   ]
  },
  {
   "cell_type": "code",
   "execution_count": 131,
   "metadata": {
    "colab": {
     "base_uri": "https://localhost:8080/"
    },
    "execution": {
     "iopub.execute_input": "2024-12-03T18:58:18.374140Z",
     "iopub.status.busy": "2024-12-03T18:58:18.373808Z",
     "iopub.status.idle": "2024-12-03T18:59:07.853141Z",
     "shell.execute_reply": "2024-12-03T18:59:07.852249Z",
     "shell.execute_reply.started": "2024-12-03T18:58:18.374114Z"
    },
    "id": "EjkEMvGjMxWh",
    "outputId": "405acdec-caaf-4032-fbc4-bcc1577eece4",
    "tags": []
   },
   "outputs": [
    {
     "data": {
      "application/vnd.jupyter.widget-view+json": {
       "model_id": "fecab38191ca499dafa0d7be2fff4fbc",
       "version_major": 2,
       "version_minor": 0
      },
      "text/plain": [
       "VBox()"
      ]
     },
     "metadata": {},
     "output_type": "display_data"
    },
    {
     "data": {
      "application/vnd.jupyter.widget-view+json": {
       "model_id": "",
       "version_major": 2,
       "version_minor": 0
      },
      "text/plain": [
       "FloatProgress(value=0.0, bar_style='info', description='Progress:', layout=Layout(height='25px', width='50%'),…"
      ]
     },
     "metadata": {},
     "output_type": "display_data"
    }
   ],
   "source": [
    "# check if Doctor Who is in the top 5 list\n",
    "\n",
    "d_title = d_arr.select('Tv Series').rdd.flatMap(lambda x: x).collect()"
   ]
  },
  {
   "cell_type": "code",
   "execution_count": 132,
   "metadata": {
    "execution": {
     "iopub.execute_input": "2024-12-03T19:00:15.223808Z",
     "iopub.status.busy": "2024-12-03T19:00:15.223485Z",
     "iopub.status.idle": "2024-12-03T19:01:16.731860Z",
     "shell.execute_reply": "2024-12-03T19:01:16.731158Z",
     "shell.execute_reply.started": "2024-12-03T19:00:15.223778Z"
    },
    "tags": []
   },
   "outputs": [
    {
     "data": {
      "application/vnd.jupyter.widget-view+json": {
       "model_id": "964fe6e2e7ee48a1a6c8dc62eaa79182",
       "version_major": 2,
       "version_minor": 0
      },
      "text/plain": [
       "VBox()"
      ]
     },
     "metadata": {},
     "output_type": "display_data"
    },
    {
     "data": {
      "application/vnd.jupyter.widget-view+json": {
       "model_id": "",
       "version_major": 2,
       "version_minor": 0
      },
      "text/plain": [
       "FloatProgress(value=0.0, bar_style='info', description='Progress:', layout=Layout(height='25px', width='50%'),…"
      ]
     },
     "metadata": {},
     "output_type": "display_data"
    },
    {
     "name": "stdout",
     "output_type": "stream",
     "text": [
      "Doctor Who is in the top 5 TV series for viewer engagement with 245190 votes"
     ]
    }
   ],
   "source": [
    "if 'Doctor Who' in d_title:\n",
    "    d_vote = d_arr.filter(\n",
    "        col('Tv Series') == 'Doctor Who'\n",
    "    ).select(\n",
    "        col('Number of Votes')\n",
    "    ).collect()[0][0]\n",
    "    print('Doctor Who is in the top 5 TV series for viewer engagement with', d_vote , 'votes')\n",
    "else:\n",
    "    print('Doctor Who is not in the top 5 TV series for viewer engagement')"
   ]
  },
  {
   "cell_type": "markdown",
   "metadata": {
    "id": "suowJX8eJwhm"
   },
   "source": [
    "## 9) What are the highest and lowest-rated movies in the Harry Potter franchise featuring Daniel Radcliffe, and what are their ratings?"
   ]
  },
  {
   "cell_type": "code",
   "execution_count": 134,
   "metadata": {
    "colab": {
     "base_uri": "https://localhost:8080/"
    },
    "execution": {
     "iopub.execute_input": "2024-12-03T19:02:08.585282Z",
     "iopub.status.busy": "2024-12-03T19:02:08.584925Z",
     "iopub.status.idle": "2024-12-03T19:02:21.899549Z",
     "shell.execute_reply": "2024-12-03T19:02:21.898806Z",
     "shell.execute_reply.started": "2024-12-03T19:02:08.585254Z"
    },
    "id": "E4yBM01UJzaF",
    "outputId": "8efad807-abca-4d11-b097-146a66ede1b1",
    "tags": []
   },
   "outputs": [
    {
     "data": {
      "application/vnd.jupyter.widget-view+json": {
       "model_id": "cebab0080fc34230b48e382fa96c8609",
       "version_major": 2,
       "version_minor": 0
      },
      "text/plain": [
       "VBox()"
      ]
     },
     "metadata": {},
     "output_type": "display_data"
    },
    {
     "data": {
      "application/vnd.jupyter.widget-view+json": {
       "model_id": "",
       "version_major": 2,
       "version_minor": 0
      },
      "text/plain": [
       "FloatProgress(value=0.0, bar_style='info', description='Progress:', layout=Layout(height='25px', width='50%'),…"
      ]
     },
     "metadata": {},
     "output_type": "display_data"
    },
    {
     "name": "stdout",
     "output_type": "stream",
     "text": [
      "+------+---------+------------+-------+---------+-------+--------------+------+\n",
      "|tconst|titleType|primaryTitle|isAdult|startYear|endYear|runtimeMinutes|genres|\n",
      "+------+---------+------------+-------+---------+-------+--------------+------+\n",
      "+------+---------+------------+-------+---------+-------+--------------+------+"
     ]
    }
   ],
   "source": [
    "# check the titleMovie\n",
    "# back in movie titleType\n",
    "\n",
    "# nothing found\n",
    "\n",
    "titleMovie.filter(\n",
    "    col('primaryTitle') == 'Harry Potter'\n",
    ").show(truncate=False)"
   ]
  },
  {
   "cell_type": "code",
   "execution_count": 135,
   "metadata": {
    "execution": {
     "iopub.execute_input": "2024-12-03T19:03:55.131951Z",
     "iopub.status.busy": "2024-12-03T19:03:55.131629Z",
     "iopub.status.idle": "2024-12-03T19:04:18.481687Z",
     "shell.execute_reply": "2024-12-03T19:04:18.480832Z",
     "shell.execute_reply.started": "2024-12-03T19:03:55.131925Z"
    },
    "tags": []
   },
   "outputs": [
    {
     "data": {
      "application/vnd.jupyter.widget-view+json": {
       "model_id": "05493cd61c1341549ac83d8b5806b2a9",
       "version_major": 2,
       "version_minor": 0
      },
      "text/plain": [
       "VBox()"
      ]
     },
     "metadata": {},
     "output_type": "display_data"
    },
    {
     "data": {
      "application/vnd.jupyter.widget-view+json": {
       "model_id": "",
       "version_major": 2,
       "version_minor": 0
      },
      "text/plain": [
       "FloatProgress(value=0.0, bar_style='info', description='Progress:', layout=Layout(height='25px', width='50%'),…"
      ]
     },
     "metadata": {},
     "output_type": "display_data"
    },
    {
     "name": "stdout",
     "output_type": "stream",
     "text": [
      "+----------+---------+-----------------------------------------------------------+-------+---------+-------+--------------+------------------------+\n",
      "|tconst    |titleType|primaryTitle                                               |isAdult|startYear|endYear|runtimeMinutes|genres                  |\n",
      "+----------+---------+-----------------------------------------------------------+-------+---------+-------+--------------+------------------------+\n",
      "|tt0241527 |movie    |Harry Potter and the Sorcerer's Stone                      |0      |2001     |\\N     |152           |Adventure,Family,Fantasy|\n",
      "|tt0295297 |movie    |Harry Potter and the Chamber of Secrets                    |0      |2002     |\\N     |161           |Adventure,Family,Fantasy|\n",
      "|tt0304141 |movie    |Harry Potter and the Prisoner of Azkaban                   |0      |2004     |\\N     |142           |Adventure,Family,Fantasy|\n",
      "|tt0330373 |movie    |Harry Potter and the Goblet of Fire                        |0      |2005     |\\N     |157           |Adventure,Family,Fantasy|\n",
      "|tt0373889 |movie    |Harry Potter and the Order of the Phoenix                  |0      |2007     |\\N     |138           |Action,Adventure,Family |\n",
      "|tt0417741 |movie    |Harry Potter and the Half-Blood Prince                     |0      |2009     |\\N     |153           |Action,Adventure,Family |\n",
      "|tt0926084 |movie    |Harry Potter and the Deathly Hallows: Part 1               |0      |2010     |\\N     |146           |Adventure,Family,Fantasy|\n",
      "|tt1201607 |movie    |Harry Potter and the Deathly Hallows: Part 2               |0      |2011     |\\N     |130           |Adventure,Family,Fantasy|\n",
      "|tt13155056|movie    |Darla's Book Club: Discussing the Harry Potter Series      |0      |2020     |\\N     |53            |Documentary             |\n",
      "|tt1781796 |movie    |Creating the World of Harry Potter, Part 4: Sound and Music|0      |2010     |\\N     |54            |Documentary             |\n",
      "|tt1867094 |movie    |The Seekers Guide to Harry Potter                          |0      |2010     |\\N     |75            |Documentary             |\n",
      "|tt20766450|movie    |Harry Potter und ein Stein                                 |0      |2006     |\\N     |85            |Comedy                  |\n",
      "|tt25403504|movie    |RiffTrax: Harry Potter and the Sorcerer's Stone            |0      |2007     |\\N     |\\N            |Comedy                  |\n",
      "|tt27666796|movie    |RiffTrax: Harry Potter and the Chamber of Secrets          |0      |2008     |\\N     |\\N            |Comedy                  |\n",
      "|tt27919362|movie    |RiffTrax: Harry Potter and the Prisoner of Azkaban         |0      |2008     |\\N     |\\N            |Comedy                  |\n",
      "|tt28174857|movie    |RiffTrax: Harry Potter and the Goblet of Fire              |0      |2010     |\\N     |\\N            |Comedy                  |\n",
      "|tt29306911|movie    |RiffTrax: Harry Potter and the Order of the Phoenix        |0      |2011     |\\N     |\\N            |Fantasy                 |\n",
      "|tt30517220|movie    |Harry Potter und der geheime Pornokeller                   |0      |2008     |\\N     |95            |Comedy                  |\n",
      "|tt30526951|movie    |Harry Potter und der Plastikpokal                          |0      |2008     |\\N     |67            |Comedy                  |\n",
      "|tt7783322 |movie    |Harry Potter: A History of Magic                           |0      |2017     |\\N     |59            |Documentary             |\n",
      "+----------+---------+-----------------------------------------------------------+-------+---------+-------+--------------+------------------------+\n",
      "only showing top 20 rows"
     ]
    }
   ],
   "source": [
    "# meaning the name is not just Harry Potter but contain the string\n",
    "\n",
    "titleMovie.filter(\n",
    "    col('primaryTitle').contains('Harry Potter')\n",
    ").show(truncate=False)"
   ]
  },
  {
   "cell_type": "code",
   "execution_count": 137,
   "metadata": {
    "colab": {
     "base_uri": "https://localhost:8080/"
    },
    "execution": {
     "iopub.execute_input": "2024-12-03T19:11:41.224535Z",
     "iopub.status.busy": "2024-12-03T19:11:41.224220Z",
     "iopub.status.idle": "2024-12-03T19:12:34.680782Z",
     "shell.execute_reply": "2024-12-03T19:12:34.679772Z",
     "shell.execute_reply.started": "2024-12-03T19:11:41.224508Z"
    },
    "id": "HFyQQCqaPuq8",
    "outputId": "1770acf9-d09c-473a-d4cd-703ea1380cf3",
    "tags": []
   },
   "outputs": [
    {
     "data": {
      "application/vnd.jupyter.widget-view+json": {
       "model_id": "569919bdaca24f04b08c0ac336ee8d1a",
       "version_major": 2,
       "version_minor": 0
      },
      "text/plain": [
       "VBox()"
      ]
     },
     "metadata": {},
     "output_type": "display_data"
    },
    {
     "data": {
      "application/vnd.jupyter.widget-view+json": {
       "model_id": "",
       "version_major": 2,
       "version_minor": 0
      },
      "text/plain": [
       "FloatProgress(value=0.0, bar_style='info', description='Progress:', layout=Layout(height='25px', width='50%'),…"
      ]
     },
     "metadata": {},
     "output_type": "display_data"
    },
    {
     "name": "stdout",
     "output_type": "stream",
     "text": [
      "+---------+---------+----------------+---------+---------+-------------------------+---------+--------------------------------------------+-------+---------+-------+--------------+------------------------+\n",
      "|tconst   |nconst   |primaryName     |birthYear|deathYear|primaryProfession        |titleType|primaryTitle                                |isAdult|startYear|endYear|runtimeMinutes|genres                  |\n",
      "+---------+---------+----------------+---------+---------+-------------------------+---------+--------------------------------------------+-------+---------+-------+--------------+------------------------+\n",
      "|tt0241527|nm0705356|Daniel Radcliffe|1989     |\\N       |actor,producer,soundtrack|movie    |Harry Potter and the Sorcerer's Stone       |0      |2001     |\\N     |152           |Adventure,Family,Fantasy|\n",
      "|tt0373889|nm0705356|Daniel Radcliffe|1989     |\\N       |actor,producer,soundtrack|movie    |Harry Potter and the Order of the Phoenix   |0      |2007     |\\N     |138           |Action,Adventure,Family |\n",
      "|tt1201607|nm0705356|Daniel Radcliffe|1989     |\\N       |actor,producer,soundtrack|movie    |Harry Potter and the Deathly Hallows: Part 2|0      |2011     |\\N     |130           |Adventure,Family,Fantasy|\n",
      "+---------+---------+----------------+---------+---------+-------------------------+---------+--------------------------------------------+-------+---------+-------+--------------+------------------------+\n",
      "\n",
      "'nm0705356'"
     ]
    }
   ],
   "source": [
    "# find Daniel Radcliffe knownForTitles Harry Potter\n",
    "# grab nconst\n",
    "\n",
    "nameDenorm_titleMovie.filter(\n",
    "    (col('primaryName') == 'Daniel Radcliffe') &\n",
    "    (col('primaryTitle').contains('Harry Potter'))\n",
    ").show(truncate=False)\n",
    "\n",
    "id_daniel = nameDenorm_titleMovie.filter(\n",
    "    (col('primaryName') == 'Daniel Radcliffe') &\n",
    "    (col('primaryTitle').contains('Harry Potter'))\n",
    ").select(\n",
    "    col('nconst')\n",
    ").collect()[0][0]\n",
    "\n",
    "id_daniel"
   ]
  },
  {
   "cell_type": "code",
   "execution_count": 138,
   "metadata": {
    "colab": {
     "base_uri": "https://localhost:8080/"
    },
    "execution": {
     "iopub.execute_input": "2024-12-03T19:15:00.131223Z",
     "iopub.status.busy": "2024-12-03T19:15:00.130829Z",
     "iopub.status.idle": "2024-12-03T19:16:33.705645Z",
     "shell.execute_reply": "2024-12-03T19:16:33.704655Z",
     "shell.execute_reply.started": "2024-12-03T19:15:00.131195Z"
    },
    "id": "MrXIG7W7PcPd",
    "outputId": "6487817f-a1f8-4f7d-8bab-72567799ef57",
    "tags": []
   },
   "outputs": [
    {
     "data": {
      "application/vnd.jupyter.widget-view+json": {
       "model_id": "dbc1fa9862f94dc1b0d17ba27883712d",
       "version_major": 2,
       "version_minor": 0
      },
      "text/plain": [
       "VBox()"
      ]
     },
     "metadata": {},
     "output_type": "display_data"
    },
    {
     "data": {
      "application/vnd.jupyter.widget-view+json": {
       "model_id": "",
       "version_major": 2,
       "version_minor": 0
      },
      "text/plain": [
       "FloatProgress(value=0.0, bar_style='info', description='Progress:', layout=Layout(height='25px', width='50%'),…"
      ]
     },
     "metadata": {},
     "output_type": "display_data"
    },
    {
     "name": "stdout",
     "output_type": "stream",
     "text": [
      "+---------+---------+--------------------+-------+---------+-------+--------------+------+-------------+--------+--------+---------+---------------+----+--------------------+\n",
      "|   tconst|titleType|        primaryTitle|isAdult|startYear|endYear|runtimeMinutes|genres|averageRating|numVotes|ordering|   nconst|       category| job|          characters|\n",
      "+---------+---------+--------------------+-------+---------+-------+--------------+------+-------------+--------+--------+---------+---------------+----+--------------------+\n",
      "|tt0000941|    movie|      Locura de amor|      0|     1909|     \\N|            45| Drama|          4.5|      27|       1|nm0034453|          actor|  \\N|                  \\N|\n",
      "|tt0000941|    movie|      Locura de amor|      0|     1909|     \\N|            45| Drama|          4.5|      27|       2|nm0140054|          actor|  \\N|                  \\N|\n",
      "|tt0000941|    movie|      Locura de amor|      0|     1909|     \\N|            45| Drama|          4.5|      27|       3|nm0243918|          actor|  \\N|                  \\N|\n",
      "|tt0000941|    movie|      Locura de amor|      0|     1909|     \\N|            45| Drama|          4.5|      27|       4|nm0294022|        actress|  \\N|                  \\N|\n",
      "|tt0000941|    movie|      Locura de amor|      0|     1909|     \\N|            45| Drama|          4.5|      27|       5|nm0063413|       director|  \\N|                  \\N|\n",
      "|tt0000941|    movie|      Locura de amor|      0|     1909|     \\N|            45| Drama|          4.5|      27|       6|nm0550220|       director|  \\N|                  \\N|\n",
      "|tt0000941|    movie|      Locura de amor|      0|     1909|     \\N|            45| Drama|          4.5|      27|       7|nm0848502|         writer|play|                  \\N|\n",
      "|tt0004272|    movie|Lucille Love: The...|      0|     1914|     \\N|           300|Action|          6.7|      28|      10|nm0368875|        actress|  \\N|                  \\N|\n",
      "|tt0004272|    movie|Lucille Love: The...|      0|     1914|     \\N|           300|Action|          6.7|      28|       1|nm0192062|        actress|  \\N|    [\"Lucille Love\"]|\n",
      "|tt0004272|    movie|Lucille Love: The...|      0|     1914|     \\N|           300|Action|          6.7|      28|       2|nm0285643|          actor|  \\N|   [\"Hugo Loubeque\"]|\n",
      "|tt0004272|    movie|Lucille Love: The...|      0|     1914|     \\N|           300|Action|          6.7|      28|       3|nm0776747|          actor|  \\N|      [\"Lt. Gibson\"]|\n",
      "|tt0004272|    movie|Lucille Love: The...|      0|     1914|     \\N|           300|Action|          6.7|      28|       4|nm0793189|          actor|  \\N|[\"Thompson - The ...|\n",
      "|tt0004272|    movie|Lucille Love: The...|      0|     1914|     \\N|           300|Action|          6.7|      28|       5|nm0880492|cinematographer|  \\N|                  \\N|\n",
      "|tt0004272|    movie|Lucille Love: The...|      0|     1914|     \\N|           300|Action|          6.7|      28|       6|nm0445507|          actor|  \\N|    [\"Sumpter Love\"]|\n",
      "|tt0004272|    movie|Lucille Love: The...|      0|     1914|     \\N|           300|Action|          6.7|      28|       7|nm0092665|          actor|  \\N|[\"Government Avia...|\n",
      "|tt0004272|    movie|Lucille Love: The...|      0|     1914|     \\N|           300|Action|          6.7|      28|       8|nm0383278|          actor|  \\N|                  \\N|\n",
      "|tt0004272|    movie|Lucille Love: The...|      0|     1914|     \\N|           300|Action|          6.7|      28|       9|nm0492302|          actor|  \\N|    [\"Native-Chief\"]|\n",
      "|tt0006706|    movie|Fången på Karlste...|      0|     1916|     \\N|            61| Drama|          5.7|      35|      10|nm0061665|          actor|  \\N|         [\"Student\"]|\n",
      "|tt0006706|    movie|Fången på Karlste...|      0|     1916|     \\N|            61| Drama|          5.7|      35|       1|nm0159633|          actor|  \\N|  [\"Count de Faber\"]|\n",
      "|tt0006706|    movie|Fången på Karlste...|      0|     1916|     \\N|            61| Drama|          5.7|      35|       2|nm0144047|        actress|  \\N|   [\"Mary Plussman\"]|\n",
      "+---------+---------+--------------------+-------+---------+-------+--------------+------+-------------+--------+--------+---------+---------------+----+--------------------+\n",
      "only showing top 20 rows"
     ]
    }
   ],
   "source": [
    "# we already had the titleMovie_rating_principle table\n",
    "\n",
    "titleMovie_rating_principle.show()"
   ]
  },
  {
   "cell_type": "code",
   "execution_count": 141,
   "metadata": {
    "execution": {
     "iopub.execute_input": "2024-12-03T19:26:08.449465Z",
     "iopub.status.busy": "2024-12-03T19:26:08.449019Z",
     "iopub.status.idle": "2024-12-03T19:27:11.934958Z",
     "shell.execute_reply": "2024-12-03T19:27:11.934045Z",
     "shell.execute_reply.started": "2024-12-03T19:26:08.449425Z"
    },
    "tags": []
   },
   "outputs": [
    {
     "data": {
      "application/vnd.jupyter.widget-view+json": {
       "model_id": "461c227b77c44c86b1bcedda36f366bd",
       "version_major": 2,
       "version_minor": 0
      },
      "text/plain": [
       "VBox()"
      ]
     },
     "metadata": {},
     "output_type": "display_data"
    },
    {
     "data": {
      "application/vnd.jupyter.widget-view+json": {
       "model_id": "",
       "version_major": 2,
       "version_minor": 0
      },
      "text/plain": [
       "FloatProgress(value=0.0, bar_style='info', description='Progress:', layout=Layout(height='25px', width='50%'),…"
      ]
     },
     "metadata": {},
     "output_type": "display_data"
    },
    {
     "name": "stdout",
     "output_type": "stream",
     "text": [
      "+--------------------------------------------+------+\n",
      "|Movies                                      |Rating|\n",
      "+--------------------------------------------+------+\n",
      "|Harry Potter and the Half-Blood Prince      |7.6   |\n",
      "|Harry Potter and the Prisoner of Azkaban    |7.9   |\n",
      "|Harry Potter and the Deathly Hallows: Part 2|8.1   |\n",
      "|Harry Potter and the Deathly Hallows: Part 1|7.7   |\n",
      "|Harry Potter and the Chamber of Secrets     |7.4   |\n",
      "|Harry Potter and the Goblet of Fire         |7.7   |\n",
      "|Harry Potter and the Sorcerer's Stone       |7.6   |\n",
      "|Harry Potter and the Order of the Phoenix   |7.5   |\n",
      "+--------------------------------------------+------+"
     ]
    }
   ],
   "source": [
    "# daniel acting, primaryTitle contains Harry Potter, and show rating\n",
    "\n",
    "ans = titleMovie_rating_principle.filter(\n",
    "    (col('nconst') == id_daniel) &\n",
    "    (col('primaryTitle').contains('Harry Potter')) &\n",
    "    (col('category') == 'actor')\n",
    ").select(\n",
    "    col('primaryTitle').alias('Movies'),\n",
    "    col('averageRating').alias('Rating')\n",
    ")\n",
    "\n",
    "ans.show(truncate=False)"
   ]
  },
  {
   "cell_type": "code",
   "execution_count": 143,
   "metadata": {
    "execution": {
     "iopub.execute_input": "2024-12-03T19:29:56.248689Z",
     "iopub.status.busy": "2024-12-03T19:29:56.248375Z",
     "iopub.status.idle": "2024-12-03T19:31:35.882956Z",
     "shell.execute_reply": "2024-12-03T19:31:35.881806Z",
     "shell.execute_reply.started": "2024-12-03T19:29:56.248664Z"
    },
    "tags": []
   },
   "outputs": [
    {
     "data": {
      "application/vnd.jupyter.widget-view+json": {
       "model_id": "c27463b79eac4650921725118dcb0ee2",
       "version_major": 2,
       "version_minor": 0
      },
      "text/plain": [
       "VBox()"
      ]
     },
     "metadata": {},
     "output_type": "display_data"
    },
    {
     "data": {
      "application/vnd.jupyter.widget-view+json": {
       "model_id": "",
       "version_major": 2,
       "version_minor": 0
      },
      "text/plain": [
       "FloatProgress(value=0.0, bar_style='info', description='Progress:', layout=Layout(height='25px', width='50%'),…"
      ]
     },
     "metadata": {},
     "output_type": "display_data"
    },
    {
     "name": "stdout",
     "output_type": "stream",
     "text": [
      "(Row(Movies='Harry Potter and the Deathly Hallows: Part 2', Rating=8.1), Row(Movies='Harry Potter and the Chamber of Secrets', Rating=7.4))"
     ]
    }
   ],
   "source": [
    "top = ans.sort(\n",
    "    col('Rating').desc()\n",
    ").limit(1).collect()[0]\n",
    "\n",
    "bottom = ans.sort(\n",
    "    col('Rating').asc()\n",
    ").limit(1).collect()[0]\n",
    "\n",
    "top, bottom"
   ]
  },
  {
   "cell_type": "code",
   "execution_count": 144,
   "metadata": {
    "execution": {
     "iopub.execute_input": "2024-12-03T19:32:40.845802Z",
     "iopub.status.busy": "2024-12-03T19:32:40.845472Z",
     "iopub.status.idle": "2024-12-03T19:32:40.915049Z",
     "shell.execute_reply": "2024-12-03T19:32:40.913587Z",
     "shell.execute_reply.started": "2024-12-03T19:32:40.845773Z"
    },
    "tags": []
   },
   "outputs": [
    {
     "data": {
      "application/vnd.jupyter.widget-view+json": {
       "model_id": "711e2e849bf340d99f0f885e47db56cf",
       "version_major": 2,
       "version_minor": 0
      },
      "text/plain": [
       "VBox()"
      ]
     },
     "metadata": {},
     "output_type": "display_data"
    },
    {
     "data": {
      "application/vnd.jupyter.widget-view+json": {
       "model_id": "",
       "version_major": 2,
       "version_minor": 0
      },
      "text/plain": [
       "FloatProgress(value=0.0, bar_style='info', description='Progress:', layout=Layout(height='25px', width='50%'),…"
      ]
     },
     "metadata": {},
     "output_type": "display_data"
    },
    {
     "name": "stdout",
     "output_type": "stream",
     "text": [
      "answer to the question #9:\n",
      "\n",
      "Highest Rating in the Harry Potter Franchise: Harry Potter and the Deathly Hallows: Part 2 with a rating of 8.1\n",
      "Lowest Rating in the Harry Potter Franchise: Harry Potter and the Chamber of Secrets with a rating of 7.4"
     ]
    }
   ],
   "source": [
    "# answer\n",
    "\n",
    "print('answer to the question #9:\\n')\n",
    "\n",
    "print('Highest Rating in the Harry Potter Franchise:', top[0], 'with a rating of', top[1])\n",
    "print('Lowest Rating in the Harry Potter Franchise:', bottom[0], 'with a rating of', bottom[1])"
   ]
  }
 ],
 "metadata": {
  "colab": {
   "provenance": [],
   "toc_visible": true
  },
  "kernelspec": {
   "display_name": "Python 3 (ipykernel)",
   "language": "python",
   "name": "python3"
  },
  "language_info": {
   "codemirror_mode": {
    "name": "ipython",
    "version": 3
   },
   "file_extension": ".py",
   "mimetype": "text/x-python",
   "name": "python",
   "nbconvert_exporter": "python",
   "pygments_lexer": "ipython3",
   "version": "3.11.9"
  }
 },
 "nbformat": 4,
 "nbformat_minor": 4
}
